{
 "cells": [
  {
   "cell_type": "code",
   "execution_count": 4,
   "metadata": {
    "_cell_guid": "b1076dfc-b9ad-4769-8c92-a6c4dae69d19",
    "_uuid": "8f2839f25d086af736a60e9eeb907d3b93b6e0e5",
    "execution": {
     "iopub.execute_input": "2023-07-22T15:15:30.251912Z",
     "iopub.status.busy": "2023-07-22T15:15:30.251455Z",
     "iopub.status.idle": "2023-07-22T15:15:30.267358Z",
     "shell.execute_reply": "2023-07-22T15:15:30.266313Z",
     "shell.execute_reply.started": "2023-07-22T15:15:30.251878Z"
    }
   },
   "outputs": [
    {
     "name": "stdout",
     "output_type": "stream",
     "text": [
      "/kaggle/input/grid-search/best_model_svd.pkl\n",
      "/kaggle/input/edsa-movie-recommendation-predict/sample_submission.csv\n",
      "/kaggle/input/edsa-movie-recommendation-predict/movies.csv\n",
      "/kaggle/input/edsa-movie-recommendation-predict/imdb_data.csv\n",
      "/kaggle/input/edsa-movie-recommendation-predict/genome_tags.csv\n",
      "/kaggle/input/edsa-movie-recommendation-predict/genome_scores.csv\n",
      "/kaggle/input/edsa-movie-recommendation-predict/train.csv\n",
      "/kaggle/input/edsa-movie-recommendation-predict/test.csv\n",
      "/kaggle/input/edsa-movie-recommendation-predict/tags.csv\n",
      "/kaggle/input/edsa-movie-recommendation-predict/links.csv\n"
     ]
    }
   ],
   "source": [
    "# This Python 3 environment comes with many helpful analytics libraries installed\n",
    "# It is defined by the kaggle/python Docker image: https://github.com/kaggle/docker-python\n",
    "# For example, here's several helpful packages to load\n",
    "\n",
    "import numpy as np # linear algebra\n",
    "import pandas as pd # data processing, CSV file I/O (e.g. pd.read_csv)\n",
    "\n",
    "# Input data files are available in the read-only \"../input/\" directory\n",
    "# For example, running this (by clicking run or pressing Shift+Enter) will list all files under the input directory\n",
    "\n",
    "import os\n",
    "for dirname, _, filenames in os.walk('/kaggle/input'):\n",
    "    for filename in filenames:\n",
    "        print(os.path.join(dirname, filename))\n",
    "\n",
    "# You can write up to 20GB to the current directory (/kaggle/working/) that gets preserved as output when you create a version using \"Save & Run All\" \n",
    "# You can also write temporary files to /kaggle/temp/, but they won't be saved outside of the current session"
   ]
  },
  {
   "cell_type": "code",
   "execution_count": 1,
   "metadata": {
    "execution": {
     "iopub.execute_input": "2023-07-22T15:14:20.339603Z",
     "iopub.status.busy": "2023-07-22T15:14:20.339183Z",
     "iopub.status.idle": "2023-07-22T15:14:35.515644Z",
     "shell.execute_reply": "2023-07-22T15:14:35.514211Z",
     "shell.execute_reply.started": "2023-07-22T15:14:20.339571Z"
    }
   },
   "outputs": [
    {
     "name": "stdout",
     "output_type": "stream",
     "text": [
      "Collecting comet_ml\n",
      "  Downloading comet_ml-3.33.6-py3-none-any.whl (549 kB)\n",
      "\u001b[2K     \u001b[90m━━━━━━━━━━━━━━━━━━━━━━━━━━━━━━━━━━━━━━━\u001b[0m \u001b[32m549.6/549.6 kB\u001b[0m \u001b[31m9.2 MB/s\u001b[0m eta \u001b[36m0:00:00\u001b[0ma \u001b[36m0:00:01\u001b[0m\n",
      "\u001b[?25hRequirement already satisfied: jsonschema!=3.1.0,>=2.6.0 in /opt/conda/lib/python3.10/site-packages (from comet_ml) (4.17.3)\n",
      "Requirement already satisfied: psutil>=5.6.3 in /opt/conda/lib/python3.10/site-packages (from comet_ml) (5.9.3)\n",
      "Collecting python-box<7.0.0 (from comet_ml)\n",
      "  Downloading python_box-6.1.0-cp310-cp310-manylinux_2_17_x86_64.manylinux2014_x86_64.whl (3.3 MB)\n",
      "\u001b[2K     \u001b[90m━━━━━━━━━━━━━━━━━━━━━━━━━━━━━━━━━━━━━━━━\u001b[0m \u001b[32m3.3/3.3 MB\u001b[0m \u001b[31m60.4 MB/s\u001b[0m eta \u001b[36m0:00:00\u001b[0m:00:01\u001b[0m\n",
      "\u001b[?25hRequirement already satisfied: requests-toolbelt>=0.8.0 in /opt/conda/lib/python3.10/site-packages (from comet_ml) (0.10.1)\n",
      "Requirement already satisfied: requests>=2.18.4 in /opt/conda/lib/python3.10/site-packages (from comet_ml) (2.31.0)\n",
      "Collecting semantic-version>=2.8.0 (from comet_ml)\n",
      "  Downloading semantic_version-2.10.0-py2.py3-none-any.whl (15 kB)\n",
      "Requirement already satisfied: sentry-sdk>=1.1.0 in /opt/conda/lib/python3.10/site-packages (from comet_ml) (1.27.1)\n",
      "Requirement already satisfied: simplejson in /opt/conda/lib/python3.10/site-packages (from comet_ml) (3.19.1)\n",
      "Requirement already satisfied: six in /opt/conda/lib/python3.10/site-packages (from comet_ml) (1.16.0)\n",
      "Requirement already satisfied: urllib3>=1.21.1 in /opt/conda/lib/python3.10/site-packages (from comet_ml) (1.26.15)\n",
      "Collecting websocket-client<1.4.0,>=0.55.0 (from comet_ml)\n",
      "  Downloading websocket_client-1.3.3-py3-none-any.whl (54 kB)\n",
      "\u001b[2K     \u001b[90m━━━━━━━━━━━━━━━━━━━━━━━━━━━━━━━━━━━━━━━━\u001b[0m \u001b[32m54.3/54.3 kB\u001b[0m \u001b[31m5.5 MB/s\u001b[0m eta \u001b[36m0:00:00\u001b[0m\n",
      "\u001b[?25hRequirement already satisfied: wrapt>=1.11.2 in /opt/conda/lib/python3.10/site-packages (from comet_ml) (1.14.1)\n",
      "Requirement already satisfied: wurlitzer>=1.0.2 in /opt/conda/lib/python3.10/site-packages (from comet_ml) (3.0.3)\n",
      "Collecting everett[ini]<3.2.0,>=1.0.1 (from comet_ml)\n",
      "  Downloading everett-3.1.0-py2.py3-none-any.whl (35 kB)\n",
      "Collecting dulwich!=0.20.33,>=0.20.6 (from comet_ml)\n",
      "  Downloading dulwich-0.21.5-cp310-cp310-manylinux_2_17_x86_64.manylinux2014_x86_64.whl (510 kB)\n",
      "\u001b[2K     \u001b[90m━━━━━━━━━━━━━━━━━━━━━━━━━━━━━━━━━━━━━━\u001b[0m \u001b[32m510.1/510.1 kB\u001b[0m \u001b[31m35.0 MB/s\u001b[0m eta \u001b[36m0:00:00\u001b[0m\n",
      "\u001b[?25hRequirement already satisfied: rich>=13.3.2 in /opt/conda/lib/python3.10/site-packages (from comet_ml) (13.4.2)\n",
      "Collecting configobj (from everett[ini]<3.2.0,>=1.0.1->comet_ml)\n",
      "  Downloading configobj-5.0.8-py2.py3-none-any.whl (36 kB)\n",
      "Requirement already satisfied: attrs>=17.4.0 in /opt/conda/lib/python3.10/site-packages (from jsonschema!=3.1.0,>=2.6.0->comet_ml) (23.1.0)\n",
      "Requirement already satisfied: pyrsistent!=0.17.0,!=0.17.1,!=0.17.2,>=0.14.0 in /opt/conda/lib/python3.10/site-packages (from jsonschema!=3.1.0,>=2.6.0->comet_ml) (0.19.3)\n",
      "Requirement already satisfied: charset-normalizer<4,>=2 in /opt/conda/lib/python3.10/site-packages (from requests>=2.18.4->comet_ml) (3.1.0)\n",
      "Requirement already satisfied: idna<4,>=2.5 in /opt/conda/lib/python3.10/site-packages (from requests>=2.18.4->comet_ml) (3.4)\n",
      "Requirement already satisfied: certifi>=2017.4.17 in /opt/conda/lib/python3.10/site-packages (from requests>=2.18.4->comet_ml) (2023.5.7)\n",
      "Requirement already satisfied: markdown-it-py>=2.2.0 in /opt/conda/lib/python3.10/site-packages (from rich>=13.3.2->comet_ml) (2.2.0)\n",
      "Requirement already satisfied: pygments<3.0.0,>=2.13.0 in /opt/conda/lib/python3.10/site-packages (from rich>=13.3.2->comet_ml) (2.15.1)\n",
      "Requirement already satisfied: mdurl~=0.1 in /opt/conda/lib/python3.10/site-packages (from markdown-it-py>=2.2.0->rich>=13.3.2->comet_ml) (0.1.2)\n",
      "Installing collected packages: everett, websocket-client, semantic-version, python-box, dulwich, configobj, comet_ml\n",
      "  Attempting uninstall: websocket-client\n",
      "    Found existing installation: websocket-client 1.6.0\n",
      "    Uninstalling websocket-client-1.6.0:\n",
      "      Successfully uninstalled websocket-client-1.6.0\n",
      "\u001b[31mERROR: pip's dependency resolver does not currently take into account all the packages that are installed. This behaviour is the source of the following dependency conflicts.\n",
      "jupyterlab-lsp 4.2.0 requires jupyter-lsp>=2.0.0, but you have jupyter-lsp 1.5.1 which is incompatible.\u001b[0m\u001b[31m\n",
      "\u001b[0mSuccessfully installed comet_ml-3.33.6 configobj-5.0.8 dulwich-0.21.5 everett-3.1.0 python-box-6.1.0 semantic-version-2.10.0 websocket-client-1.3.3\n"
     ]
    }
   ],
   "source": [
    "!pip install comet_ml"
   ]
  },
  {
   "cell_type": "code",
   "execution_count": 51,
   "metadata": {
    "execution": {
     "iopub.execute_input": "2023-07-22T17:24:29.393300Z",
     "iopub.status.busy": "2023-07-22T17:24:29.392827Z",
     "iopub.status.idle": "2023-07-22T17:24:36.101225Z",
     "shell.execute_reply": "2023-07-22T17:24:36.100282Z",
     "shell.execute_reply.started": "2023-07-22T17:24:29.393265Z"
    }
   },
   "outputs": [
    {
     "name": "stderr",
     "output_type": "stream",
     "text": [
      "\u001b[1;38;5;214mCOMET WARNING:\u001b[0m To get all data logged automatically, import comet_ml before the following modules: sklearn.\n",
      "\u001b[1;38;5;214mCOMET WARNING:\u001b[0m As you are running in a Jupyter environment, you will need to call `experiment.end()` when finished to ensure all metrics and code are logged before exiting.\n",
      "\u001b[1;38;5;39mCOMET INFO:\u001b[0m Couldn't find a Git repository in '/kaggle/working' nor in any parent directory. Set `COMET_GIT_DIRECTORY` if your Git Repository is elsewhere.\n",
      "\u001b[1;38;5;39mCOMET INFO:\u001b[0m Experiment is live on comet.com https://www.comet.com/onyekaekesi/gridsearchcv-model/320896ee2c4f43c1be3238e3600d08c6\n",
      "\n"
     ]
    }
   ],
   "source": [
    "from comet_ml import Experiment\n",
    "from comet_ml.integration.pytorch import log_model\n",
    "\n",
    "experiment = Experiment(\n",
    "  api_key = \"3uxi9A8PitoagJExAPVWwzIDY\",\n",
    "  project_name = \"gridsearchCV_model\",\n",
    "  workspace=\"onyekaekesi\"\n",
    ")"
   ]
  },
  {
   "cell_type": "code",
   "execution_count": 5,
   "metadata": {
    "execution": {
     "iopub.execute_input": "2023-07-22T15:15:43.609960Z",
     "iopub.status.busy": "2023-07-22T15:15:43.609435Z",
     "iopub.status.idle": "2023-07-22T15:15:43.622937Z",
     "shell.execute_reply": "2023-07-22T15:15:43.621414Z",
     "shell.execute_reply.started": "2023-07-22T15:15:43.609918Z"
    }
   },
   "outputs": [
    {
     "data": {
      "text/html": [
       "        <script type=\"text/javascript\">\n",
       "        window.PlotlyConfig = {MathJaxConfig: 'local'};\n",
       "        if (window.MathJax && window.MathJax.Hub && window.MathJax.Hub.Config) {window.MathJax.Hub.Config({SVG: {font: \"STIX-Web\"}});}\n",
       "        if (typeof require !== 'undefined') {\n",
       "        require.undef(\"plotly\");\n",
       "        requirejs.config({\n",
       "            paths: {\n",
       "                'plotly': ['https://cdn.plot.ly/plotly-2.24.1.min']\n",
       "            }\n",
       "        });\n",
       "        require(['plotly'], function(Plotly) {\n",
       "            window._Plotly = Plotly;\n",
       "        });\n",
       "        }\n",
       "        </script>\n",
       "        "
      ]
     },
     "metadata": {},
     "output_type": "display_data"
    }
   ],
   "source": [
    "import cufflinks as cf\n",
    "from sklearn import preprocessing\n",
    "from sklearn.decomposition import PCA\n",
    "from sklearn.model_selection import train_test_split\n",
    "\n",
    "from sklearn.ensemble import RandomForestRegressor\n",
    "\n",
    "import matplotlib.pyplot as plt\n",
    "import seaborn as sns\n",
    "%matplotlib inline\n",
    "# Entity featurization and similarity computation\n",
    "from sklearn.metrics.pairwise import cosine_similarity\n",
    "from sklearn.feature_extraction.text import TfidfVectorizer\n",
    "\n",
    "# Libraries used during sorting procedures.\n",
    "import operator # <-- Convienient item retrieval during iteration \n",
    "import heapq # <-- Efficient sorting of large lists\n",
    "\n",
    "sns.set(style='whitegrid', palette='muted',\n",
    "        rc={'figure.figsize': (15,10)})\n",
    "\n",
    "from plotly.offline import download_plotlyjs, init_notebook_mode, plot, iplot\n",
    "init_notebook_mode(connected=True)"
   ]
  },
  {
   "cell_type": "code",
   "execution_count": 7,
   "metadata": {
    "execution": {
     "iopub.execute_input": "2023-07-22T15:17:10.514967Z",
     "iopub.status.busy": "2023-07-22T15:17:10.514503Z",
     "iopub.status.idle": "2023-07-22T15:17:10.610810Z",
     "shell.execute_reply": "2023-07-22T15:17:10.609789Z",
     "shell.execute_reply.started": "2023-07-22T15:17:10.514933Z"
    }
   },
   "outputs": [
    {
     "data": {
      "text/html": [
       "<div>\n",
       "<style scoped>\n",
       "    .dataframe tbody tr th:only-of-type {\n",
       "        vertical-align: middle;\n",
       "    }\n",
       "\n",
       "    .dataframe tbody tr th {\n",
       "        vertical-align: top;\n",
       "    }\n",
       "\n",
       "    .dataframe thead th {\n",
       "        text-align: right;\n",
       "    }\n",
       "</style>\n",
       "<table border=\"1\" class=\"dataframe\">\n",
       "  <thead>\n",
       "    <tr style=\"text-align: right;\">\n",
       "      <th></th>\n",
       "      <th>movieId</th>\n",
       "      <th>title</th>\n",
       "      <th>genres</th>\n",
       "    </tr>\n",
       "  </thead>\n",
       "  <tbody>\n",
       "    <tr>\n",
       "      <th>0</th>\n",
       "      <td>1</td>\n",
       "      <td>Toy Story (1995)</td>\n",
       "      <td>Adventure|Animation|Children|Comedy|Fantasy</td>\n",
       "    </tr>\n",
       "    <tr>\n",
       "      <th>1</th>\n",
       "      <td>2</td>\n",
       "      <td>Jumanji (1995)</td>\n",
       "      <td>Adventure|Children|Fantasy</td>\n",
       "    </tr>\n",
       "    <tr>\n",
       "      <th>2</th>\n",
       "      <td>3</td>\n",
       "      <td>Grumpier Old Men (1995)</td>\n",
       "      <td>Comedy|Romance</td>\n",
       "    </tr>\n",
       "  </tbody>\n",
       "</table>\n",
       "</div>"
      ],
      "text/plain": [
       "   movieId                    title  \\\n",
       "0        1         Toy Story (1995)   \n",
       "1        2           Jumanji (1995)   \n",
       "2        3  Grumpier Old Men (1995)   \n",
       "\n",
       "                                        genres  \n",
       "0  Adventure|Animation|Children|Comedy|Fantasy  \n",
       "1                   Adventure|Children|Fantasy  \n",
       "2                               Comedy|Romance  "
      ]
     },
     "execution_count": 7,
     "metadata": {},
     "output_type": "execute_result"
    }
   ],
   "source": [
    "movies = pd.read_csv(\"/kaggle/input/edsa-movie-recommendation-predict/movies.csv\")\n",
    "movies.head(3)"
   ]
  },
  {
   "cell_type": "code",
   "execution_count": 8,
   "metadata": {
    "execution": {
     "iopub.execute_input": "2023-07-22T15:17:14.131078Z",
     "iopub.status.busy": "2023-07-22T15:17:14.130495Z",
     "iopub.status.idle": "2023-07-22T15:17:15.287061Z",
     "shell.execute_reply": "2023-07-22T15:17:15.285817Z",
     "shell.execute_reply.started": "2023-07-22T15:17:14.131038Z"
    }
   },
   "outputs": [
    {
     "data": {
      "text/html": [
       "<div>\n",
       "<style scoped>\n",
       "    .dataframe tbody tr th:only-of-type {\n",
       "        vertical-align: middle;\n",
       "    }\n",
       "\n",
       "    .dataframe tbody tr th {\n",
       "        vertical-align: top;\n",
       "    }\n",
       "\n",
       "    .dataframe thead th {\n",
       "        text-align: right;\n",
       "    }\n",
       "</style>\n",
       "<table border=\"1\" class=\"dataframe\">\n",
       "  <thead>\n",
       "    <tr style=\"text-align: right;\">\n",
       "      <th></th>\n",
       "      <th>userId</th>\n",
       "      <th>movieId</th>\n",
       "      <th>tag</th>\n",
       "      <th>timestamp</th>\n",
       "    </tr>\n",
       "  </thead>\n",
       "  <tbody>\n",
       "    <tr>\n",
       "      <th>0</th>\n",
       "      <td>3</td>\n",
       "      <td>260</td>\n",
       "      <td>classic</td>\n",
       "      <td>1439472355</td>\n",
       "    </tr>\n",
       "    <tr>\n",
       "      <th>1</th>\n",
       "      <td>3</td>\n",
       "      <td>260</td>\n",
       "      <td>sci-fi</td>\n",
       "      <td>1439472256</td>\n",
       "    </tr>\n",
       "    <tr>\n",
       "      <th>2</th>\n",
       "      <td>4</td>\n",
       "      <td>1732</td>\n",
       "      <td>dark comedy</td>\n",
       "      <td>1573943598</td>\n",
       "    </tr>\n",
       "  </tbody>\n",
       "</table>\n",
       "</div>"
      ],
      "text/plain": [
       "   userId  movieId          tag   timestamp\n",
       "0       3      260      classic  1439472355\n",
       "1       3      260       sci-fi  1439472256\n",
       "2       4     1732  dark comedy  1573943598"
      ]
     },
     "execution_count": 8,
     "metadata": {},
     "output_type": "execute_result"
    }
   ],
   "source": [
    "tags = pd.read_csv('/kaggle/input/edsa-movie-recommendation-predict/tags.csv')\n",
    "tags.head(3)"
   ]
  },
  {
   "cell_type": "code",
   "execution_count": 9,
   "metadata": {
    "execution": {
     "iopub.execute_input": "2023-07-22T15:17:19.947512Z",
     "iopub.status.busy": "2023-07-22T15:17:19.947099Z",
     "iopub.status.idle": "2023-07-22T15:17:26.570882Z",
     "shell.execute_reply": "2023-07-22T15:17:26.569735Z",
     "shell.execute_reply.started": "2023-07-22T15:17:19.947480Z"
    }
   },
   "outputs": [
    {
     "data": {
      "text/html": [
       "<div>\n",
       "<style scoped>\n",
       "    .dataframe tbody tr th:only-of-type {\n",
       "        vertical-align: middle;\n",
       "    }\n",
       "\n",
       "    .dataframe tbody tr th {\n",
       "        vertical-align: top;\n",
       "    }\n",
       "\n",
       "    .dataframe thead th {\n",
       "        text-align: right;\n",
       "    }\n",
       "</style>\n",
       "<table border=\"1\" class=\"dataframe\">\n",
       "  <thead>\n",
       "    <tr style=\"text-align: right;\">\n",
       "      <th></th>\n",
       "      <th>userId</th>\n",
       "      <th>movieId</th>\n",
       "      <th>rating</th>\n",
       "      <th>timestamp</th>\n",
       "    </tr>\n",
       "  </thead>\n",
       "  <tbody>\n",
       "    <tr>\n",
       "      <th>0</th>\n",
       "      <td>5163</td>\n",
       "      <td>57669</td>\n",
       "      <td>4.0</td>\n",
       "      <td>1518349992</td>\n",
       "    </tr>\n",
       "    <tr>\n",
       "      <th>1</th>\n",
       "      <td>106343</td>\n",
       "      <td>5</td>\n",
       "      <td>4.5</td>\n",
       "      <td>1206238739</td>\n",
       "    </tr>\n",
       "    <tr>\n",
       "      <th>2</th>\n",
       "      <td>146790</td>\n",
       "      <td>5459</td>\n",
       "      <td>5.0</td>\n",
       "      <td>1076215539</td>\n",
       "    </tr>\n",
       "  </tbody>\n",
       "</table>\n",
       "</div>"
      ],
      "text/plain": [
       "   userId  movieId  rating   timestamp\n",
       "0    5163    57669     4.0  1518349992\n",
       "1  106343        5     4.5  1206238739\n",
       "2  146790     5459     5.0  1076215539"
      ]
     },
     "execution_count": 9,
     "metadata": {},
     "output_type": "execute_result"
    }
   ],
   "source": [
    "train = pd.read_csv('/kaggle/input/edsa-movie-recommendation-predict/train.csv')\n",
    "train.head(3)"
   ]
  },
  {
   "cell_type": "code",
   "execution_count": 10,
   "metadata": {
    "execution": {
     "iopub.execute_input": "2023-07-22T15:17:31.009833Z",
     "iopub.status.busy": "2023-07-22T15:17:31.009395Z",
     "iopub.status.idle": "2023-07-22T15:17:32.212846Z",
     "shell.execute_reply": "2023-07-22T15:17:32.211579Z",
     "shell.execute_reply.started": "2023-07-22T15:17:31.009797Z"
    }
   },
   "outputs": [
    {
     "data": {
      "text/html": [
       "<div>\n",
       "<style scoped>\n",
       "    .dataframe tbody tr th:only-of-type {\n",
       "        vertical-align: middle;\n",
       "    }\n",
       "\n",
       "    .dataframe tbody tr th {\n",
       "        vertical-align: top;\n",
       "    }\n",
       "\n",
       "    .dataframe thead th {\n",
       "        text-align: right;\n",
       "    }\n",
       "</style>\n",
       "<table border=\"1\" class=\"dataframe\">\n",
       "  <thead>\n",
       "    <tr style=\"text-align: right;\">\n",
       "      <th></th>\n",
       "      <th>userId</th>\n",
       "      <th>movieId</th>\n",
       "    </tr>\n",
       "  </thead>\n",
       "  <tbody>\n",
       "    <tr>\n",
       "      <th>0</th>\n",
       "      <td>1</td>\n",
       "      <td>2011</td>\n",
       "    </tr>\n",
       "    <tr>\n",
       "      <th>1</th>\n",
       "      <td>1</td>\n",
       "      <td>4144</td>\n",
       "    </tr>\n",
       "    <tr>\n",
       "      <th>2</th>\n",
       "      <td>1</td>\n",
       "      <td>5767</td>\n",
       "    </tr>\n",
       "  </tbody>\n",
       "</table>\n",
       "</div>"
      ],
      "text/plain": [
       "   userId  movieId\n",
       "0       1     2011\n",
       "1       1     4144\n",
       "2       1     5767"
      ]
     },
     "execution_count": 10,
     "metadata": {},
     "output_type": "execute_result"
    }
   ],
   "source": [
    "test = pd.read_csv('/kaggle/input/edsa-movie-recommendation-predict/test.csv')\n",
    "test.head(3)"
   ]
  },
  {
   "cell_type": "code",
   "execution_count": 11,
   "metadata": {
    "execution": {
     "iopub.execute_input": "2023-07-22T15:17:35.659645Z",
     "iopub.status.busy": "2023-07-22T15:17:35.659240Z",
     "iopub.status.idle": "2023-07-22T15:17:43.892341Z",
     "shell.execute_reply": "2023-07-22T15:17:43.890998Z",
     "shell.execute_reply.started": "2023-07-22T15:17:35.659613Z"
    }
   },
   "outputs": [
    {
     "data": {
      "text/html": [
       "<div>\n",
       "<style scoped>\n",
       "    .dataframe tbody tr th:only-of-type {\n",
       "        vertical-align: middle;\n",
       "    }\n",
       "\n",
       "    .dataframe tbody tr th {\n",
       "        vertical-align: top;\n",
       "    }\n",
       "\n",
       "    .dataframe thead th {\n",
       "        text-align: right;\n",
       "    }\n",
       "</style>\n",
       "<table border=\"1\" class=\"dataframe\">\n",
       "  <thead>\n",
       "    <tr style=\"text-align: right;\">\n",
       "      <th></th>\n",
       "      <th>movieId</th>\n",
       "      <th>tagId</th>\n",
       "      <th>relevance</th>\n",
       "    </tr>\n",
       "  </thead>\n",
       "  <tbody>\n",
       "    <tr>\n",
       "      <th>0</th>\n",
       "      <td>1</td>\n",
       "      <td>1</td>\n",
       "      <td>0.02875</td>\n",
       "    </tr>\n",
       "    <tr>\n",
       "      <th>1</th>\n",
       "      <td>1</td>\n",
       "      <td>2</td>\n",
       "      <td>0.02375</td>\n",
       "    </tr>\n",
       "    <tr>\n",
       "      <th>2</th>\n",
       "      <td>1</td>\n",
       "      <td>3</td>\n",
       "      <td>0.06250</td>\n",
       "    </tr>\n",
       "  </tbody>\n",
       "</table>\n",
       "</div>"
      ],
      "text/plain": [
       "   movieId  tagId  relevance\n",
       "0        1      1    0.02875\n",
       "1        1      2    0.02375\n",
       "2        1      3    0.06250"
      ]
     },
     "execution_count": 11,
     "metadata": {},
     "output_type": "execute_result"
    }
   ],
   "source": [
    "genome_score=pd.read_csv('/kaggle/input/edsa-movie-recommendation-predict/genome_scores.csv')\n",
    "genome_score.head(3)"
   ]
  },
  {
   "cell_type": "code",
   "execution_count": 13,
   "metadata": {
    "execution": {
     "iopub.execute_input": "2023-07-22T15:17:48.779848Z",
     "iopub.status.busy": "2023-07-22T15:17:48.779424Z",
     "iopub.status.idle": "2023-07-22T15:17:48.795177Z",
     "shell.execute_reply": "2023-07-22T15:17:48.793735Z",
     "shell.execute_reply.started": "2023-07-22T15:17:48.779814Z"
    }
   },
   "outputs": [
    {
     "data": {
      "text/html": [
       "<div>\n",
       "<style scoped>\n",
       "    .dataframe tbody tr th:only-of-type {\n",
       "        vertical-align: middle;\n",
       "    }\n",
       "\n",
       "    .dataframe tbody tr th {\n",
       "        vertical-align: top;\n",
       "    }\n",
       "\n",
       "    .dataframe thead th {\n",
       "        text-align: right;\n",
       "    }\n",
       "</style>\n",
       "<table border=\"1\" class=\"dataframe\">\n",
       "  <thead>\n",
       "    <tr style=\"text-align: right;\">\n",
       "      <th></th>\n",
       "      <th>tagId</th>\n",
       "      <th>tag</th>\n",
       "    </tr>\n",
       "  </thead>\n",
       "  <tbody>\n",
       "    <tr>\n",
       "      <th>0</th>\n",
       "      <td>1</td>\n",
       "      <td>007</td>\n",
       "    </tr>\n",
       "    <tr>\n",
       "      <th>1</th>\n",
       "      <td>2</td>\n",
       "      <td>007 (series)</td>\n",
       "    </tr>\n",
       "    <tr>\n",
       "      <th>2</th>\n",
       "      <td>3</td>\n",
       "      <td>18th century</td>\n",
       "    </tr>\n",
       "  </tbody>\n",
       "</table>\n",
       "</div>"
      ],
      "text/plain": [
       "   tagId           tag\n",
       "0      1           007\n",
       "1      2  007 (series)\n",
       "2      3  18th century"
      ]
     },
     "execution_count": 13,
     "metadata": {},
     "output_type": "execute_result"
    }
   ],
   "source": [
    "genome_tags=pd.read_csv('/kaggle/input/edsa-movie-recommendation-predict/genome_tags.csv')\n",
    "genome_tags.head(3)"
   ]
  },
  {
   "cell_type": "code",
   "execution_count": 14,
   "metadata": {
    "execution": {
     "iopub.execute_input": "2023-07-22T15:17:55.715626Z",
     "iopub.status.busy": "2023-07-22T15:17:55.715195Z",
     "iopub.status.idle": "2023-07-22T15:17:55.878884Z",
     "shell.execute_reply": "2023-07-22T15:17:55.877687Z",
     "shell.execute_reply.started": "2023-07-22T15:17:55.715595Z"
    }
   },
   "outputs": [
    {
     "data": {
      "text/html": [
       "<div>\n",
       "<style scoped>\n",
       "    .dataframe tbody tr th:only-of-type {\n",
       "        vertical-align: middle;\n",
       "    }\n",
       "\n",
       "    .dataframe tbody tr th {\n",
       "        vertical-align: top;\n",
       "    }\n",
       "\n",
       "    .dataframe thead th {\n",
       "        text-align: right;\n",
       "    }\n",
       "</style>\n",
       "<table border=\"1\" class=\"dataframe\">\n",
       "  <thead>\n",
       "    <tr style=\"text-align: right;\">\n",
       "      <th></th>\n",
       "      <th>movieId</th>\n",
       "      <th>title_cast</th>\n",
       "      <th>director</th>\n",
       "      <th>runtime</th>\n",
       "      <th>budget</th>\n",
       "      <th>plot_keywords</th>\n",
       "    </tr>\n",
       "  </thead>\n",
       "  <tbody>\n",
       "    <tr>\n",
       "      <th>0</th>\n",
       "      <td>1</td>\n",
       "      <td>Tom Hanks|Tim Allen|Don Rickles|Jim Varney|Wal...</td>\n",
       "      <td>John Lasseter</td>\n",
       "      <td>81.0</td>\n",
       "      <td>$30,000,000</td>\n",
       "      <td>toy|rivalry|cowboy|cgi animation</td>\n",
       "    </tr>\n",
       "    <tr>\n",
       "      <th>1</th>\n",
       "      <td>2</td>\n",
       "      <td>Robin Williams|Jonathan Hyde|Kirsten Dunst|Bra...</td>\n",
       "      <td>Jonathan Hensleigh</td>\n",
       "      <td>104.0</td>\n",
       "      <td>$65,000,000</td>\n",
       "      <td>board game|adventurer|fight|game</td>\n",
       "    </tr>\n",
       "    <tr>\n",
       "      <th>2</th>\n",
       "      <td>3</td>\n",
       "      <td>Walter Matthau|Jack Lemmon|Sophia Loren|Ann-Ma...</td>\n",
       "      <td>Mark Steven Johnson</td>\n",
       "      <td>101.0</td>\n",
       "      <td>$25,000,000</td>\n",
       "      <td>boat|lake|neighbor|rivalry</td>\n",
       "    </tr>\n",
       "  </tbody>\n",
       "</table>\n",
       "</div>"
      ],
      "text/plain": [
       "   movieId                                         title_cast  \\\n",
       "0        1  Tom Hanks|Tim Allen|Don Rickles|Jim Varney|Wal...   \n",
       "1        2  Robin Williams|Jonathan Hyde|Kirsten Dunst|Bra...   \n",
       "2        3  Walter Matthau|Jack Lemmon|Sophia Loren|Ann-Ma...   \n",
       "\n",
       "              director  runtime       budget                     plot_keywords  \n",
       "0        John Lasseter     81.0  $30,000,000  toy|rivalry|cowboy|cgi animation  \n",
       "1   Jonathan Hensleigh    104.0  $65,000,000  board game|adventurer|fight|game  \n",
       "2  Mark Steven Johnson    101.0  $25,000,000        boat|lake|neighbor|rivalry  "
      ]
     },
     "execution_count": 14,
     "metadata": {},
     "output_type": "execute_result"
    }
   ],
   "source": [
    "imdb_data=pd.read_csv('/kaggle/input/edsa-movie-recommendation-predict/imdb_data.csv')\n",
    "imdb_data.head(3)"
   ]
  },
  {
   "cell_type": "code",
   "execution_count": 15,
   "metadata": {
    "execution": {
     "iopub.execute_input": "2023-07-22T15:18:00.305770Z",
     "iopub.status.busy": "2023-07-22T15:18:00.305375Z",
     "iopub.status.idle": "2023-07-22T15:18:00.358757Z",
     "shell.execute_reply": "2023-07-22T15:18:00.357577Z",
     "shell.execute_reply.started": "2023-07-22T15:18:00.305740Z"
    }
   },
   "outputs": [
    {
     "data": {
      "text/html": [
       "<div>\n",
       "<style scoped>\n",
       "    .dataframe tbody tr th:only-of-type {\n",
       "        vertical-align: middle;\n",
       "    }\n",
       "\n",
       "    .dataframe tbody tr th {\n",
       "        vertical-align: top;\n",
       "    }\n",
       "\n",
       "    .dataframe thead th {\n",
       "        text-align: right;\n",
       "    }\n",
       "</style>\n",
       "<table border=\"1\" class=\"dataframe\">\n",
       "  <thead>\n",
       "    <tr style=\"text-align: right;\">\n",
       "      <th></th>\n",
       "      <th>movieId</th>\n",
       "      <th>imdbId</th>\n",
       "      <th>tmdbId</th>\n",
       "    </tr>\n",
       "  </thead>\n",
       "  <tbody>\n",
       "    <tr>\n",
       "      <th>0</th>\n",
       "      <td>1</td>\n",
       "      <td>114709</td>\n",
       "      <td>862.0</td>\n",
       "    </tr>\n",
       "    <tr>\n",
       "      <th>1</th>\n",
       "      <td>2</td>\n",
       "      <td>113497</td>\n",
       "      <td>8844.0</td>\n",
       "    </tr>\n",
       "    <tr>\n",
       "      <th>2</th>\n",
       "      <td>3</td>\n",
       "      <td>113228</td>\n",
       "      <td>15602.0</td>\n",
       "    </tr>\n",
       "  </tbody>\n",
       "</table>\n",
       "</div>"
      ],
      "text/plain": [
       "   movieId  imdbId   tmdbId\n",
       "0        1  114709    862.0\n",
       "1        2  113497   8844.0\n",
       "2        3  113228  15602.0"
      ]
     },
     "execution_count": 15,
     "metadata": {},
     "output_type": "execute_result"
    }
   ],
   "source": [
    "links=pd.read_csv('/kaggle/input/edsa-movie-recommendation-predict/links.csv')\n",
    "links.head(3)"
   ]
  },
  {
   "cell_type": "code",
   "execution_count": 16,
   "metadata": {
    "execution": {
     "iopub.execute_input": "2023-07-22T15:18:03.749261Z",
     "iopub.status.busy": "2023-07-22T15:18:03.748847Z",
     "iopub.status.idle": "2023-07-22T15:18:03.755669Z",
     "shell.execute_reply": "2023-07-22T15:18:03.754465Z",
     "shell.execute_reply.started": "2023-07-22T15:18:03.749227Z"
    }
   },
   "outputs": [
    {
     "name": "stdout",
     "output_type": "stream",
     "text": [
      "genome_score: (15584448, 3)\n",
      "genome_tags: (1128, 2)\n",
      "imdb_data: (27278, 6)\n",
      "links: (62423, 3)\n"
     ]
    }
   ],
   "source": [
    "print('genome_score:', genome_score.shape)\n",
    "print('genome_tags:', genome_tags.shape)\n",
    "print('imdb_data:', imdb_data.shape)\n",
    "print('links:', links.shape)"
   ]
  },
  {
   "cell_type": "code",
   "execution_count": 17,
   "metadata": {
    "execution": {
     "iopub.execute_input": "2023-07-22T15:18:13.029797Z",
     "iopub.status.busy": "2023-07-22T15:18:13.029369Z",
     "iopub.status.idle": "2023-07-22T15:18:13.035680Z",
     "shell.execute_reply": "2023-07-22T15:18:13.034544Z",
     "shell.execute_reply.started": "2023-07-22T15:18:13.029765Z"
    }
   },
   "outputs": [
    {
     "name": "stdout",
     "output_type": "stream",
     "text": [
      "movies: (62423, 3)\n",
      "tags: (1093360, 4)\n",
      "train: (10000038, 4)\n",
      "test: (5000019, 2)\n"
     ]
    }
   ],
   "source": [
    "print('movies:', movies.shape)\n",
    "print('tags:', tags.shape)\n",
    "print('train:', train.shape)\n",
    "print('test:', test.shape)"
   ]
  },
  {
   "cell_type": "code",
   "execution_count": 18,
   "metadata": {
    "execution": {
     "iopub.execute_input": "2023-07-22T15:18:17.518227Z",
     "iopub.status.busy": "2023-07-22T15:18:17.517752Z",
     "iopub.status.idle": "2023-07-22T15:18:17.578727Z",
     "shell.execute_reply": "2023-07-22T15:18:17.577507Z",
     "shell.execute_reply.started": "2023-07-22T15:18:17.518189Z"
    }
   },
   "outputs": [
    {
     "data": {
      "text/plain": [
       "userId       0\n",
       "movieId      0\n",
       "rating       0\n",
       "timestamp    0\n",
       "dtype: int64"
      ]
     },
     "execution_count": 18,
     "metadata": {},
     "output_type": "execute_result"
    }
   ],
   "source": [
    "train.isnull().sum()"
   ]
  },
  {
   "cell_type": "code",
   "execution_count": 19,
   "metadata": {
    "execution": {
     "iopub.execute_input": "2023-07-22T15:18:21.450273Z",
     "iopub.status.busy": "2023-07-22T15:18:21.449333Z",
     "iopub.status.idle": "2023-07-22T15:18:23.121382Z",
     "shell.execute_reply": "2023-07-22T15:18:23.119991Z",
     "shell.execute_reply.started": "2023-07-22T15:18:21.450229Z"
    }
   },
   "outputs": [
    {
     "data": {
      "text/html": [
       "<div>\n",
       "<style scoped>\n",
       "    .dataframe tbody tr th:only-of-type {\n",
       "        vertical-align: middle;\n",
       "    }\n",
       "\n",
       "    .dataframe tbody tr th {\n",
       "        vertical-align: top;\n",
       "    }\n",
       "\n",
       "    .dataframe thead th {\n",
       "        text-align: right;\n",
       "    }\n",
       "</style>\n",
       "<table border=\"1\" class=\"dataframe\">\n",
       "  <thead>\n",
       "    <tr style=\"text-align: right;\">\n",
       "      <th></th>\n",
       "      <th>userId</th>\n",
       "      <th>movieId</th>\n",
       "      <th>rating</th>\n",
       "      <th>timestamp</th>\n",
       "    </tr>\n",
       "  </thead>\n",
       "  <tbody>\n",
       "    <tr>\n",
       "      <th>count</th>\n",
       "      <td>1.000004e+07</td>\n",
       "      <td>1.000004e+07</td>\n",
       "      <td>1.000004e+07</td>\n",
       "      <td>1.000004e+07</td>\n",
       "    </tr>\n",
       "    <tr>\n",
       "      <th>mean</th>\n",
       "      <td>8.119909e+04</td>\n",
       "      <td>2.138911e+04</td>\n",
       "      <td>3.533395e+00</td>\n",
       "      <td>1.215677e+09</td>\n",
       "    </tr>\n",
       "    <tr>\n",
       "      <th>std</th>\n",
       "      <td>4.679359e+04</td>\n",
       "      <td>3.919578e+04</td>\n",
       "      <td>1.061124e+00</td>\n",
       "      <td>2.268921e+08</td>\n",
       "    </tr>\n",
       "    <tr>\n",
       "      <th>min</th>\n",
       "      <td>1.000000e+00</td>\n",
       "      <td>1.000000e+00</td>\n",
       "      <td>5.000000e-01</td>\n",
       "      <td>7.896520e+08</td>\n",
       "    </tr>\n",
       "    <tr>\n",
       "      <th>25%</th>\n",
       "      <td>4.051000e+04</td>\n",
       "      <td>1.197000e+03</td>\n",
       "      <td>3.000000e+00</td>\n",
       "      <td>1.011742e+09</td>\n",
       "    </tr>\n",
       "    <tr>\n",
       "      <th>50%</th>\n",
       "      <td>8.091400e+04</td>\n",
       "      <td>2.947000e+03</td>\n",
       "      <td>3.500000e+00</td>\n",
       "      <td>1.199019e+09</td>\n",
       "    </tr>\n",
       "    <tr>\n",
       "      <th>75%</th>\n",
       "      <td>1.215790e+05</td>\n",
       "      <td>8.630000e+03</td>\n",
       "      <td>4.000000e+00</td>\n",
       "      <td>1.447242e+09</td>\n",
       "    </tr>\n",
       "    <tr>\n",
       "      <th>max</th>\n",
       "      <td>1.625410e+05</td>\n",
       "      <td>2.091710e+05</td>\n",
       "      <td>5.000000e+00</td>\n",
       "      <td>1.574328e+09</td>\n",
       "    </tr>\n",
       "  </tbody>\n",
       "</table>\n",
       "</div>"
      ],
      "text/plain": [
       "             userId       movieId        rating     timestamp\n",
       "count  1.000004e+07  1.000004e+07  1.000004e+07  1.000004e+07\n",
       "mean   8.119909e+04  2.138911e+04  3.533395e+00  1.215677e+09\n",
       "std    4.679359e+04  3.919578e+04  1.061124e+00  2.268921e+08\n",
       "min    1.000000e+00  1.000000e+00  5.000000e-01  7.896520e+08\n",
       "25%    4.051000e+04  1.197000e+03  3.000000e+00  1.011742e+09\n",
       "50%    8.091400e+04  2.947000e+03  3.500000e+00  1.199019e+09\n",
       "75%    1.215790e+05  8.630000e+03  4.000000e+00  1.447242e+09\n",
       "max    1.625410e+05  2.091710e+05  5.000000e+00  1.574328e+09"
      ]
     },
     "execution_count": 19,
     "metadata": {},
     "output_type": "execute_result"
    }
   ],
   "source": [
    "train.describe()"
   ]
  },
  {
   "cell_type": "code",
   "execution_count": 20,
   "metadata": {
    "execution": {
     "iopub.execute_input": "2023-07-22T15:18:26.263640Z",
     "iopub.status.busy": "2023-07-22T15:18:26.263233Z",
     "iopub.status.idle": "2023-07-22T15:18:26.817999Z",
     "shell.execute_reply": "2023-07-22T15:18:26.816920Z",
     "shell.execute_reply.started": "2023-07-22T15:18:26.263606Z"
    }
   },
   "outputs": [
    {
     "data": {
      "text/plain": [
       "userId      -1.197634\n",
       "movieId      4.351014\n",
       "rating       0.221102\n",
       "timestamp   -1.316891\n",
       "dtype: float64"
      ]
     },
     "execution_count": 20,
     "metadata": {},
     "output_type": "execute_result"
    }
   ],
   "source": [
    "train.kurtosis()"
   ]
  },
  {
   "cell_type": "code",
   "execution_count": 21,
   "metadata": {
    "execution": {
     "iopub.execute_input": "2023-07-22T15:18:30.389614Z",
     "iopub.status.busy": "2023-07-22T15:18:30.389192Z",
     "iopub.status.idle": "2023-07-22T15:18:30.975155Z",
     "shell.execute_reply": "2023-07-22T15:18:30.973923Z",
     "shell.execute_reply.started": "2023-07-22T15:18:30.389582Z"
    }
   },
   "outputs": [
    {
     "data": {
      "text/plain": [
       "userId       0.007477\n",
       "movieId      2.200436\n",
       "rating      -0.703118\n",
       "timestamp   -0.017331\n",
       "dtype: float64"
      ]
     },
     "execution_count": 21,
     "metadata": {},
     "output_type": "execute_result"
    }
   ],
   "source": [
    "train.skew()"
   ]
  },
  {
   "cell_type": "code",
   "execution_count": 22,
   "metadata": {
    "execution": {
     "iopub.execute_input": "2023-07-22T15:18:34.110275Z",
     "iopub.status.busy": "2023-07-22T15:18:34.109741Z",
     "iopub.status.idle": "2023-07-22T15:18:35.894789Z",
     "shell.execute_reply": "2023-07-22T15:18:35.893868Z",
     "shell.execute_reply.started": "2023-07-22T15:18:34.110232Z"
    }
   },
   "outputs": [
    {
     "data": {
      "image/png": "[encoded data removed]",
      "text/plain": [
       "<Figure size 1500x1000 with 1 Axes>"
      ]
     },
     "metadata": {},
     "output_type": "display_data"
    },
    {
     "name": "stdout",
     "output_type": "stream",
     "text": [
      "Average rating in dataset: 3.5333951730983424\n"
     ]
    }
   ],
   "source": [
    "# Create the count plot\n",
    "sns.countplot(data=train, x='rating')\n",
    "\n",
    "# Customize the plot\n",
    "plt.xlabel('rating')\n",
    "plt.ylabel('Total number of ratings')\n",
    "plt.title('Total count of the number of ratings')\n",
    "plt.xticks(rotation=45)\n",
    "\n",
    "# Display the plot\n",
    "plt.show()\n",
    "print (f'Average rating in dataset: {np.mean(train[\"rating\"])}')"
   ]
  },
  {
   "cell_type": "markdown",
   "metadata": {},
   "source": [
    "## Pre-processing for performing content base filtering "
   ]
  },
  {
   "cell_type": "code",
   "execution_count": 23,
   "metadata": {
    "execution": {
     "iopub.execute_input": "2023-07-22T15:18:40.387536Z",
     "iopub.status.busy": "2023-07-22T15:18:40.387079Z",
     "iopub.status.idle": "2023-07-22T15:18:40.954315Z",
     "shell.execute_reply": "2023-07-22T15:18:40.952528Z",
     "shell.execute_reply.started": "2023-07-22T15:18:40.387503Z"
    }
   },
   "outputs": [
    {
     "name": "stdout",
     "output_type": "stream",
     "text": [
      "   userId  movieId  rating   timestamp  \\\n",
      "0    5163    57669     4.0  1518349992   \n",
      "1  106343        5     4.5  1206238739   \n",
      "2  146790     5459     5.0  1076215539   \n",
      "\n",
      "                                          title_cast             director  \n",
      "0  Tom Hanks|Tim Allen|Don Rickles|Jim Varney|Wal...        John Lasseter  \n",
      "1  Robin Williams|Jonathan Hyde|Kirsten Dunst|Bra...   Jonathan Hensleigh  \n",
      "2  Walter Matthau|Jack Lemmon|Sophia Loren|Ann-Ma...  Mark Steven Johnson  \n"
     ]
    }
   ],
   "source": [
    "# Columns to be added from imdb_data to train \n",
    "columns_to_add = ['title_cast', 'director']\n",
    "\n",
    "# Using pd.concat() to add columns\n",
    "train_df = pd.concat([train, imdb_data[columns_to_add]], axis=1)\n",
    "\n",
    "print(train_df.head(3))"
   ]
  },
  {
   "cell_type": "code",
   "execution_count": 24,
   "metadata": {
    "execution": {
     "iopub.execute_input": "2023-07-22T15:18:45.134136Z",
     "iopub.status.busy": "2023-07-22T15:18:45.133654Z",
     "iopub.status.idle": "2023-07-22T15:18:46.160788Z",
     "shell.execute_reply": "2023-07-22T15:18:46.159620Z",
     "shell.execute_reply.started": "2023-07-22T15:18:45.134102Z"
    }
   },
   "outputs": [
    {
     "name": "stdout",
     "output_type": "stream",
     "text": [
      "   userId  movieId  rating   timestamp  \\\n",
      "0    5163    57669     4.0  1518349992   \n",
      "1  106343        5     4.5  1206238739   \n",
      "2  146790     5459     5.0  1076215539   \n",
      "\n",
      "                                          title_cast             director  \\\n",
      "0  Tom Hanks|Tim Allen|Don Rickles|Jim Varney|Wal...        John Lasseter   \n",
      "1  Robin Williams|Jonathan Hyde|Kirsten Dunst|Bra...   Jonathan Hensleigh   \n",
      "2  Walter Matthau|Jack Lemmon|Sophia Loren|Ann-Ma...  Mark Steven Johnson   \n",
      "\n",
      "                     title                                       genres  \n",
      "0         Toy Story (1995)  Adventure|Animation|Children|Comedy|Fantasy  \n",
      "1           Jumanji (1995)                   Adventure|Children|Fantasy  \n",
      "2  Grumpier Old Men (1995)                               Comedy|Romance  \n"
     ]
    }
   ],
   "source": [
    "# Columns to be added from movies to train \n",
    "columns_to_add = ['title','genres']\n",
    "\n",
    "# Using pd.concat() to add columns\n",
    "train_df = pd.concat([train_df, movies[columns_to_add]], axis=1)\n",
    "\n",
    "print(train_df.head(3))"
   ]
  },
  {
   "cell_type": "code",
   "execution_count": 25,
   "metadata": {
    "execution": {
     "iopub.execute_input": "2023-07-22T15:18:53.731727Z",
     "iopub.status.busy": "2023-07-22T15:18:53.731303Z",
     "iopub.status.idle": "2023-07-22T15:18:55.816057Z",
     "shell.execute_reply": "2023-07-22T15:18:55.813970Z",
     "shell.execute_reply.started": "2023-07-22T15:18:53.731693Z"
    }
   },
   "outputs": [
    {
     "name": "stdout",
     "output_type": "stream",
     "text": [
      "DataFrame without duplicates:\n",
      "   userId  movieId  rating   timestamp  \\\n",
      "0    5163    57669     4.0  1518349992   \n",
      "1  106343        5     4.5  1206238739   \n",
      "2  146790     5459     5.0  1076215539   \n",
      "\n",
      "                                          title_cast             director  \\\n",
      "0  Tom Hanks|Tim Allen|Don Rickles|Jim Varney|Wal...        John Lasseter   \n",
      "1  Robin Williams|Jonathan Hyde|Kirsten Dunst|Bra...   Jonathan Hensleigh   \n",
      "2  Walter Matthau|Jack Lemmon|Sophia Loren|Ann-Ma...  Mark Steven Johnson   \n",
      "\n",
      "                     title                                       genres  \n",
      "0         Toy Story (1995)  Adventure|Animation|Children|Comedy|Fantasy  \n",
      "1           Jumanji (1995)                   Adventure|Children|Fantasy  \n",
      "2  Grumpier Old Men (1995)                               Comedy|Romance  \n"
     ]
    }
   ],
   "source": [
    "#search for dublicates in the train_df \n",
    "# Removing duplicates based on a subset of columns\n",
    "train_df = train_df.drop_duplicates(subset=['movieId'], keep='first')\n",
    "print(\"DataFrame without duplicates:\")\n",
    "print(train_df.head(3))"
   ]
  },
  {
   "cell_type": "code",
   "execution_count": 26,
   "metadata": {
    "execution": {
     "iopub.execute_input": "2023-07-22T15:18:59.659597Z",
     "iopub.status.busy": "2023-07-22T15:18:59.655777Z",
     "iopub.status.idle": "2023-07-22T15:18:59.709248Z",
     "shell.execute_reply": "2023-07-22T15:18:59.707908Z",
     "shell.execute_reply.started": "2023-07-22T15:18:59.659539Z"
    }
   },
   "outputs": [
    {
     "data": {
      "text/plain": [
       "userId            0\n",
       "movieId           0\n",
       "rating            0\n",
       "timestamp         0\n",
       "title_cast    44540\n",
       "director      44515\n",
       "title         39743\n",
       "genres        39743\n",
       "dtype: int64"
      ]
     },
     "execution_count": 26,
     "metadata": {},
     "output_type": "execute_result"
    }
   ],
   "source": [
    "train_df.isnull().sum()"
   ]
  },
  {
   "cell_type": "code",
   "execution_count": 65,
   "metadata": {
    "execution": {
     "iopub.execute_input": "2023-07-21T21:58:18.446351Z",
     "iopub.status.busy": "2023-07-21T21:58:18.445730Z",
     "iopub.status.idle": "2023-07-21T21:58:18.452462Z",
     "shell.execute_reply": "2023-07-21T21:58:18.450728Z",
     "shell.execute_reply.started": "2023-07-21T21:58:18.446313Z"
    }
   },
   "outputs": [],
   "source": [
    "#Drop empty rows\n",
    "#train_df.dropna(subset=['title_cast','director','title','genres','auth_tags'], inplace=True)"
   ]
  },
  {
   "cell_type": "code",
   "execution_count": 66,
   "metadata": {
    "execution": {
     "iopub.execute_input": "2023-07-21T21:58:30.623295Z",
     "iopub.status.busy": "2023-07-21T21:58:30.622814Z",
     "iopub.status.idle": "2023-07-21T21:58:30.629155Z",
     "shell.execute_reply": "2023-07-21T21:58:30.627907Z",
     "shell.execute_reply.started": "2023-07-21T21:58:30.623261Z"
    }
   },
   "outputs": [],
   "source": [
    "#train_df.isnull().sum()"
   ]
  },
  {
   "cell_type": "code",
   "execution_count": 67,
   "metadata": {
    "execution": {
     "iopub.execute_input": "2023-07-21T21:58:32.424667Z",
     "iopub.status.busy": "2023-07-21T21:58:32.424241Z",
     "iopub.status.idle": "2023-07-21T21:58:32.431221Z",
     "shell.execute_reply": "2023-07-21T21:58:32.429742Z",
     "shell.execute_reply.started": "2023-07-21T21:58:32.424634Z"
    }
   },
   "outputs": [],
   "source": [
    "#train_df['auth_tags'] = (pd.Series(train_df[['director', 'genres']]\n",
    "                      #.fillna('')\n",
    "                      #.values.tolist()).str.join(' '))\n",
    "\n",
    "# Convienient indexes to map between book titles and indexes of \n",
    "# the books dataframe\n",
    "#titles = train_df['title']\n",
    "#indices = pd.Series(train_df.index, index=train_df['title'])"
   ]
  },
  {
   "cell_type": "code",
   "execution_count": 68,
   "metadata": {
    "execution": {
     "iopub.execute_input": "2023-07-21T21:58:34.992161Z",
     "iopub.status.busy": "2023-07-21T21:58:34.991715Z",
     "iopub.status.idle": "2023-07-21T21:58:34.998404Z",
     "shell.execute_reply": "2023-07-21T21:58:34.996911Z",
     "shell.execute_reply.started": "2023-07-21T21:58:34.992128Z"
    }
   },
   "outputs": [],
   "source": [
    "#tf = TfidfVectorizer(analyzer='word', ngram_range=(1,2),\n",
    "                     #min_df=0, stop_words='english')\n",
    "\n",
    "# Produce a feature matrix, where each row corresponds to a movie,\n",
    "# with TF-IDF features as columns \n",
    "#tf_authTags_matrix = tf.fit_transform(train_df['auth_tags'])"
   ]
  },
  {
   "cell_type": "code",
   "execution_count": 69,
   "metadata": {
    "execution": {
     "iopub.execute_input": "2023-07-21T21:58:36.661705Z",
     "iopub.status.busy": "2023-07-21T21:58:36.661270Z",
     "iopub.status.idle": "2023-07-21T21:58:36.668051Z",
     "shell.execute_reply": "2023-07-21T21:58:36.666599Z",
     "shell.execute_reply.started": "2023-07-21T21:58:36.661666Z"
    }
   },
   "outputs": [],
   "source": [
    "# WORKING BON THESE REFUSED TO RUN .... PROBABLY TOO LARGE \n",
    "#util_matrix = train.pivot_table(index=['userId'],\n",
    "                                       #columns=['movieId'],\n",
    "                                       #values='rating')\n",
    "#util_matrix.shape"
   ]
  },
  {
   "cell_type": "markdown",
   "metadata": {},
   "source": [
    "# STILL WORKING ON THESE LINES OF CODE\n",
    "#Create a neat version of the utility matrix to assist with plotting book titles \n",
    "movies_ratings['movie_Id'] = train['movieId'].apply(lambda x: x[:20])\n",
    "util_matrix_neat = train.pivot_table(index=['userid'],\n",
    "                                            columns=['movieId'],\n",
    "                                            values='rating')\n",
    "\n",
    "fig, ax = plt.subplots(figsize=(15,5))\n",
    "#We select only the first 100 users for ease of computation and visualisation. \n",
    "#You can play around with this value to see more of the utility matrix. \n",
    "_ = sns.heatmap(util_matrix_neat[:100], annot=False, ax=ax).set_title('GoodBooks Utility Matrix')\n"
   ]
  },
  {
   "cell_type": "markdown",
   "metadata": {},
   "source": [
    "# STILL WORKING ON THESE TOO. \n",
    "#Compute the similarity matrix using the cosine similarity metric\n",
    "user_similarity = cosine_similarity(util_matrix_sparse.T)\n",
    "#Save the matrix as a dataframe to allow for easier indexing  \n",
    "user_sim_df = pd.DataFrame(user_similarity,\n",
    "                           index = util_matrix_norm.columns,\n",
    "                           columns = util_matrix_norm.columns)\n",
    "\n",
    "#Review a small portion of the constructed similartiy matrix  \n",
    "user_sim_df[:5]"
   ]
  },
  {
   "cell_type": "code",
   "execution_count": 70,
   "metadata": {
    "execution": {
     "iopub.execute_input": "2023-07-21T21:58:41.436392Z",
     "iopub.status.busy": "2023-07-21T21:58:41.435873Z",
     "iopub.status.idle": "2023-07-21T21:58:41.445996Z",
     "shell.execute_reply": "2023-07-21T21:58:41.444073Z",
     "shell.execute_reply.started": "2023-07-21T21:58:41.436357Z"
    }
   },
   "outputs": [
    {
     "data": {
      "text/plain": [
       "(5000019, 2)"
      ]
     },
     "execution_count": 70,
     "metadata": {},
     "output_type": "execute_result"
    }
   ],
   "source": [
    "test.shape"
   ]
  },
  {
   "cell_type": "code",
   "execution_count": 31,
   "metadata": {
    "execution": {
     "iopub.execute_input": "2023-07-19T20:09:34.211669Z",
     "iopub.status.busy": "2023-07-19T20:09:34.210560Z",
     "iopub.status.idle": "2023-07-19T20:09:34.216220Z",
     "shell.execute_reply": "2023-07-19T20:09:34.215158Z",
     "shell.execute_reply.started": "2023-07-19T20:09:34.211628Z"
    }
   },
   "outputs": [],
   "source": [
    "from surprise import Reader\n",
    "from surprise import Dataset\n",
    "from surprise import accuracy\n",
    "from surprise import NMF\n",
    "from surprise.model_selection import train_test_split"
   ]
  },
  {
   "cell_type": "code",
   "execution_count": 33,
   "metadata": {
    "execution": {
     "iopub.execute_input": "2023-07-19T20:10:56.719357Z",
     "iopub.status.busy": "2023-07-19T20:10:56.718945Z",
     "iopub.status.idle": "2023-07-19T20:11:08.700284Z",
     "shell.execute_reply": "2023-07-19T20:11:08.699144Z",
     "shell.execute_reply.started": "2023-07-19T20:10:56.719323Z"
    }
   },
   "outputs": [],
   "source": [
    "train_df = train.copy()\n",
    "reader = Reader()\n",
    "df = Dataset.load_from_df(train_df[['userId', 'movieId', 'rating']], reader)"
   ]
  },
  {
   "cell_type": "code",
   "execution_count": 34,
   "metadata": {
    "execution": {
     "iopub.execute_input": "2023-07-19T20:11:20.024153Z",
     "iopub.status.busy": "2023-07-19T20:11:20.023746Z",
     "iopub.status.idle": "2023-07-19T20:11:48.150979Z",
     "shell.execute_reply": "2023-07-19T20:11:48.149871Z",
     "shell.execute_reply.started": "2023-07-19T20:11:20.024118Z"
    }
   },
   "outputs": [],
   "source": [
    "trainingset, testingset = train_test_split(df, test_size=0.2, random_state=42)"
   ]
  },
  {
   "cell_type": "code",
   "execution_count": 35,
   "metadata": {
    "execution": {
     "iopub.execute_input": "2023-07-19T20:15:50.774016Z",
     "iopub.status.busy": "2023-07-19T20:15:50.773562Z",
     "iopub.status.idle": "2023-07-19T20:21:08.214107Z",
     "shell.execute_reply": "2023-07-19T20:21:08.213124Z",
     "shell.execute_reply.started": "2023-07-19T20:15:50.773978Z"
    }
   },
   "outputs": [
    {
     "data": {
      "text/plain": [
       "<surprise.prediction_algorithms.matrix_factorization.NMF at 0x793954bc94e0>"
      ]
     },
     "execution_count": 35,
     "metadata": {},
     "output_type": "execute_result"
    }
   ],
   "source": [
    "nmf_model = NMF()\n",
    "nmf_model.fit(trainingset)"
   ]
  },
  {
   "cell_type": "code",
   "execution_count": 36,
   "metadata": {
    "execution": {
     "iopub.execute_input": "2023-07-19T20:25:53.137737Z",
     "iopub.status.busy": "2023-07-19T20:25:53.137327Z",
     "iopub.status.idle": "2023-07-19T20:26:21.846300Z",
     "shell.execute_reply": "2023-07-19T20:26:21.845382Z",
     "shell.execute_reply.started": "2023-07-19T20:25:53.137704Z"
    }
   },
   "outputs": [],
   "source": [
    "prediction = nmf_model.test(testingset) \n",
    "test_data = pd.DataFrame(prediction)"
   ]
  },
  {
   "cell_type": "code",
   "execution_count": 50,
   "metadata": {
    "execution": {
     "iopub.execute_input": "2023-07-19T20:49:50.417632Z",
     "iopub.status.busy": "2023-07-19T20:49:50.417232Z",
     "iopub.status.idle": "2023-07-19T20:49:51.764581Z",
     "shell.execute_reply": "2023-07-19T20:49:51.763699Z",
     "shell.execute_reply.started": "2023-07-19T20:49:50.417599Z"
    }
   },
   "outputs": [
    {
     "name": "stdout",
     "output_type": "stream",
     "text": [
      "RMSE: 0.8819\n"
     ]
    }
   ],
   "source": [
    "rmse = accuracy.rmse(prediction)\n"
   ]
  },
  {
   "cell_type": "code",
   "execution_count": 37,
   "metadata": {
    "execution": {
     "iopub.execute_input": "2023-07-19T20:28:02.824304Z",
     "iopub.status.busy": "2023-07-19T20:28:02.823894Z",
     "iopub.status.idle": "2023-07-19T20:28:02.838265Z",
     "shell.execute_reply": "2023-07-19T20:28:02.836972Z",
     "shell.execute_reply.started": "2023-07-19T20:28:02.824269Z"
    }
   },
   "outputs": [
    {
     "data": {
      "text/html": [
       "<div>\n",
       "<style scoped>\n",
       "    .dataframe tbody tr th:only-of-type {\n",
       "        vertical-align: middle;\n",
       "    }\n",
       "\n",
       "    .dataframe tbody tr th {\n",
       "        vertical-align: top;\n",
       "    }\n",
       "\n",
       "    .dataframe thead th {\n",
       "        text-align: right;\n",
       "    }\n",
       "</style>\n",
       "<table border=\"1\" class=\"dataframe\">\n",
       "  <thead>\n",
       "    <tr style=\"text-align: right;\">\n",
       "      <th></th>\n",
       "      <th>uid</th>\n",
       "      <th>iid</th>\n",
       "      <th>r_ui</th>\n",
       "      <th>est</th>\n",
       "      <th>details</th>\n",
       "    </tr>\n",
       "  </thead>\n",
       "  <tbody>\n",
       "    <tr>\n",
       "      <th>0</th>\n",
       "      <td>120843</td>\n",
       "      <td>106782</td>\n",
       "      <td>4.0</td>\n",
       "      <td>4.847829</td>\n",
       "      <td>{'was_impossible': False}</td>\n",
       "    </tr>\n",
       "    <tr>\n",
       "      <th>1</th>\n",
       "      <td>64583</td>\n",
       "      <td>2</td>\n",
       "      <td>4.5</td>\n",
       "      <td>3.338726</td>\n",
       "      <td>{'was_impossible': False}</td>\n",
       "    </tr>\n",
       "    <tr>\n",
       "      <th>2</th>\n",
       "      <td>88952</td>\n",
       "      <td>38304</td>\n",
       "      <td>4.5</td>\n",
       "      <td>4.862994</td>\n",
       "      <td>{'was_impossible': False}</td>\n",
       "    </tr>\n",
       "  </tbody>\n",
       "</table>\n",
       "</div>"
      ],
      "text/plain": [
       "      uid     iid  r_ui       est                    details\n",
       "0  120843  106782   4.0  4.847829  {'was_impossible': False}\n",
       "1   64583       2   4.5  3.338726  {'was_impossible': False}\n",
       "2   88952   38304   4.5  4.862994  {'was_impossible': False}"
      ]
     },
     "execution_count": 37,
     "metadata": {},
     "output_type": "execute_result"
    }
   ],
   "source": [
    "test_data.head(3)"
   ]
  },
  {
   "cell_type": "code",
   "execution_count": 38,
   "metadata": {
    "execution": {
     "iopub.execute_input": "2023-07-19T20:28:14.732005Z",
     "iopub.status.busy": "2023-07-19T20:28:14.731629Z",
     "iopub.status.idle": "2023-07-19T20:34:53.914064Z",
     "shell.execute_reply": "2023-07-19T20:34:53.913278Z",
     "shell.execute_reply.started": "2023-07-19T20:28:14.731976Z"
    }
   },
   "outputs": [
    {
     "data": {
      "text/plain": [
       "[Prediction(uid=1, iid=2011, r_ui=None, est=3.919002435278876, details={'was_impossible': False}),\n",
       " Prediction(uid=1, iid=4144, r_ui=None, est=4.532800306398359, details={'was_impossible': False}),\n",
       " Prediction(uid=1, iid=5767, r_ui=None, est=3.3524972235441877, details={'was_impossible': False}),\n",
       " Prediction(uid=1, iid=6711, r_ui=None, est=3.846786605274726, details={'was_impossible': False}),\n",
       " Prediction(uid=1, iid=7318, r_ui=None, est=2.76022275837817, details={'was_impossible': False}),\n",
       " Prediction(uid=1, iid=8405, r_ui=None, est=3.9631723448460434, details={'was_impossible': False}),\n",
       " Prediction(uid=1, iid=8786, r_ui=None, est=3.6047319607104256, details={'was_impossible': False}),\n",
       " Prediction(uid=2, iid=150, r_ui=None, est=3.490643265629988, details={'was_impossible': False}),\n",
       " Prediction(uid=2, iid=356, r_ui=None, est=3.1938219357442046, details={'was_impossible': False}),\n",
       " Prediction(uid=2, iid=497, r_ui=None, est=3.93259283981141, details={'was_impossible': False}),\n",
       " Prediction(uid=2, iid=588, r_ui=None, est=3.769194023824547, details={'was_impossible': False}),\n",
       " Prediction(uid=2, iid=653, r_ui=None, est=2.8706004531474596, details={'was_impossible': False}),\n",
       " Prediction(uid=2, iid=1080, r_ui=None, est=4.061753904970236, details={'was_impossible': False}),\n",
       " Prediction(uid=2, iid=1196, r_ui=None, est=4.207923096598895, details={'was_impossible': False}),\n",
       " Prediction(uid=2, iid=1198, r_ui=None, est=3.359196615910629, details={'was_impossible': False}),\n",
       " Prediction(uid=2, iid=1201, r_ui=None, est=4.313152834218749, details={'was_impossible': False}),\n",
       " Prediction(uid=2, iid=1299, r_ui=None, est=3.7583855523573875, details={'was_impossible': False}),\n",
       " Prediction(uid=2, iid=1485, r_ui=None, est=3.4734363408504416, details={'was_impossible': False}),\n",
       " Prediction(uid=2, iid=1580, r_ui=None, est=3.7536995879535238, details={'was_impossible': False}),\n",
       " Prediction(uid=2, iid=1693, r_ui=None, est=3.522252805740826, details={'was_impossible': False}),\n",
       " Prediction(uid=2, iid=2028, r_ui=None, est=3.9368129382462715, details={'was_impossible': False}),\n",
       " Prediction(uid=2, iid=2083, r_ui=None, est=3.462844595254733, details={'was_impossible': False}),\n",
       " Prediction(uid=2, iid=2617, r_ui=None, est=3.180926062482029, details={'was_impossible': False}),\n",
       " Prediction(uid=2, iid=2640, r_ui=None, est=3.3519106285149873, details={'was_impossible': False}),\n",
       " Prediction(uid=2, iid=2918, r_ui=None, est=3.6125666969303687, details={'was_impossible': False}),\n",
       " Prediction(uid=2, iid=3098, r_ui=None, est=3.668647055547048, details={'was_impossible': False}),\n",
       " Prediction(uid=2, iid=3114, r_ui=None, est=3.6949821426422105, details={'was_impossible': False}),\n",
       " Prediction(uid=2, iid=3510, r_ui=None, est=3.314401831264547, details={'was_impossible': False}),\n",
       " Prediction(uid=2, iid=3994, r_ui=None, est=2.914214614606424, details={'was_impossible': False}),\n",
       " Prediction(uid=2, iid=4103, r_ui=None, est=3.727453975494183, details={'was_impossible': False}),\n",
       " Prediction(uid=2, iid=4963, r_ui=None, est=3.394497249502275, details={'was_impossible': False}),\n",
       " Prediction(uid=2, iid=5103, r_ui=None, est=3.448077076466988, details={'was_impossible': False}),\n",
       " Prediction(uid=2, iid=5955, r_ui=None, est=3.750821629637029, details={'was_impossible': False}),\n",
       " Prediction(uid=2, iid=6156, r_ui=None, est=3.042042115296754, details={'was_impossible': False}),\n",
       " Prediction(uid=2, iid=6287, r_ui=None, est=2.871964660919084, details={'was_impossible': False}),\n",
       " Prediction(uid=2, iid=6311, r_ui=None, est=3.0402702261510712, details={'was_impossible': False}),\n",
       " Prediction(uid=2, iid=6753, r_ui=None, est=4.143625056334399, details={'was_impossible': False}),\n",
       " Prediction(uid=2, iid=7075, r_ui=None, est=3.9508488436839677, details={'was_impossible': False}),\n",
       " Prediction(uid=2, iid=7153, r_ui=None, est=4.316807183106116, details={'was_impossible': False}),\n",
       " Prediction(uid=2, iid=7386, r_ui=None, est=3.996818709636693, details={'was_impossible': False}),\n",
       " Prediction(uid=2, iid=8961, r_ui=None, est=3.5451265467884587, details={'was_impossible': False}),\n",
       " Prediction(uid=2, iid=30848, r_ui=None, est=3.5345667380125385, details={'was_impossible': False}),\n",
       " Prediction(uid=2, iid=33493, r_ui=None, est=3.318140914805554, details={'was_impossible': False}),\n",
       " Prediction(uid=2, iid=34162, r_ui=None, est=3.5607811784950028, details={'was_impossible': False}),\n",
       " Prediction(uid=2, iid=40815, r_ui=None, est=3.522602116545112, details={'was_impossible': False}),\n",
       " Prediction(uid=3, iid=1, r_ui=None, est=4.1301266976074364, details={'was_impossible': False}),\n",
       " Prediction(uid=3, iid=260, r_ui=None, est=4.35407782235497, details={'was_impossible': False}),\n",
       " Prediction(uid=3, iid=858, r_ui=None, est=4.433198286206832, details={'was_impossible': False}),\n",
       " Prediction(uid=3, iid=1198, r_ui=None, est=4.587450653044952, details={'was_impossible': False}),\n",
       " Prediction(uid=3, iid=1201, r_ui=None, est=4.42310631233807, details={'was_impossible': False}),\n",
       " Prediction(uid=3, iid=1214, r_ui=None, est=4.365822157811289, details={'was_impossible': False}),\n",
       " Prediction(uid=3, iid=1217, r_ui=None, est=4.476886210090216, details={'was_impossible': False}),\n",
       " Prediction(uid=3, iid=1221, r_ui=None, est=4.471077749841044, details={'was_impossible': False}),\n",
       " Prediction(uid=3, iid=1222, r_ui=None, est=4.431721653124465, details={'was_impossible': False}),\n",
       " Prediction(uid=3, iid=1676, r_ui=None, est=3.5434837280673435, details={'was_impossible': False}),\n",
       " Prediction(uid=3, iid=1909, r_ui=None, est=3.57606590278105, details={'was_impossible': False}),\n",
       " Prediction(uid=3, iid=1960, r_ui=None, est=4.168408800989487, details={'was_impossible': False}),\n",
       " Prediction(uid=3, iid=3471, r_ui=None, est=4.013141319787334, details={'was_impossible': False}),\n",
       " Prediction(uid=3, iid=3534, r_ui=None, est=3.31263589277707, details={'was_impossible': False}),\n",
       " Prediction(uid=3, iid=3730, r_ui=None, est=4.527555169588805, details={'was_impossible': False}),\n",
       " Prediction(uid=3, iid=3785, r_ui=None, est=2.9710032719148174, details={'was_impossible': False}),\n",
       " Prediction(uid=3, iid=3948, r_ui=None, est=3.4610978274261033, details={'was_impossible': False}),\n",
       " Prediction(uid=3, iid=3979, r_ui=None, est=2.746266143472429, details={'was_impossible': False}),\n",
       " Prediction(uid=3, iid=4025, r_ui=None, est=3.1885225954139615, details={'was_impossible': False}),\n",
       " Prediction(uid=3, iid=4148, r_ui=None, est=3.5205538787794333, details={'was_impossible': False}),\n",
       " Prediction(uid=3, iid=4383, r_ui=None, est=3.8797068781087063, details={'was_impossible': False}),\n",
       " Prediction(uid=3, iid=4816, r_ui=None, est=3.520360310797306, details={'was_impossible': False}),\n",
       " Prediction(uid=3, iid=4979, r_ui=None, est=4.122341303805741, details={'was_impossible': False}),\n",
       " Prediction(uid=3, iid=5219, r_ui=None, est=3.4941250881148336, details={'was_impossible': False}),\n",
       " Prediction(uid=3, iid=5254, r_ui=None, est=3.382881632412781, details={'was_impossible': False}),\n",
       " Prediction(uid=3, iid=5291, r_ui=None, est=4.441839425230319, details={'was_impossible': False}),\n",
       " Prediction(uid=3, iid=5313, r_ui=None, est=2.749632777672199, details={'was_impossible': False}),\n",
       " Prediction(uid=3, iid=5364, r_ui=None, est=3.6332344767627944, details={'was_impossible': False}),\n",
       " Prediction(uid=3, iid=5479, r_ui=None, est=3.4538829169422463, details={'was_impossible': False}),\n",
       " Prediction(uid=3, iid=5528, r_ui=None, est=3.627625006747371, details={'was_impossible': False}),\n",
       " Prediction(uid=3, iid=5669, r_ui=None, est=4.0384250177050784, details={'was_impossible': False}),\n",
       " Prediction(uid=3, iid=5679, r_ui=None, est=3.8305331837900725, details={'was_impossible': False}),\n",
       " Prediction(uid=3, iid=5782, r_ui=None, est=4.463136364240674, details={'was_impossible': False}),\n",
       " Prediction(uid=3, iid=5872, r_ui=None, est=3.445577097034769, details={'was_impossible': False}),\n",
       " Prediction(uid=3, iid=5900, r_ui=None, est=3.074716779824882, details={'was_impossible': False}),\n",
       " Prediction(uid=3, iid=5944, r_ui=None, est=3.4315543302330624, details={'was_impossible': False}),\n",
       " Prediction(uid=3, iid=5954, r_ui=None, est=4.104926720537485, details={'was_impossible': False}),\n",
       " Prediction(uid=3, iid=6213, r_ui=None, est=3.5851769431115788, details={'was_impossible': False}),\n",
       " Prediction(uid=3, iid=6323, r_ui=None, est=3.9338066816406014, details={'was_impossible': False}),\n",
       " Prediction(uid=3, iid=6541, r_ui=None, est=3.132172823753727, details={'was_impossible': False}),\n",
       " Prediction(uid=3, iid=6586, r_ui=None, est=3.1641741717376446, details={'was_impossible': False}),\n",
       " Prediction(uid=3, iid=6934, r_ui=None, est=3.4566643218745194, details={'was_impossible': False}),\n",
       " Prediction(uid=3, iid=6952, r_ui=None, est=3.2061830178187245, details={'was_impossible': False}),\n",
       " Prediction(uid=3, iid=7163, r_ui=None, est=3.4999671824397396, details={'was_impossible': False}),\n",
       " Prediction(uid=3, iid=7438, r_ui=None, est=3.9799417218389954, details={'was_impossible': False}),\n",
       " Prediction(uid=3, iid=7439, r_ui=None, est=3.3301974733442163, details={'was_impossible': False}),\n",
       " Prediction(uid=3, iid=7445, r_ui=None, est=4.020565608199623, details={'was_impossible': False}),\n",
       " Prediction(uid=3, iid=8360, r_ui=None, est=3.719801046850413, details={'was_impossible': False}),\n",
       " Prediction(uid=3, iid=8368, r_ui=None, est=4.0939273551613065, details={'was_impossible': False}),\n",
       " Prediction(uid=3, iid=8370, r_ui=None, est=4.083025840412234, details={'was_impossible': False}),\n",
       " Prediction(uid=3, iid=8529, r_ui=None, est=3.9062863609194247, details={'was_impossible': False}),\n",
       " Prediction(uid=3, iid=8641, r_ui=None, est=3.7178419536689984, details={'was_impossible': False}),\n",
       " Prediction(uid=3, iid=8861, r_ui=None, est=3.3417860143980547, details={'was_impossible': False}),\n",
       " Prediction(uid=3, iid=8874, r_ui=None, est=4.221587755467064, details={'was_impossible': False}),\n",
       " Prediction(uid=3, iid=27706, r_ui=None, est=3.4573948039002884, details={'was_impossible': False}),\n",
       " Prediction(uid=3, iid=27793, r_ui=None, est=2.2182675832886423, details={'was_impossible': False}),\n",
       " Prediction(uid=3, iid=31184, r_ui=None, est=3.7225511255875805, details={'was_impossible': False}),\n",
       " Prediction(uid=3, iid=31685, r_ui=None, est=3.553457281481727, details={'was_impossible': False}),\n",
       " Prediction(uid=3, iid=31696, r_ui=None, est=3.84832817141638, details={'was_impossible': False}),\n",
       " Prediction(uid=3, iid=31804, r_ui=None, est=3.6039306394597785, details={'was_impossible': False}),\n",
       " Prediction(uid=3, iid=33615, r_ui=None, est=3.5419978764783746, details={'was_impossible': False}),\n",
       " Prediction(uid=3, iid=34150, r_ui=None, est=3.0028752365322093, details={'was_impossible': False}),\n",
       " Prediction(uid=3, iid=34162, r_ui=None, est=3.655521878574719, details={'was_impossible': False}),\n",
       " Prediction(uid=3, iid=35836, r_ui=None, est=3.755495233259044, details={'was_impossible': False}),\n",
       " Prediction(uid=3, iid=37386, r_ui=None, est=3.1658859747843766, details={'was_impossible': False}),\n",
       " Prediction(uid=3, iid=44022, r_ui=None, est=3.555481616755662, details={'was_impossible': False}),\n",
       " Prediction(uid=3, iid=46972, r_ui=None, est=3.22854493257422, details={'was_impossible': False}),\n",
       " Prediction(uid=3, iid=47610, r_ui=None, est=4.0469549324111345, details={'was_impossible': False}),\n",
       " Prediction(uid=3, iid=48780, r_ui=None, est=4.198724064534719, details={'was_impossible': False}),\n",
       " Prediction(uid=3, iid=49272, r_ui=None, est=4.057170966359811, details={'was_impossible': False}),\n",
       " Prediction(uid=3, iid=49278, r_ui=None, est=3.8419074758539598, details={'was_impossible': False}),\n",
       " Prediction(uid=3, iid=49530, r_ui=None, est=4.162392412522377, details={'was_impossible': False}),\n",
       " Prediction(uid=3, iid=51255, r_ui=None, est=3.992413437862167, details={'was_impossible': False}),\n",
       " Prediction(uid=3, iid=53121, r_ui=None, est=3.0618581116190122, details={'was_impossible': False}),\n",
       " Prediction(uid=3, iid=53129, r_ui=None, est=3.9897289677972507, details={'was_impossible': False}),\n",
       " Prediction(uid=3, iid=53464, r_ui=None, est=2.7946669328362304, details={'was_impossible': False}),\n",
       " Prediction(uid=3, iid=55765, r_ui=None, est=4.045918961186071, details={'was_impossible': False}),\n",
       " Prediction(uid=3, iid=55805, r_ui=None, est=3.940078838580657, details={'was_impossible': False}),\n",
       " Prediction(uid=3, iid=58559, r_ui=None, est=4.402385050261002, details={'was_impossible': False}),\n",
       " Prediction(uid=3, iid=59315, r_ui=None, est=4.059904908143085, details={'was_impossible': False}),\n",
       " Prediction(uid=3, iid=59501, r_ui=None, est=3.3661853392571914, details={'was_impossible': False}),\n",
       " Prediction(uid=3, iid=60069, r_ui=None, est=4.2137979215543195, details={'was_impossible': False}),\n",
       " Prediction(uid=3, iid=61350, r_ui=None, est=3.1610048716406154, details={'was_impossible': False}),\n",
       " Prediction(uid=3, iid=64839, r_ui=None, est=4.052704020129776, details={'was_impossible': False}),\n",
       " Prediction(uid=3, iid=68319, r_ui=None, est=3.444961049964512, details={'was_impossible': False}),\n",
       " Prediction(uid=3, iid=68793, r_ui=None, est=3.2929190833788966, details={'was_impossible': False}),\n",
       " Prediction(uid=3, iid=68952, r_ui=None, est=3.459606601528677, details={'was_impossible': False}),\n",
       " Prediction(uid=3, iid=71057, r_ui=None, est=3.6502874868599036, details={'was_impossible': False}),\n",
       " Prediction(uid=3, iid=71464, r_ui=None, est=3.9505667140807295, details={'was_impossible': False}),\n",
       " Prediction(uid=3, iid=72209, r_ui=None, est=3.287871247306134, details={'was_impossible': False}),\n",
       " Prediction(uid=3, iid=74789, r_ui=None, est=3.3450165625520456, details={'was_impossible': False}),\n",
       " Prediction(uid=3, iid=76077, r_ui=None, est=3.38882492239759, details={'was_impossible': False}),\n",
       " Prediction(uid=3, iid=78499, r_ui=None, est=3.9336486829845017, details={'was_impossible': False}),\n",
       " Prediction(uid=3, iid=81845, r_ui=None, est=4.30853727566029, details={'was_impossible': False}),\n",
       " Prediction(uid=3, iid=82202, r_ui=None, est=3.234247187927755, details={'was_impossible': False}),\n",
       " Prediction(uid=3, iid=85020, r_ui=None, est=3.7868746393683477, details={'was_impossible': False}),\n",
       " Prediction(uid=3, iid=85056, r_ui=None, est=3.2687775503798555, details={'was_impossible': False}),\n",
       " Prediction(uid=3, iid=88140, r_ui=None, est=3.7575344466910536, details={'was_impossible': False}),\n",
       " Prediction(uid=3, iid=96610, r_ui=None, est=3.9177836487992623, details={'was_impossible': False}),\n",
       " Prediction(uid=3, iid=97225, r_ui=None, est=3.5755052027862493, details={'was_impossible': False}),\n",
       " Prediction(uid=3, iid=102445, r_ui=None, est=4.044967692451049, details={'was_impossible': False}),\n",
       " Prediction(uid=3, iid=102880, r_ui=None, est=2.500432111720527, details={'was_impossible': False}),\n",
       " Prediction(uid=3, iid=102903, r_ui=None, est=3.886854495830845, details={'was_impossible': False}),\n",
       " Prediction(uid=3, iid=103141, r_ui=None, est=3.738575563572335, details={'was_impossible': False}),\n",
       " Prediction(uid=3, iid=103772, r_ui=None, est=3.5788492314257065, details={'was_impossible': False}),\n",
       " Prediction(uid=3, iid=105213, r_ui=None, est=3.345076290957951, details={'was_impossible': False}),\n",
       " Prediction(uid=3, iid=109374, r_ui=None, est=4.3399095159416925, details={'was_impossible': False}),\n",
       " Prediction(uid=3, iid=109487, r_ui=None, est=4.3012555313593275, details={'was_impossible': False}),\n",
       " Prediction(uid=3, iid=111443, r_ui=None, est=3.973134749036083, details={'was_impossible': False}),\n",
       " Prediction(uid=3, iid=111659, r_ui=None, est=3.3879298013132644, details={'was_impossible': False}),\n",
       " Prediction(uid=3, iid=112138, r_ui=None, est=3.648534204684586, details={'was_impossible': False}),\n",
       " Prediction(uid=3, iid=114847, r_ui=None, est=3.5553811120209238, details={'was_impossible': False}),\n",
       " Prediction(uid=3, iid=115569, r_ui=None, est=4.2203424240636025, details={'was_impossible': False}),\n",
       " Prediction(uid=3, iid=116897, r_ui=None, est=4.435520986524363, details={'was_impossible': False}),\n",
       " Prediction(uid=3, iid=117529, r_ui=None, est=3.4549267259000125, details={'was_impossible': False}),\n",
       " Prediction(uid=3, iid=122912, r_ui=None, est=4.056825383971891, details={'was_impossible': False}),\n",
       " Prediction(uid=3, iid=135143, r_ui=None, est=3.7973376957411538, details={'was_impossible': False}),\n",
       " Prediction(uid=3, iid=136449, r_ui=None, est=4.329362112660549, details={'was_impossible': False}),\n",
       " Prediction(uid=3, iid=143385, r_ui=None, est=4.039098974038477, details={'was_impossible': False}),\n",
       " Prediction(uid=3, iid=151763, r_ui=None, est=4.272479481805615, details={'was_impossible': False}),\n",
       " Prediction(uid=4, iid=1036, r_ui=None, est=3.5435385431298037, details={'was_impossible': False}),\n",
       " Prediction(uid=4, iid=1136, r_ui=None, est=4.004056508408355, details={'was_impossible': False}),\n",
       " Prediction(uid=4, iid=1196, r_ui=None, est=4.113320140654759, details={'was_impossible': False}),\n",
       " Prediction(uid=4, iid=1220, r_ui=None, est=3.8311988127599808, details={'was_impossible': False}),\n",
       " Prediction(uid=4, iid=1907, r_ui=None, est=3.4059780749936697, details={'was_impossible': False}),\n",
       " Prediction(uid=4, iid=2716, r_ui=None, est=3.5095193347578078, details={'was_impossible': False}),\n",
       " Prediction(uid=4, iid=2985, r_ui=None, est=3.138682170399569, details={'was_impossible': False}),\n",
       " Prediction(uid=4, iid=3114, r_ui=None, est=3.4941443270135704, details={'was_impossible': False}),\n",
       " Prediction(uid=4, iid=3671, r_ui=None, est=3.6190463414955305, details={'was_impossible': False}),\n",
       " Prediction(uid=4, iid=4709, r_ui=None, est=3.035912515740246, details={'was_impossible': False}),\n",
       " Prediction(uid=4, iid=4816, r_ui=None, est=3.1725967529931136, details={'was_impossible': False}),\n",
       " Prediction(uid=4, iid=5110, r_ui=None, est=3.3208904049181434, details={'was_impossible': False}),\n",
       " Prediction(uid=4, iid=5418, r_ui=None, est=3.757250969364374, details={'was_impossible': False}),\n",
       " Prediction(uid=4, iid=5903, r_ui=None, est=3.5241568427571273, details={'was_impossible': False}),\n",
       " Prediction(uid=4, iid=6863, r_ui=None, est=3.0739876154437185, details={'was_impossible': False}),\n",
       " Prediction(uid=4, iid=7438, r_ui=None, est=3.641579258653677, details={'was_impossible': False}),\n",
       " Prediction(uid=4, iid=7569, r_ui=None, est=3.3237713094331016, details={'was_impossible': False}),\n",
       " Prediction(uid=4, iid=8665, r_ui=None, est=3.7185128009093567, details={'was_impossible': False}),\n",
       " Prediction(uid=4, iid=34048, r_ui=None, est=3.001024849300173, details={'was_impossible': False}),\n",
       " Prediction(uid=4, iid=45431, r_ui=None, est=3.0627663592713303, details={'was_impossible': False}),\n",
       " Prediction(uid=4, iid=49649, r_ui=None, est=2.3309942844792992, details={'was_impossible': False}),\n",
       " Prediction(uid=4, iid=53125, r_ui=None, est=2.9949579556205768, details={'was_impossible': False}),\n",
       " Prediction(uid=4, iid=69122, r_ui=None, est=3.279017712618484, details={'was_impossible': False}),\n",
       " Prediction(uid=4, iid=77561, r_ui=None, est=3.2821844154687123, details={'was_impossible': False}),\n",
       " Prediction(uid=4, iid=82461, r_ui=None, est=3.0243197644078004, details={'was_impossible': False}),\n",
       " Prediction(uid=4, iid=83134, r_ui=None, est=3.629032100259525, details={'was_impossible': False}),\n",
       " Prediction(uid=4, iid=85414, r_ui=None, est=3.3707855370166926, details={'was_impossible': False}),\n",
       " Prediction(uid=4, iid=86345, r_ui=None, est=3.9585106363491995, details={'was_impossible': False}),\n",
       " Prediction(uid=4, iid=88125, r_ui=None, est=3.621397750832076, details={'was_impossible': False}),\n",
       " Prediction(uid=4, iid=91529, r_ui=None, est=3.7048910020240706, details={'was_impossible': False}),\n",
       " Prediction(uid=4, iid=93510, r_ui=None, est=3.100279744930183, details={'was_impossible': False}),\n",
       " Prediction(uid=4, iid=93840, r_ui=None, est=3.4500994346643648, details={'was_impossible': False}),\n",
       " Prediction(uid=4, iid=96079, r_ui=None, est=3.4807467976172615, details={'was_impossible': False}),\n",
       " Prediction(uid=4, iid=96737, r_ui=None, est=3.253276087095024, details={'was_impossible': False}),\n",
       " Prediction(uid=4, iid=97304, r_ui=None, est=3.5752242993828967, details={'was_impossible': False}),\n",
       " Prediction(uid=4, iid=103228, r_ui=None, est=3.1306292183157725, details={'was_impossible': False}),\n",
       " Prediction(uid=4, iid=103772, r_ui=None, est=2.9044929865430995, details={'was_impossible': False}),\n",
       " Prediction(uid=4, iid=109487, r_ui=None, est=3.7988435428448777, details={'was_impossible': False}),\n",
       " Prediction(uid=4, iid=111759, r_ui=None, est=3.637289459941983, details={'was_impossible': False}),\n",
       " Prediction(uid=4, iid=111781, r_ui=None, est=3.509689049658455, details={'was_impossible': False}),\n",
       " Prediction(uid=4, iid=112852, r_ui=None, est=3.565095778424782, details={'was_impossible': False}),\n",
       " Prediction(uid=4, iid=122882, r_ui=None, est=3.629454187708245, details={'was_impossible': False}),\n",
       " Prediction(uid=4, iid=122918, r_ui=None, est=3.485723818054355, details={'was_impossible': False}),\n",
       " Prediction(uid=4, iid=134130, r_ui=None, est=3.6874011578340222, details={'was_impossible': False}),\n",
       " Prediction(uid=4, iid=136020, r_ui=None, est=3.246023890757013, details={'was_impossible': False}),\n",
       " Prediction(uid=4, iid=148626, r_ui=None, est=3.8591587614552085, details={'was_impossible': False}),\n",
       " Prediction(uid=4, iid=156706, r_ui=None, est=2.8421329796863346, details={'was_impossible': False}),\n",
       " Prediction(uid=4, iid=159817, r_ui=None, est=4.23119491385511, details={'was_impossible': False}),\n",
       " Prediction(uid=4, iid=189333, r_ui=None, est=3.6067382093577733, details={'was_impossible': False}),\n",
       " Prediction(uid=5, iid=36, r_ui=None, est=4.55529653356968, details={'was_impossible': False}),\n",
       " Prediction(uid=5, iid=122, r_ui=None, est=2.914383748810351, details={'was_impossible': False}),\n",
       " Prediction(uid=5, iid=147, r_ui=None, est=4.171704782565478, details={'was_impossible': False}),\n",
       " Prediction(uid=5, iid=191, r_ui=None, est=2.5368251606151073, details={'was_impossible': False}),\n",
       " Prediction(uid=5, iid=218, r_ui=None, est=3.3680962016934943, details={'was_impossible': False}),\n",
       " Prediction(uid=5, iid=231, r_ui=None, est=3.2186036092737034, details={'was_impossible': False}),\n",
       " Prediction(uid=5, iid=248, r_ui=None, est=3.4184848195830857, details={'was_impossible': False}),\n",
       " Prediction(uid=5, iid=253, r_ui=None, est=3.757122070560433, details={'was_impossible': False}),\n",
       " Prediction(uid=5, iid=277, r_ui=None, est=3.5047190768848338, details={'was_impossible': False}),\n",
       " Prediction(uid=5, iid=333, r_ui=None, est=3.75659181418689, details={'was_impossible': False}),\n",
       " Prediction(uid=5, iid=337, r_ui=None, est=3.97979283905869, details={'was_impossible': False}),\n",
       " Prediction(uid=5, iid=344, r_ui=None, est=3.5048097053354925, details={'was_impossible': False}),\n",
       " Prediction(uid=5, iid=372, r_ui=None, est=3.7904783519014504, details={'was_impossible': False}),\n",
       " Prediction(uid=5, iid=435, r_ui=None, est=2.8703050319547034, details={'was_impossible': False}),\n",
       " Prediction(uid=5, iid=441, r_ui=None, est=3.8063188581808918, details={'was_impossible': False}),\n",
       " Prediction(uid=5, iid=457, r_ui=None, est=4.350364115204214, details={'was_impossible': False}),\n",
       " Prediction(uid=5, iid=491, r_ui=None, est=3.8181713238134747, details={'was_impossible': False}),\n",
       " Prediction(uid=5, iid=608, r_ui=None, est=4.56286254152232, details={'was_impossible': False}),\n",
       " Prediction(uid=5, iid=628, r_ui=None, est=4.030475253304285, details={'was_impossible': False}),\n",
       " Prediction(uid=5, iid=780, r_ui=None, est=3.7984930220532673, details={'was_impossible': False}),\n",
       " Prediction(uid=5, iid=1016, r_ui=None, est=3.769956903834608, details={'was_impossible': False}),\n",
       " Prediction(uid=5, iid=1196, r_ui=None, est=4.277269492362112, details={'was_impossible': False}),\n",
       " Prediction(uid=5, iid=1235, r_ui=None, est=4.454868777445238, details={'was_impossible': False}),\n",
       " Prediction(uid=5, iid=1270, r_ui=None, est=4.142365273511411, details={'was_impossible': False}),\n",
       " Prediction(uid=6, iid=161, r_ui=None, est=3.9006395765825173, details={'was_impossible': False}),\n",
       " Prediction(uid=6, iid=260, r_ui=None, est=4.382861015510518, details={'was_impossible': False}),\n",
       " Prediction(uid=6, iid=608, r_ui=None, est=4.068945616315205, details={'was_impossible': False}),\n",
       " Prediction(uid=6, iid=919, r_ui=None, est=4.170598702899144, details={'was_impossible': False}),\n",
       " Prediction(uid=6, iid=1466, r_ui=None, est=3.998127337702878, details={'was_impossible': False}),\n",
       " Prediction(uid=6, iid=1704, r_ui=None, est=4.309694981171684, details={'was_impossible': False}),\n",
       " Prediction(uid=7, iid=17, r_ui=None, est=3.864476317429617, details={'was_impossible': False}),\n",
       " Prediction(uid=7, iid=165, r_ui=None, est=3.174501544071419, details={'was_impossible': False}),\n",
       " Prediction(uid=7, iid=185, r_ui=None, est=3.3397696551671228, details={'was_impossible': False}),\n",
       " Prediction(uid=7, iid=308, r_ui=None, est=4.679824903312821, details={'was_impossible': False}),\n",
       " Prediction(uid=7, iid=590, r_ui=None, est=3.8226305884190976, details={'was_impossible': False}),\n",
       " Prediction(uid=8, iid=10, r_ui=None, est=3.514770005225318, details={'was_impossible': False}),\n",
       " Prediction(uid=8, iid=25, r_ui=None, est=3.8927901572784784, details={'was_impossible': False}),\n",
       " Prediction(uid=8, iid=27, r_ui=None, est=3.166453628189526, details={'was_impossible': False}),\n",
       " Prediction(uid=8, iid=50, r_ui=None, est=4.025360507794316, details={'was_impossible': False}),\n",
       " Prediction(uid=8, iid=69, r_ui=None, est=3.9196047576031328, details={'was_impossible': False}),\n",
       " Prediction(uid=8, iid=207, r_ui=None, est=3.305285809523686, details={'was_impossible': False}),\n",
       " Prediction(uid=8, iid=237, r_ui=None, est=2.883289538941776, details={'was_impossible': False}),\n",
       " Prediction(uid=8, iid=260, r_ui=None, est=4.013580086015528, details={'was_impossible': False}),\n",
       " Prediction(uid=8, iid=356, r_ui=None, est=3.7731785599089163, details={'was_impossible': False}),\n",
       " Prediction(uid=8, iid=440, r_ui=None, est=3.7597726299509993, details={'was_impossible': False}),\n",
       " Prediction(uid=8, iid=588, r_ui=None, est=3.7175622434936124, details={'was_impossible': False}),\n",
       " Prediction(uid=8, iid=593, r_ui=None, est=4.1143816833005875, details={'was_impossible': False}),\n",
       " Prediction(uid=8, iid=750, r_ui=None, est=4.359808588318939, details={'was_impossible': False}),\n",
       " Prediction(uid=8, iid=923, r_ui=None, est=4.090481867418806, details={'was_impossible': False}),\n",
       " Prediction(uid=8, iid=953, r_ui=None, est=4.622364550369667, details={'was_impossible': False}),\n",
       " Prediction(uid=8, iid=1020, r_ui=None, est=3.581701710022684, details={'was_impossible': False}),\n",
       " Prediction(uid=8, iid=1047, r_ui=None, est=3.1012534071907374, details={'was_impossible': False}),\n",
       " Prediction(uid=8, iid=1092, r_ui=None, est=3.556087586177913, details={'was_impossible': False}),\n",
       " Prediction(uid=8, iid=1210, r_ui=None, est=4.123963487877291, details={'was_impossible': False}),\n",
       " Prediction(uid=8, iid=1240, r_ui=None, est=3.988350170727328, details={'was_impossible': False}),\n",
       " Prediction(uid=8, iid=1259, r_ui=None, est=3.8444659297355885, details={'was_impossible': False}),\n",
       " Prediction(uid=8, iid=1287, r_ui=None, est=4.077216355858604, details={'was_impossible': False}),\n",
       " Prediction(uid=8, iid=1358, r_ui=None, est=3.7936601283333635, details={'was_impossible': False}),\n",
       " Prediction(uid=8, iid=1370, r_ui=None, est=3.517921082446719, details={'was_impossible': False}),\n",
       " Prediction(uid=8, iid=1485, r_ui=None, est=3.145169343101361, details={'was_impossible': False}),\n",
       " Prediction(uid=8, iid=1552, r_ui=None, est=3.152938116183635, details={'was_impossible': False}),\n",
       " Prediction(uid=8, iid=1573, r_ui=None, est=3.4212362888050123, details={'was_impossible': False}),\n",
       " Prediction(uid=8, iid=1584, r_ui=None, est=3.3935519924937085, details={'was_impossible': False}),\n",
       " Prediction(uid=8, iid=1616, r_ui=None, est=2.9274813075795647, details={'was_impossible': False}),\n",
       " Prediction(uid=8, iid=1625, r_ui=None, est=3.8745969404897034, details={'was_impossible': False}),\n",
       " Prediction(uid=8, iid=1645, r_ui=None, est=3.4845137591830815, details={'was_impossible': False}),\n",
       " Prediction(uid=8, iid=1747, r_ui=None, est=3.5012984912235012, details={'was_impossible': False}),\n",
       " Prediction(uid=9, iid=10, r_ui=None, est=4.122540789184378, details={'was_impossible': False}),\n",
       " Prediction(uid=9, iid=61, r_ui=None, est=3.8889206432320784, details={'was_impossible': False}),\n",
       " Prediction(uid=9, iid=105, r_ui=None, est=3.905711673530544, details={'was_impossible': False}),\n",
       " Prediction(uid=9, iid=116, r_ui=None, est=4.469847968605571, details={'was_impossible': False}),\n",
       " Prediction(uid=9, iid=161, r_ui=None, est=3.7236316348915466, details={'was_impossible': False}),\n",
       " Prediction(uid=9, iid=260, r_ui=None, est=4.608488064376312, details={'was_impossible': False}),\n",
       " Prediction(uid=9, iid=355, r_ui=None, est=2.9757905221436736, details={'was_impossible': False}),\n",
       " Prediction(uid=9, iid=356, r_ui=None, est=4.099778052438683, details={'was_impossible': False}),\n",
       " Prediction(uid=9, iid=366, r_ui=None, est=3.2284796370224824, details={'was_impossible': False}),\n",
       " Prediction(uid=9, iid=378, r_ui=None, est=3.84325127511911, details={'was_impossible': False}),\n",
       " Prediction(uid=9, iid=387, r_ui=None, est=2.9198092838007477, details={'was_impossible': False}),\n",
       " Prediction(uid=9, iid=435, r_ui=None, est=2.886411690635437, details={'was_impossible': False}),\n",
       " Prediction(uid=9, iid=454, r_ui=None, est=3.469845506213409, details={'was_impossible': False}),\n",
       " Prediction(uid=9, iid=466, r_ui=None, est=3.4001110116033577, details={'was_impossible': False}),\n",
       " Prediction(uid=9, iid=474, r_ui=None, est=4.489085110044673, details={'was_impossible': False}),\n",
       " Prediction(uid=9, iid=516, r_ui=None, est=3.9280777197297545, details={'was_impossible': False}),\n",
       " Prediction(uid=9, iid=541, r_ui=None, est=4.685616617865887, details={'was_impossible': False}),\n",
       " Prediction(uid=9, iid=590, r_ui=None, est=4.060624357340424, details={'was_impossible': False}),\n",
       " Prediction(uid=9, iid=592, r_ui=None, est=3.8198214037449647, details={'was_impossible': False}),\n",
       " Prediction(uid=9, iid=594, r_ui=None, est=3.8899752769969282, details={'was_impossible': False}),\n",
       " Prediction(uid=9, iid=597, r_ui=None, est=4.123435970343665, details={'was_impossible': False}),\n",
       " Prediction(uid=9, iid=616, r_ui=None, est=3.6756727700617784, details={'was_impossible': False}),\n",
       " Prediction(uid=9, iid=667, r_ui=None, est=2.6339657834738994, details={'was_impossible': False}),\n",
       " Prediction(uid=9, iid=852, r_ui=None, est=3.786895148585749, details={'was_impossible': False}),\n",
       " Prediction(uid=9, iid=971, r_ui=None, est=4.323735650394905, details={'was_impossible': False}),\n",
       " Prediction(uid=9, iid=1005, r_ui=None, est=2.8229866168011624, details={'was_impossible': False}),\n",
       " Prediction(uid=9, iid=1010, r_ui=None, est=3.5196190899295607, details={'was_impossible': False}),\n",
       " Prediction(uid=9, iid=1011, r_ui=None, est=3.4390822931575333, details={'was_impossible': False}),\n",
       " Prediction(uid=9, iid=1018, r_ui=None, est=3.5072019808731993, details={'was_impossible': False}),\n",
       " Prediction(uid=9, iid=1028, r_ui=None, est=3.9466312396052774, details={'was_impossible': False}),\n",
       " Prediction(uid=9, iid=1079, r_ui=None, est=4.30840300953003, details={'was_impossible': False}),\n",
       " Prediction(uid=9, iid=1097, r_ui=None, est=4.038285618515273, details={'was_impossible': False}),\n",
       " Prediction(uid=9, iid=1101, r_ui=None, est=3.9240730857990074, details={'was_impossible': False}),\n",
       " Prediction(uid=9, iid=1124, r_ui=None, est=4.021354179446383, details={'was_impossible': False}),\n",
       " Prediction(uid=9, iid=1125, r_ui=None, est=4.004431938029244, details={'was_impossible': False}),\n",
       " Prediction(uid=9, iid=1127, r_ui=None, est=4.1220821920519635, details={'was_impossible': False}),\n",
       " Prediction(uid=9, iid=1200, r_ui=None, est=4.55912096018774, details={'was_impossible': False}),\n",
       " Prediction(uid=9, iid=1221, r_ui=None, est=4.985797506023863, details={'was_impossible': False}),\n",
       " Prediction(uid=9, iid=1222, r_ui=None, est=4.664610986431243, details={'was_impossible': False}),\n",
       " Prediction(uid=9, iid=1258, r_ui=None, est=4.647082064936569, details={'was_impossible': False}),\n",
       " Prediction(uid=9, iid=1298, r_ui=None, est=4.407604508431197, details={'was_impossible': False}),\n",
       " Prediction(uid=9, iid=1299, r_ui=None, est=4.476009468528339, details={'was_impossible': False}),\n",
       " Prediction(uid=9, iid=1347, r_ui=None, est=3.648754835560567, details={'was_impossible': False}),\n",
       " Prediction(uid=9, iid=1372, r_ui=None, est=4.139073103583061, details={'was_impossible': False}),\n",
       " Prediction(uid=9, iid=1376, r_ui=None, est=4.230838106823358, details={'was_impossible': False}),\n",
       " Prediction(uid=9, iid=1381, r_ui=None, est=2.2428782448582085, details={'was_impossible': False}),\n",
       " Prediction(uid=10, iid=260, r_ui=None, est=3.9634568518815496, details={'was_impossible': False}),\n",
       " Prediction(uid=10, iid=380, r_ui=None, est=3.371042860658596, details={'was_impossible': False}),\n",
       " Prediction(uid=10, iid=1186, r_ui=None, est=3.329111078267246, details={'was_impossible': False}),\n",
       " Prediction(uid=10, iid=2094, r_ui=None, est=3.1713465422586826, details={'was_impossible': False}),\n",
       " Prediction(uid=10, iid=2505, r_ui=None, est=2.972233654048901, details={'was_impossible': False}),\n",
       " Prediction(uid=10, iid=2605, r_ui=None, est=3.1373668797085523, details={'was_impossible': False}),\n",
       " Prediction(uid=10, iid=2707, r_ui=None, est=3.1933304739799078, details={'was_impossible': False}),\n",
       " Prediction(uid=10, iid=2944, r_ui=None, est=3.8025163558211643, details={'was_impossible': False}),\n",
       " Prediction(uid=10, iid=4361, r_ui=None, est=3.352889817938843, details={'was_impossible': False}),\n",
       " Prediction(uid=10, iid=5049, r_ui=None, est=3.7309162508496296, details={'was_impossible': False}),\n",
       " Prediction(uid=10, iid=6383, r_ui=None, est=2.748938073332164, details={'was_impossible': False}),\n",
       " Prediction(uid=10, iid=6953, r_ui=None, est=3.6985315550847475, details={'was_impossible': False}),\n",
       " Prediction(uid=10, iid=7444, r_ui=None, est=3.03655708564764, details={'was_impossible': False}),\n",
       " Prediction(uid=10, iid=7566, r_ui=None, est=4.038161956523578, details={'was_impossible': False}),\n",
       " Prediction(uid=10, iid=53953, r_ui=None, est=3.426747555031916, details={'was_impossible': False}),\n",
       " Prediction(uid=11, iid=1207, r_ui=None, est=3.4114209145158103, details={'was_impossible': False}),\n",
       " Prediction(uid=11, iid=2329, r_ui=None, est=3.211501881816067, details={'was_impossible': False}),\n",
       " Prediction(uid=11, iid=2581, r_ui=None, est=2.945944270623414, details={'was_impossible': False}),\n",
       " Prediction(uid=11, iid=2881, r_ui=None, est=2.3696380158020123, details={'was_impossible': False}),\n",
       " Prediction(uid=11, iid=4210, r_ui=None, est=3.3108326514023863, details={'was_impossible': False}),\n",
       " Prediction(uid=11, iid=33669, r_ui=None, est=2.9717996959860593, details={'was_impossible': False}),\n",
       " Prediction(uid=11, iid=42723, r_ui=None, est=1.7435617335442777, details={'was_impossible': False}),\n",
       " Prediction(uid=12, iid=7, r_ui=None, est=2.891730596250702, details={'was_impossible': False}),\n",
       " Prediction(uid=12, iid=21, r_ui=None, est=3.506149037378454, details={'was_impossible': False}),\n",
       " Prediction(uid=12, iid=47, r_ui=None, est=4.093508738051773, details={'was_impossible': False}),\n",
       " Prediction(uid=12, iid=50, r_ui=None, est=3.8703348377523628, details={'was_impossible': False}),\n",
       " Prediction(uid=12, iid=141, r_ui=None, est=3.6066101197498774, details={'was_impossible': False}),\n",
       " Prediction(uid=12, iid=160, r_ui=None, est=2.543014185396972, details={'was_impossible': False}),\n",
       " Prediction(uid=12, iid=163, r_ui=None, est=3.4798778489447124, details={'was_impossible': False}),\n",
       " Prediction(uid=12, iid=203, r_ui=None, est=2.752548351762906, details={'was_impossible': False}),\n",
       " Prediction(uid=12, iid=238, r_ui=None, est=3.1460922580607518, details={'was_impossible': False}),\n",
       " Prediction(uid=12, iid=268, r_ui=None, est=3.506701073666287, details={'was_impossible': False}),\n",
       " Prediction(uid=12, iid=292, r_ui=None, est=3.2220426874176757, details={'was_impossible': False}),\n",
       " Prediction(uid=12, iid=293, r_ui=None, est=3.6909541635799665, details={'was_impossible': False}),\n",
       " Prediction(uid=12, iid=344, r_ui=None, est=3.111153270123107, details={'was_impossible': False}),\n",
       " Prediction(uid=12, iid=374, r_ui=None, est=2.3301630345747424, details={'was_impossible': False}),\n",
       " Prediction(uid=12, iid=376, r_ui=None, est=2.7102644690675732, details={'was_impossible': False}),\n",
       " Prediction(uid=12, iid=380, r_ui=None, est=3.294890539193148, details={'was_impossible': False}),\n",
       " Prediction(uid=12, iid=477, r_ui=None, est=3.248116569612734, details={'was_impossible': False}),\n",
       " Prediction(uid=12, iid=497, r_ui=None, est=3.544990488248724, details={'was_impossible': False}),\n",
       " Prediction(uid=12, iid=538, r_ui=None, est=3.4979735493393043, details={'was_impossible': False}),\n",
       " Prediction(uid=12, iid=575, r_ui=None, est=2.8837522540229363, details={'was_impossible': False}),\n",
       " Prediction(uid=12, iid=592, r_ui=None, est=3.1074418207759122, details={'was_impossible': False}),\n",
       " Prediction(uid=12, iid=603, r_ui=None, est=2.7552245135881877, details={'was_impossible': False}),\n",
       " Prediction(uid=12, iid=608, r_ui=None, est=3.8145091720696715, details={'was_impossible': False}),\n",
       " Prediction(uid=12, iid=613, r_ui=None, est=3.327291301714431, details={'was_impossible': False}),\n",
       " Prediction(uid=12, iid=765, r_ui=None, est=2.7711296723314183, details={'was_impossible': False}),\n",
       " Prediction(uid=12, iid=778, r_ui=None, est=3.9234532282127867, details={'was_impossible': False}),\n",
       " Prediction(uid=12, iid=780, r_ui=None, est=3.182911878916497, details={'was_impossible': False}),\n",
       " Prediction(uid=12, iid=858, r_ui=None, est=4.103239810286106, details={'was_impossible': False}),\n",
       " Prediction(uid=12, iid=932, r_ui=None, est=3.3582354953102223, details={'was_impossible': False}),\n",
       " Prediction(uid=12, iid=1013, r_ui=None, est=3.3841062860827296, details={'was_impossible': False}),\n",
       " Prediction(uid=12, iid=1015, r_ui=None, est=2.98632527021588, details={'was_impossible': False}),\n",
       " Prediction(uid=12, iid=1057, r_ui=None, est=3.2355899796942786, details={'was_impossible': False}),\n",
       " Prediction(uid=12, iid=1135, r_ui=None, est=2.8069110852648573, details={'was_impossible': False}),\n",
       " Prediction(uid=12, iid=1136, r_ui=None, est=4.228777059288173, details={'was_impossible': False}),\n",
       " Prediction(uid=12, iid=1183, r_ui=None, est=3.282563785786621, details={'was_impossible': False}),\n",
       " Prediction(uid=12, iid=1188, r_ui=None, est=3.5825851013208294, details={'was_impossible': False}),\n",
       " Prediction(uid=12, iid=1194, r_ui=None, est=3.342253569659513, details={'was_impossible': False}),\n",
       " Prediction(uid=12, iid=1200, r_ui=None, est=3.8861004178618272, details={'was_impossible': False}),\n",
       " Prediction(uid=12, iid=1225, r_ui=None, est=4.2622171405262606, details={'was_impossible': False}),\n",
       " Prediction(uid=12, iid=1230, r_ui=None, est=3.68678123637535, details={'was_impossible': False}),\n",
       " Prediction(uid=12, iid=1231, r_ui=None, est=3.685107433008922, details={'was_impossible': False}),\n",
       " Prediction(uid=12, iid=1243, r_ui=None, est=3.734765777307341, details={'was_impossible': False}),\n",
       " Prediction(uid=12, iid=1258, r_ui=None, est=3.8707166919475164, details={'was_impossible': False}),\n",
       " Prediction(uid=12, iid=1265, r_ui=None, est=3.7021987038756436, details={'was_impossible': False}),\n",
       " Prediction(uid=12, iid=1267, r_ui=None, est=3.813143734509956, details={'was_impossible': False}),\n",
       " Prediction(uid=12, iid=1270, r_ui=None, est=3.4868061127980297, details={'was_impossible': False}),\n",
       " Prediction(uid=12, iid=1387, r_ui=None, est=3.7092875677696053, details={'was_impossible': False}),\n",
       " Prediction(uid=12, iid=1391, r_ui=None, est=2.8457174789023663, details={'was_impossible': False}),\n",
       " Prediction(uid=12, iid=1393, r_ui=None, est=3.209847071278726, details={'was_impossible': False}),\n",
       " Prediction(uid=12, iid=1394, r_ui=None, est=3.2872817772141, details={'was_impossible': False}),\n",
       " Prediction(uid=12, iid=1474, r_ui=None, est=2.4386145670513426, details={'was_impossible': False}),\n",
       " Prediction(uid=12, iid=1552, r_ui=None, est=3.0965578566267062, details={'was_impossible': False}),\n",
       " Prediction(uid=12, iid=1586, r_ui=None, est=2.81194459684871, details={'was_impossible': False}),\n",
       " Prediction(uid=12, iid=1596, r_ui=None, est=2.8648326228469947, details={'was_impossible': False}),\n",
       " Prediction(uid=12, iid=1644, r_ui=None, est=2.463370475053002, details={'was_impossible': False}),\n",
       " Prediction(uid=12, iid=1665, r_ui=None, est=2.605080630494664, details={'was_impossible': False}),\n",
       " Prediction(uid=12, iid=1682, r_ui=None, est=3.836415728792646, details={'was_impossible': False}),\n",
       " Prediction(uid=12, iid=1777, r_ui=None, est=3.449152984244737, details={'was_impossible': False}),\n",
       " Prediction(uid=12, iid=1876, r_ui=None, est=2.9036174928971747, details={'was_impossible': False}),\n",
       " Prediction(uid=12, iid=1884, r_ui=None, est=3.555721603508352, details={'was_impossible': False}),\n",
       " Prediction(uid=12, iid=1947, r_ui=None, est=3.608931446582284, details={'was_impossible': False}),\n",
       " Prediction(uid=12, iid=2052, r_ui=None, est=3.1414719778953293, details={'was_impossible': False}),\n",
       " Prediction(uid=12, iid=2081, r_ui=None, est=3.5560324935560956, details={'was_impossible': False}),\n",
       " Prediction(uid=12, iid=2108, r_ui=None, est=3.213163719025865, details={'was_impossible': False}),\n",
       " Prediction(uid=12, iid=2174, r_ui=None, est=3.2922204872909804, details={'was_impossible': False}),\n",
       " Prediction(uid=12, iid=2318, r_ui=None, est=3.716766256200205, details={'was_impossible': False}),\n",
       " Prediction(uid=12, iid=2336, r_ui=None, est=3.434075764917858, details={'was_impossible': False}),\n",
       " Prediction(uid=12, iid=2374, r_ui=None, est=2.921007008785704, details={'was_impossible': False}),\n",
       " Prediction(uid=12, iid=2381, r_ui=None, est=1.9148257390914931, details={'was_impossible': False}),\n",
       " Prediction(uid=12, iid=2406, r_ui=None, est=3.290225950295076, details={'was_impossible': False}),\n",
       " Prediction(uid=12, iid=2420, r_ui=None, est=3.2184378557778435, details={'was_impossible': False}),\n",
       " Prediction(uid=12, iid=2459, r_ui=None, est=3.117572778723008, details={'was_impossible': False}),\n",
       " Prediction(uid=12, iid=2469, r_ui=None, est=3.164956067047494, details={'was_impossible': False}),\n",
       " Prediction(uid=12, iid=2500, r_ui=None, est=2.3792272875259712, details={'was_impossible': False}),\n",
       " Prediction(uid=12, iid=2599, r_ui=None, est=3.416664397457729, details={'was_impossible': False}),\n",
       " Prediction(uid=12, iid=2762, r_ui=None, est=3.6923270859594344, details={'was_impossible': False}),\n",
       " Prediction(uid=12, iid=2770, r_ui=None, est=2.64090335529685, details={'was_impossible': False}),\n",
       " Prediction(uid=12, iid=2797, r_ui=None, est=3.5582694547882063, details={'was_impossible': False}),\n",
       " Prediction(uid=12, iid=2863, r_ui=None, est=3.5790927926084715, details={'was_impossible': False}),\n",
       " Prediction(uid=12, iid=2881, r_ui=None, est=2.9939045660221777, details={'was_impossible': False}),\n",
       " Prediction(uid=12, iid=2901, r_ui=None, est=2.710877145045852, details={'was_impossible': False}),\n",
       " Prediction(uid=12, iid=2948, r_ui=None, est=3.5766914493187434, details={'was_impossible': False}),\n",
       " Prediction(uid=12, iid=2987, r_ui=None, est=3.4072909389577815, details={'was_impossible': False}),\n",
       " Prediction(uid=12, iid=3033, r_ui=None, est=3.3612123762328525, details={'was_impossible': False}),\n",
       " Prediction(uid=12, iid=3089, r_ui=None, est=3.826507549959798, details={'was_impossible': False}),\n",
       " Prediction(uid=12, iid=3148, r_ui=None, est=3.311831375320501, details={'was_impossible': False}),\n",
       " Prediction(uid=12, iid=3186, r_ui=None, est=3.2807331684667957, details={'was_impossible': False}),\n",
       " Prediction(uid=12, iid=3249, r_ui=None, est=3.1974926326870565, details={'was_impossible': False}),\n",
       " Prediction(uid=12, iid=3255, r_ui=None, est=3.3562188566637, details={'was_impossible': False}),\n",
       " Prediction(uid=12, iid=3262, r_ui=None, est=3.470924453391895, details={'was_impossible': False}),\n",
       " Prediction(uid=12, iid=3264, r_ui=None, est=2.969265433347284, details={'was_impossible': False}),\n",
       " Prediction(uid=12, iid=3274, r_ui=None, est=2.81912485895019, details={'was_impossible': False}),\n",
       " Prediction(uid=12, iid=3397, r_ui=None, est=3.6016781003310347, details={'was_impossible': False}),\n",
       " Prediction(uid=12, iid=3435, r_ui=None, est=3.9206424372924245, details={'was_impossible': False}),\n",
       " Prediction(uid=12, iid=3478, r_ui=None, est=3.203731909678114, details={'was_impossible': False}),\n",
       " Prediction(uid=12, iid=3538, r_ui=None, est=3.5083005088206716, details={'was_impossible': False}),\n",
       " Prediction(uid=12, iid=3578, r_ui=None, est=3.7290332353404443, details={'was_impossible': False}),\n",
       " Prediction(uid=12, iid=3608, r_ui=None, est=3.6883102583336553, details={'was_impossible': False}),\n",
       " Prediction(uid=12, iid=3633, r_ui=None, est=3.229900563982529, details={'was_impossible': False}),\n",
       " Prediction(uid=12, iid=3751, r_ui=None, est=3.2312911910111906, details={'was_impossible': False}),\n",
       " Prediction(uid=12, iid=3809, r_ui=None, est=3.140338020696899, details={'was_impossible': False}),\n",
       " Prediction(uid=12, iid=3823, r_ui=None, est=3.257974208513967, details={'was_impossible': False}),\n",
       " Prediction(uid=12, iid=3897, r_ui=None, est=3.506087179143495, details={'was_impossible': False}),\n",
       " Prediction(uid=12, iid=4022, r_ui=None, est=3.492783204518522, details={'was_impossible': False}),\n",
       " Prediction(uid=12, iid=4027, r_ui=None, est=3.9017660234863234, details={'was_impossible': False}),\n",
       " Prediction(uid=12, iid=4039, r_ui=None, est=3.110750755189718, details={'was_impossible': False}),\n",
       " Prediction(uid=12, iid=4080, r_ui=None, est=2.947692274574391, details={'was_impossible': False}),\n",
       " Prediction(uid=12, iid=4100, r_ui=None, est=1.7787590435451024, details={'was_impossible': False}),\n",
       " Prediction(uid=12, iid=4105, r_ui=None, est=3.617046512603971, details={'was_impossible': False}),\n",
       " Prediction(uid=12, iid=4135, r_ui=None, est=3.0812700729407587, details={'was_impossible': False}),\n",
       " Prediction(uid=12, iid=4246, r_ui=None, est=3.3142212318093445, details={'was_impossible': False}),\n",
       " Prediction(uid=12, iid=4378, r_ui=None, est=3.550030345904807, details={'was_impossible': False}),\n",
       " Prediction(uid=12, iid=4529, r_ui=None, est=3.472439178543203, details={'was_impossible': False}),\n",
       " Prediction(uid=12, iid=4559, r_ui=None, est=2.5163429546964378, details={'was_impossible': False}),\n",
       " Prediction(uid=12, iid=4703, r_ui=None, est=3.2313891057373816, details={'was_impossible': False}),\n",
       " Prediction(uid=12, iid=5013, r_ui=None, est=3.3471075475905328, details={'was_impossible': False}),\n",
       " Prediction(uid=12, iid=5339, r_ui=None, est=3.64067179995109, details={'was_impossible': False}),\n",
       " Prediction(uid=12, iid=5459, r_ui=None, est=2.991154505810796, details={'was_impossible': False}),\n",
       " Prediction(uid=12, iid=5481, r_ui=None, est=2.7711467487213945, details={'was_impossible': False}),\n",
       " Prediction(uid=12, iid=5785, r_ui=None, est=2.8326637595007176, details={'was_impossible': False}),\n",
       " Prediction(uid=12, iid=6268, r_ui=None, est=3.7329495295374437, details={'was_impossible': False}),\n",
       " Prediction(uid=12, iid=6296, r_ui=None, est=3.587475548300872, details={'was_impossible': False}),\n",
       " Prediction(uid=12, iid=6297, r_ui=None, est=3.3395413462704147, details={'was_impossible': False}),\n",
       " Prediction(uid=12, iid=6539, r_ui=None, est=3.731934637855298, details={'was_impossible': False}),\n",
       " Prediction(uid=12, iid=6711, r_ui=None, est=3.829361574809901, details={'was_impossible': False}),\n",
       " Prediction(uid=12, iid=6750, r_ui=None, est=3.1623129442891686, details={'was_impossible': False}),\n",
       " Prediction(uid=12, iid=6863, r_ui=None, est=3.292820847607991, details={'was_impossible': False}),\n",
       " Prediction(uid=12, iid=6979, r_ui=None, est=3.480290988608099, details={'was_impossible': False}),\n",
       " Prediction(uid=12, iid=6993, r_ui=None, est=3.730715195650461, details={'was_impossible': False}),\n",
       " Prediction(uid=12, iid=8017, r_ui=None, est=3.3434787826620322, details={'was_impossible': False}),\n",
       " Prediction(uid=12, iid=8040, r_ui=None, est=3.481107242822483, details={'was_impossible': False}),\n",
       " Prediction(uid=12, iid=8644, r_ui=None, est=3.294580492223404, details={'was_impossible': False}),\n",
       " Prediction(uid=12, iid=8949, r_ui=None, est=3.53372477528259, details={'was_impossible': False}),\n",
       " Prediction(uid=12, iid=27790, r_ui=None, est=3.580817133272324, details={'was_impossible': False}),\n",
       " Prediction(uid=12, iid=27831, r_ui=None, est=3.5671547453053742, details={'was_impossible': False}),\n",
       " Prediction(uid=12, iid=32943, r_ui=None, est=4.0611662971620826, details={'was_impossible': False}),\n",
       " Prediction(uid=12, iid=33817, r_ui=None, est=3.3438851580325575, details={'was_impossible': False}),\n",
       " Prediction(uid=12, iid=41285, r_ui=None, est=3.677764473104319, details={'was_impossible': False}),\n",
       " Prediction(uid=12, iid=41712, r_ui=None, est=4.252288950815896, details={'was_impossible': False}),\n",
       " Prediction(uid=12, iid=44761, r_ui=None, est=3.542181916606821, details={'was_impossible': False}),\n",
       " Prediction(uid=12, iid=49272, r_ui=None, est=3.616699509415649, details={'was_impossible': False}),\n",
       " Prediction(uid=12, iid=54272, r_ui=None, est=3.3292511515384895, details={'was_impossible': False}),\n",
       " Prediction(uid=12, iid=55820, r_ui=None, est=3.922397977746587, details={'was_impossible': False}),\n",
       " Prediction(uid=12, iid=56788, r_ui=None, est=3.5919505769239084, details={'was_impossible': False}),\n",
       " Prediction(uid=12, iid=61319, r_ui=None, est=3.4551385452417387, details={'was_impossible': False}),\n",
       " Prediction(uid=12, iid=69122, r_ui=None, est=3.276181047091819, details={'was_impossible': False}),\n",
       " Prediction(uid=12, iid=69481, r_ui=None, est=3.714262751995199, details={'was_impossible': False}),\n",
       " Prediction(uid=12, iid=72226, r_ui=None, est=3.6828866833773497, details={'was_impossible': False}),\n",
       " Prediction(uid=12, iid=72720, r_ui=None, est=3.8403372500141173, details={'was_impossible': False}),\n",
       " Prediction(uid=12, iid=74677, r_ui=None, est=3.6019037635581124, details={'was_impossible': False}),\n",
       " Prediction(uid=13, iid=32, r_ui=None, est=4.137848757415108, details={'was_impossible': False}),\n",
       " Prediction(uid=13, iid=153, r_ui=None, est=3.061336578962373, details={'was_impossible': False}),\n",
       " Prediction(uid=13, iid=173, r_ui=None, est=2.7354504548272742, details={'was_impossible': False}),\n",
       " Prediction(uid=13, iid=216, r_ui=None, est=3.296722337697329, details={'was_impossible': False}),\n",
       " Prediction(uid=13, iid=303, r_ui=None, est=2.9836863074154305, details={'was_impossible': False}),\n",
       " Prediction(uid=13, iid=364, r_ui=None, est=3.8086800815620374, details={'was_impossible': False}),\n",
       " Prediction(uid=13, iid=377, r_ui=None, est=3.5165647582957544, details={'was_impossible': False}),\n",
       " Prediction(uid=13, iid=432, r_ui=None, est=2.6963147099272047, details={'was_impossible': False}),\n",
       " Prediction(uid=13, iid=551, r_ui=None, est=3.798323707255433, details={'was_impossible': False}),\n",
       " Prediction(uid=13, iid=736, r_ui=None, est=3.2704079142346636, details={'was_impossible': False}),\n",
       " Prediction(uid=13, iid=778, r_ui=None, est=4.032011366801971, details={'was_impossible': False}),\n",
       " Prediction(uid=13, iid=1089, r_ui=None, est=4.4107281491682615, details={'was_impossible': False}),\n",
       " Prediction(uid=13, iid=1127, r_ui=None, est=3.8624682129109917, details={'was_impossible': False}),\n",
       " Prediction(uid=13, iid=1198, r_ui=None, est=4.272278828564291, details={'was_impossible': False}),\n",
       " Prediction(uid=13, iid=1201, r_ui=None, est=4.076212138255046, details={'was_impossible': False}),\n",
       " Prediction(uid=13, iid=1214, r_ui=None, est=4.056430455577203, details={'was_impossible': False}),\n",
       " Prediction(uid=13, iid=1266, r_ui=None, est=4.015211079103883, details={'was_impossible': False}),\n",
       " Prediction(uid=13, iid=1270, r_ui=None, est=4.409092993296765, details={'was_impossible': False}),\n",
       " Prediction(uid=13, iid=1517, r_ui=None, est=3.764645655315954, details={'was_impossible': False}),\n",
       " Prediction(uid=13, iid=1721, r_ui=None, est=3.6078160668609773, details={'was_impossible': False}),\n",
       " Prediction(uid=13, iid=1748, r_ui=None, est=3.9698721795205465, details={'was_impossible': False}),\n",
       " Prediction(uid=13, iid=2011, r_ui=None, est=3.942954847401034, details={'was_impossible': False}),\n",
       " Prediction(uid=13, iid=2012, r_ui=None, est=3.4578250455713704, details={'was_impossible': False}),\n",
       " Prediction(uid=13, iid=2060, r_ui=None, est=3.3946901033818735, details={'was_impossible': False}),\n",
       " Prediction(uid=13, iid=2115, r_ui=None, est=3.9434698029866255, details={'was_impossible': False}),\n",
       " Prediction(uid=13, iid=2141, r_ui=None, est=3.7114210362385, details={'was_impossible': False}),\n",
       " Prediction(uid=13, iid=2288, r_ui=None, est=4.127289204250737, details={'was_impossible': False}),\n",
       " Prediction(uid=13, iid=2502, r_ui=None, est=4.097619747821349, details={'was_impossible': False}),\n",
       " Prediction(uid=13, iid=2571, r_ui=None, est=4.257734250283271, details={'was_impossible': False}),\n",
       " Prediction(uid=13, iid=3275, r_ui=None, est=4.054605334757624, details={'was_impossible': False}),\n",
       " Prediction(uid=13, iid=3300, r_ui=None, est=3.6120965127459077, details={'was_impossible': False}),\n",
       " Prediction(uid=13, iid=3508, r_ui=None, est=3.825165278034785, details={'was_impossible': False}),\n",
       " Prediction(uid=13, iid=3578, r_ui=None, est=4.181847979040374, details={'was_impossible': False}),\n",
       " Prediction(uid=13, iid=4161, r_ui=None, est=3.272840369739231, details={'was_impossible': False}),\n",
       " Prediction(uid=13, iid=4226, r_ui=None, est=4.4221061988629105, details={'was_impossible': False}),\n",
       " Prediction(uid=13, iid=4247, r_ui=None, est=2.7772263380968916, details={'was_impossible': False}),\n",
       " Prediction(uid=13, iid=5463, r_ui=None, est=3.243692395710138, details={'was_impossible': False}),\n",
       " Prediction(uid=13, iid=5502, r_ui=None, est=3.4428456513373367, details={'was_impossible': False}),\n",
       " Prediction(uid=13, iid=5882, r_ui=None, est=3.6346590078160004, details={'was_impossible': False}),\n",
       " Prediction(uid=13, iid=5956, r_ui=None, est=3.7931252311769215, details={'was_impossible': False}),\n",
       " Prediction(uid=13, iid=5989, r_ui=None, est=4.252097081135738, details={'was_impossible': False}),\n",
       " Prediction(uid=13, iid=6264, r_ui=None, est=2.796177937879671, details={'was_impossible': False}),\n",
       " Prediction(uid=13, iid=6539, r_ui=None, est=3.6782515645342073, details={'was_impossible': False}),\n",
       " Prediction(uid=13, iid=6934, r_ui=None, est=3.461434295399156, details={'was_impossible': False}),\n",
       " Prediction(uid=13, iid=6936, r_ui=None, est=3.7345657820975275, details={'was_impossible': False}),\n",
       " Prediction(uid=13, iid=7360, r_ui=None, est=3.7215494776584452, details={'was_impossible': False}),\n",
       " Prediction(uid=13, iid=7438, r_ui=None, est=4.095713317232956, details={'was_impossible': False}),\n",
       " Prediction(uid=13, iid=8366, r_ui=None, est=3.846398347528839, details={'was_impossible': False}),\n",
       " Prediction(uid=13, iid=8641, r_ui=None, est=3.5482495858495176, details={'was_impossible': False}),\n",
       " Prediction(uid=13, iid=8861, r_ui=None, est=3.0091285696865007, details={'was_impossible': False}),\n",
       " Prediction(uid=13, iid=26925, r_ui=None, est=3.7089302225799683, details={'was_impossible': False}),\n",
       " Prediction(uid=13, iid=32031, r_ui=None, est=3.216998608001259, details={'was_impossible': False}),\n",
       " Prediction(uid=13, iid=33004, r_ui=None, est=3.6129598829161003, details={'was_impossible': False}),\n",
       " Prediction(uid=13, iid=33158, r_ui=None, est=2.303221465349695, details={'was_impossible': False}),\n",
       " Prediction(uid=13, iid=33836, r_ui=None, est=2.844887959777796, details={'was_impossible': False}),\n",
       " Prediction(uid=13, iid=34111, r_ui=None, est=3.9341471523813194, details={'was_impossible': False}),\n",
       " Prediction(uid=13, iid=34162, r_ui=None, est=3.762776975804508, details={'was_impossible': False}),\n",
       " Prediction(uid=13, iid=37380, r_ui=None, est=2.493001774285481, details={'was_impossible': False}),\n",
       " Prediction(uid=13, iid=41569, r_ui=None, est=3.3729474787391553, details={'was_impossible': False}),\n",
       " Prediction(uid=13, iid=44195, r_ui=None, est=4.082182880894021, details={'was_impossible': False}),\n",
       " Prediction(uid=13, iid=47997, r_ui=None, est=3.8076668142725674, details={'was_impossible': False}),\n",
       " Prediction(uid=13, iid=48394, r_ui=None, est=3.8454839781465147, details={'was_impossible': False}),\n",
       " Prediction(uid=13, iid=48516, r_ui=None, est=4.265915905796496, details={'was_impossible': False}),\n",
       " Prediction(uid=13, iid=52321, r_ui=None, est=3.542822293614874, details={'was_impossible': False}),\n",
       " Prediction(uid=13, iid=53322, r_ui=None, est=3.672559702220022, details={'was_impossible': False}),\n",
       " Prediction(uid=13, iid=54256, r_ui=None, est=3.535844422356291, details={'was_impossible': False}),\n",
       " Prediction(uid=13, iid=56145, r_ui=None, est=3.825663711943814, details={'was_impossible': False}),\n",
       " Prediction(uid=13, iid=56757, r_ui=None, est=3.5383113767397663, details={'was_impossible': False}),\n",
       " Prediction(uid=13, iid=59315, r_ui=None, est=4.140682311276116, details={'was_impossible': False}),\n",
       " Prediction(uid=13, iid=59369, r_ui=None, est=3.7158436394651995, details={'was_impossible': False}),\n",
       " Prediction(uid=13, iid=59784, r_ui=None, est=3.458871280546823, details={'was_impossible': False}),\n",
       " Prediction(uid=13, iid=60037, r_ui=None, est=2.3730244302206085, details={'was_impossible': False}),\n",
       " Prediction(uid=13, iid=60756, r_ui=None, est=3.5910816561939773, details={'was_impossible': False}),\n",
       " Prediction(uid=13, iid=61289, r_ui=None, est=3.358637756167788, details={'was_impossible': False}),\n",
       " Prediction(uid=13, iid=61986, r_ui=None, est=3.4791707748143086, details={'was_impossible': False}),\n",
       " Prediction(uid=13, iid=63072, r_ui=None, est=4.104377076410322, details={'was_impossible': False}),\n",
       " Prediction(uid=13, iid=65514, r_ui=None, est=4.017055754438693, details={'was_impossible': False}),\n",
       " Prediction(uid=13, iid=66171, r_ui=None, est=3.472579142598212, details={'was_impossible': False}),\n",
       " Prediction(uid=13, iid=68237, r_ui=None, est=3.9547868005453277, details={'was_impossible': False}),\n",
       " Prediction(uid=13, iid=68554, r_ui=None, est=3.20652112274755, details={'was_impossible': False}),\n",
       " Prediction(uid=13, iid=68791, r_ui=None, est=3.2491461958315755, details={'was_impossible': False}),\n",
       " Prediction(uid=13, iid=69844, r_ui=None, est=3.880220794327561, details={'was_impossible': False}),\n",
       " Prediction(uid=13, iid=71135, r_ui=None, est=3.64889858054977, details={'was_impossible': False}),\n",
       " Prediction(uid=13, iid=71379, r_ui=None, est=3.2711081806482856, details={'was_impossible': False}),\n",
       " Prediction(uid=13, iid=74851, r_ui=None, est=3.223887293064352, details={'was_impossible': False}),\n",
       " Prediction(uid=13, iid=76093, r_ui=None, est=3.919175399394601, details={'was_impossible': False}),\n",
       " Prediction(uid=13, iid=76175, r_ui=None, est=2.6915210854324054, details={'was_impossible': False}),\n",
       " Prediction(uid=13, iid=77364, r_ui=None, est=3.5037923555538146, details={'was_impossible': False}),\n",
       " Prediction(uid=13, iid=78105, r_ui=None, est=3.2665395912449755, details={'was_impossible': False}),\n",
       " Prediction(uid=13, iid=78266, r_ui=None, est=3.0980666299116306, details={'was_impossible': False}),\n",
       " Prediction(uid=13, iid=78893, r_ui=None, est=1.9832645973134744, details={'was_impossible': False}),\n",
       " Prediction(uid=13, iid=80939, r_ui=None, est=3.951355518048305, details={'was_impossible': False}),\n",
       " Prediction(uid=13, iid=87306, r_ui=None, est=3.7801166977317173, details={'was_impossible': False}),\n",
       " Prediction(uid=13, iid=87869, r_ui=None, est=3.1036410688031495, details={'was_impossible': False}),\n",
       " Prediction(uid=13, iid=88785, r_ui=None, est=3.1501661674429977, details={'was_impossible': False}),\n",
       " Prediction(uid=14, iid=50, r_ui=None, est=4.789708840144136, details={'was_impossible': False}),\n",
       " Prediction(uid=14, iid=293, r_ui=None, est=4.411188010927712, details={'was_impossible': False}),\n",
       " Prediction(uid=14, iid=1265, r_ui=None, est=4.526100186062533, details={'was_impossible': False}),\n",
       " Prediction(uid=14, iid=2959, r_ui=None, est=4.063725971216715, details={'was_impossible': False}),\n",
       " Prediction(uid=14, iid=4993, r_ui=None, est=4.576841709623861, details={'was_impossible': False}),\n",
       " Prediction(uid=14, iid=8874, r_ui=None, est=4.189294555358968, details={'was_impossible': False}),\n",
       " Prediction(uid=14, iid=109374, r_ui=None, est=4.303917126473953, details={'was_impossible': False}),\n",
       " Prediction(uid=15, iid=349, r_ui=None, est=4.4054136090264215, details={'was_impossible': False}),\n",
       " Prediction(uid=15, iid=543, r_ui=None, est=3.9272240380196877, details={'was_impossible': False}),\n",
       " Prediction(uid=15, iid=1197, r_ui=None, est=4.899687807205957, details={'was_impossible': False}),\n",
       " Prediction(uid=15, iid=1265, r_ui=None, est=4.6861560995364, details={'was_impossible': False}),\n",
       " Prediction(uid=15, iid=1488, r_ui=None, est=3.7986697947320405, details={'was_impossible': False}),\n",
       " Prediction(uid=15, iid=2165, r_ui=None, est=3.806816637650962, details={'was_impossible': False}),\n",
       " Prediction(uid=15, iid=2373, r_ui=None, est=2.928293014096164, details={'was_impossible': False}),\n",
       " Prediction(uid=15, iid=2640, r_ui=None, est=4.031643048247475, details={'was_impossible': False}),\n",
       " Prediction(uid=15, iid=2672, r_ui=None, est=3.983683994372775, details={'was_impossible': False}),\n",
       " Prediction(uid=15, iid=2735, r_ui=None, est=3.5970189925440144, details={'was_impossible': False}),\n",
       " Prediction(uid=15, iid=2916, r_ui=None, est=4.263294606963514, details={'was_impossible': False}),\n",
       " Prediction(uid=15, iid=3020, r_ui=None, est=4.229438411774462, details={'was_impossible': False}),\n",
       " Prediction(uid=15, iid=3060, r_ui=None, est=4.505888114300129, details={'was_impossible': False}),\n",
       " Prediction(uid=15, iid=3298, r_ui=None, est=4.207238453196073, details={'was_impossible': False}),\n",
       " Prediction(uid=16, iid=318, r_ui=None, est=4.802285158826032, details={'was_impossible': False}),\n",
       " Prediction(uid=16, iid=1221, r_ui=None, est=4.21625643297224, details={'was_impossible': False}),\n",
       " Prediction(uid=16, iid=1704, r_ui=None, est=4.358066440088924, details={'was_impossible': False}),\n",
       " Prediction(uid=16, iid=4993, r_ui=None, est=4.510830553700395, details={'was_impossible': False}),\n",
       " Prediction(uid=16, iid=31658, r_ui=None, est=3.6551540994885308, details={'was_impossible': False}),\n",
       " Prediction(uid=17, iid=77561, r_ui=None, est=4.1068149259436915, details={'was_impossible': False}),\n",
       " Prediction(uid=17, iid=78105, r_ui=None, est=3.898773106931765, details={'was_impossible': False}),\n",
       " Prediction(uid=17, iid=103335, r_ui=None, est=4.561489580162256, details={'was_impossible': False}),\n",
       " Prediction(uid=18, iid=10, r_ui=None, est=3.4450959510153805, details={'was_impossible': False}),\n",
       " Prediction(uid=18, iid=110, r_ui=None, est=4.008085407581865, details={'was_impossible': False}),\n",
       " Prediction(uid=18, iid=160, r_ui=None, est=2.190913499583159, details={'was_impossible': False}),\n",
       " Prediction(uid=18, iid=173, r_ui=None, est=2.301263472767116, details={'was_impossible': False}),\n",
       " Prediction(uid=18, iid=337, r_ui=None, est=3.462358126074677, details={'was_impossible': False}),\n",
       " Prediction(uid=18, iid=356, r_ui=None, est=4.032281080486655, details={'was_impossible': False}),\n",
       " Prediction(uid=18, iid=357, r_ui=None, est=3.230403152913092, details={'was_impossible': False}),\n",
       " Prediction(uid=18, iid=410, r_ui=None, est=3.1643919806427694, details={'was_impossible': False}),\n",
       " Prediction(uid=18, iid=432, r_ui=None, est=2.26379687927925, details={'was_impossible': False}),\n",
       " Prediction(uid=18, iid=480, r_ui=None, est=3.52728493418593, details={'was_impossible': False}),\n",
       " Prediction(uid=18, iid=539, r_ui=None, est=3.026298599103832, details={'was_impossible': False}),\n",
       " Prediction(uid=18, iid=551, r_ui=None, est=3.5279247573709918, details={'was_impossible': False}),\n",
       " Prediction(uid=18, iid=593, r_ui=None, est=3.2741418481928664, details={'was_impossible': False}),\n",
       " Prediction(uid=18, iid=608, r_ui=None, est=3.2113782098076915, details={'was_impossible': False}),\n",
       " Prediction(uid=18, iid=708, r_ui=None, est=2.7606221916242575, details={'was_impossible': False}),\n",
       " Prediction(uid=18, iid=778, r_ui=None, est=3.820985086741165, details={'was_impossible': False}),\n",
       " Prediction(uid=18, iid=784, r_ui=None, est=2.4585815976451157, details={'was_impossible': False}),\n",
       " Prediction(uid=18, iid=802, r_ui=None, est=3.2444279147874013, details={'was_impossible': False}),\n",
       " Prediction(uid=18, iid=858, r_ui=None, est=4.08196463810043, details={'was_impossible': False}),\n",
       " Prediction(uid=18, iid=924, r_ui=None, est=3.348621077540877, details={'was_impossible': False}),\n",
       " Prediction(uid=18, iid=1094, r_ui=None, est=3.494055942005085, details={'was_impossible': False}),\n",
       " Prediction(uid=18, iid=1208, r_ui=None, est=3.4419627599759925, details={'was_impossible': False}),\n",
       " Prediction(uid=18, iid=1225, r_ui=None, est=3.431985469648363, details={'was_impossible': False}),\n",
       " Prediction(uid=18, iid=1234, r_ui=None, est=3.8760782389386743, details={'was_impossible': False}),\n",
       " Prediction(uid=18, iid=1265, r_ui=None, est=3.5895703686902443, details={'was_impossible': False}),\n",
       " Prediction(uid=18, iid=1278, r_ui=None, est=3.7750026966158896, details={'was_impossible': False}),\n",
       " Prediction(uid=18, iid=1307, r_ui=None, est=3.560337190124118, details={'was_impossible': False}),\n",
       " Prediction(uid=18, iid=2167, r_ui=None, est=3.6169054302556307, details={'was_impossible': False}),\n",
       " Prediction(uid=18, iid=2268, r_ui=None, est=3.4358248386694235, details={'was_impossible': False}),\n",
       " Prediction(uid=18, iid=2291, r_ui=None, est=3.4730068209295344, details={'was_impossible': False}),\n",
       " Prediction(uid=18, iid=2353, r_ui=None, est=3.3537550759036145, details={'was_impossible': False}),\n",
       " Prediction(uid=18, iid=2529, r_ui=None, est=3.2773869572008003, details={'was_impossible': False}),\n",
       " Prediction(uid=18, iid=2571, r_ui=None, est=4.205543010908088, details={'was_impossible': False}),\n",
       " Prediction(uid=18, iid=2654, r_ui=None, est=3.223315184692943, details={'was_impossible': False}),\n",
       " Prediction(uid=18, iid=2683, r_ui=None, est=3.158625965826662, details={'was_impossible': False}),\n",
       " Prediction(uid=18, iid=2710, r_ui=None, est=2.986584048364283, details={'was_impossible': False}),\n",
       " Prediction(uid=18, iid=2797, r_ui=None, est=3.3402536893673602, details={'was_impossible': False}),\n",
       " Prediction(uid=18, iid=3105, r_ui=None, est=3.38091822772911, details={'was_impossible': False}),\n",
       " Prediction(uid=18, iid=3355, r_ui=None, est=3.3827896616001247, details={'was_impossible': False}),\n",
       " Prediction(uid=18, iid=3471, r_ui=None, est=3.7766247787973657, details={'was_impossible': False}),\n",
       " Prediction(uid=18, iid=4270, r_ui=None, est=2.8325291627924027, details={'was_impossible': False}),\n",
       " Prediction(uid=18, iid=4643, r_ui=None, est=2.867807730509347, details={'was_impossible': False}),\n",
       " Prediction(uid=18, iid=4993, r_ui=None, est=4.437366031466786, details={'was_impossible': False}),\n",
       " Prediction(uid=18, iid=5911, r_ui=None, est=3.7662499101235345, details={'was_impossible': False}),\n",
       " Prediction(uid=18, iid=6754, r_ui=None, est=2.97468161100953, details={'was_impossible': False}),\n",
       " Prediction(uid=18, iid=6796, r_ui=None, est=3.3745329253040794, details={'was_impossible': False}),\n",
       " Prediction(uid=18, iid=7143, r_ui=None, est=3.1979728806791474, details={'was_impossible': False}),\n",
       " Prediction(uid=18, iid=7454, r_ui=None, est=2.641045936430114, details={'was_impossible': False}),\n",
       " Prediction(uid=18, iid=8623, r_ui=None, est=3.204752607457577, details={'was_impossible': False}),\n",
       " Prediction(uid=18, iid=8827, r_ui=None, est=3.7235518920061828, details={'was_impossible': False}),\n",
       " Prediction(uid=19, iid=595, r_ui=None, est=3.3866492528093275, details={'was_impossible': False}),\n",
       " Prediction(uid=19, iid=778, r_ui=None, est=3.6813420785767312, details={'was_impossible': False}),\n",
       " Prediction(uid=19, iid=924, r_ui=None, est=4.0312928479912316, details={'was_impossible': False}),\n",
       " Prediction(uid=19, iid=968, r_ui=None, est=3.248890572015946, details={'was_impossible': False}),\n",
       " Prediction(uid=19, iid=1015, r_ui=None, est=3.1513766630138975, details={'was_impossible': False}),\n",
       " Prediction(uid=19, iid=1022, r_ui=None, est=3.424118352163506, details={'was_impossible': False}),\n",
       " Prediction(uid=19, iid=1200, r_ui=None, est=3.737847299301629, details={'was_impossible': False}),\n",
       " Prediction(uid=19, iid=1214, r_ui=None, est=4.065868047203743, details={'was_impossible': False}),\n",
       " Prediction(uid=19, iid=1258, r_ui=None, est=3.9652204181910893, details={'was_impossible': False}),\n",
       " Prediction(uid=19, iid=1282, r_ui=None, est=3.8167400479675813, details={'was_impossible': False}),\n",
       " Prediction(uid=19, iid=1287, r_ui=None, est=3.772854834269088, details={'was_impossible': False}),\n",
       " Prediction(uid=19, iid=1527, r_ui=None, est=3.5849132709978435, details={'was_impossible': False}),\n",
       " Prediction(uid=19, iid=1641, r_ui=None, est=3.588824555286609, details={'was_impossible': False}),\n",
       " Prediction(uid=19, iid=1690, r_ui=None, est=2.908952693140353, details={'was_impossible': False}),\n",
       " Prediction(uid=19, iid=1809, r_ui=None, est=3.9867394850228624, details={'was_impossible': False}),\n",
       " Prediction(uid=19, iid=1954, r_ui=None, est=3.5024357305667007, details={'was_impossible': False}),\n",
       " Prediction(uid=19, iid=2006, r_ui=None, est=2.8653761923105785, details={'was_impossible': False}),\n",
       " Prediction(uid=19, iid=2080, r_ui=None, est=3.2141097227309885, details={'was_impossible': False}),\n",
       " Prediction(uid=19, iid=2313, r_ui=None, est=3.7298219714353413, details={'was_impossible': False}),\n",
       " Prediction(uid=19, iid=2810, r_ui=None, est=4.018937632765851, details={'was_impossible': False}),\n",
       " Prediction(uid=19, iid=2959, r_ui=None, est=4.279609113123101, details={'was_impossible': False}),\n",
       " Prediction(uid=19, iid=3000, r_ui=None, est=3.69007994402667, details={'was_impossible': False}),\n",
       " Prediction(uid=19, iid=3785, r_ui=None, est=2.5967469387867124, details={'was_impossible': False}),\n",
       " Prediction(uid=19, iid=4022, r_ui=None, est=3.5611287710159147, details={'was_impossible': False}),\n",
       " Prediction(uid=19, iid=4306, r_ui=None, est=3.6221499371217485, details={'was_impossible': False}),\n",
       " Prediction(uid=19, iid=4312, r_ui=None, est=3.8163594485389662, details={'was_impossible': False}),\n",
       " Prediction(uid=19, iid=4366, r_ui=None, est=3.306469404406075, details={'was_impossible': False}),\n",
       " Prediction(uid=19, iid=4367, r_ui=None, est=2.6268389005307777, details={'was_impossible': False}),\n",
       " Prediction(uid=19, iid=4446, r_ui=None, est=3.06881393720647, details={'was_impossible': False}),\n",
       " Prediction(uid=19, iid=4828, r_ui=None, est=3.209585902194843, details={'was_impossible': False}),\n",
       " Prediction(uid=19, iid=5378, r_ui=None, est=2.5627696351813185, details={'was_impossible': False}),\n",
       " Prediction(uid=19, iid=5690, r_ui=None, est=3.7342962365648624, details={'was_impossible': False}),\n",
       " Prediction(uid=19, iid=5952, r_ui=None, est=3.61081196330538, details={'was_impossible': False}),\n",
       " Prediction(uid=19, iid=6016, r_ui=None, est=3.5275001781111173, details={'was_impossible': False}),\n",
       " Prediction(uid=19, iid=6333, r_ui=None, est=3.2857223847820185, details={'was_impossible': False}),\n",
       " Prediction(uid=19, iid=6618, r_ui=None, est=3.3291050946792824, details={'was_impossible': False}),\n",
       " Prediction(uid=19, iid=6713, r_ui=None, est=4.089823098300467, details={'was_impossible': False}),\n",
       " Prediction(uid=19, iid=6863, r_ui=None, est=3.327794077169206, details={'was_impossible': False}),\n",
       " Prediction(uid=19, iid=7438, r_ui=None, est=3.451364723410183, details={'was_impossible': False}),\n",
       " Prediction(uid=19, iid=8157, r_ui=None, est=3.3729347548631843, details={'was_impossible': False}),\n",
       " Prediction(uid=19, iid=8368, r_ui=None, est=3.784011678969528, details={'was_impossible': False}),\n",
       " Prediction(uid=19, iid=8464, r_ui=None, est=3.197133099607158, details={'was_impossible': False}),\n",
       " Prediction(uid=19, iid=8644, r_ui=None, est=3.2035153117515227, details={'was_impossible': False}),\n",
       " Prediction(uid=19, iid=26565, r_ui=None, est=3.6732815996620443, details={'was_impossible': False}),\n",
       " Prediction(uid=19, iid=26776, r_ui=None, est=3.9171623667544537, details={'was_impossible': False}),\n",
       " Prediction(uid=19, iid=27368, r_ui=None, est=3.446339265454109, details={'was_impossible': False}),\n",
       " Prediction(uid=19, iid=27815, r_ui=None, est=3.8442338971942194, details={'was_impossible': False}),\n",
       " Prediction(uid=19, iid=30707, r_ui=None, est=3.8418969627345265, details={'was_impossible': False}),\n",
       " Prediction(uid=19, iid=31410, r_ui=None, est=4.021760409992215, details={'was_impossible': False}),\n",
       " Prediction(uid=19, iid=31658, r_ui=None, est=4.08551882769867, details={'was_impossible': False}),\n",
       " Prediction(uid=19, iid=32840, r_ui=None, est=3.9441434939675637, details={'was_impossible': False}),\n",
       " Prediction(uid=19, iid=37729, r_ui=None, est=3.3973948320911735, details={'was_impossible': False}),\n",
       " Prediction(uid=19, iid=40414, r_ui=None, est=3.7602894028137013, details={'was_impossible': False}),\n",
       " Prediction(uid=19, iid=40815, r_ui=None, est=3.3097700165197628, details={'was_impossible': False}),\n",
       " Prediction(uid=19, iid=45499, r_ui=None, est=2.8404610082935715, details={'was_impossible': False}),\n",
       " Prediction(uid=19, iid=47629, r_ui=None, est=3.3325755757687583, details={'was_impossible': False}),\n",
       " Prediction(uid=19, iid=49651, r_ui=None, est=3.1877033436021427, details={'was_impossible': False}),\n",
       " Prediction(uid=19, iid=51662, r_ui=None, est=3.5221727669530485, details={'was_impossible': False}),\n",
       " Prediction(uid=19, iid=56631, r_ui=None, est=3.3845698530352006, details={'was_impossible': False}),\n",
       " Prediction(uid=19, iid=58559, r_ui=None, est=3.7789766492280688, details={'was_impossible': False}),\n",
       " Prediction(uid=19, iid=60408, r_ui=None, est=3.2759488174205735, details={'was_impossible': False}),\n",
       " Prediction(uid=19, iid=60609, r_ui=None, est=3.31595530198595, details={'was_impossible': False}),\n",
       " Prediction(uid=19, iid=63082, r_ui=None, est=3.4669350135942403, details={'was_impossible': False}),\n",
       " Prediction(uid=19, iid=66371, r_ui=None, est=4.204238062808917, details={'was_impossible': False}),\n",
       " Prediction(uid=19, iid=66854, r_ui=None, est=3.4223529488364024, details={'was_impossible': False}),\n",
       " Prediction(uid=19, iid=70286, r_ui=None, est=3.704682829643232, details={'was_impossible': False}),\n",
       " Prediction(uid=19, iid=72998, r_ui=None, est=3.581572969322473, details={'was_impossible': False}),\n",
       " Prediction(uid=19, iid=79702, r_ui=None, est=3.4376944979198165, details={'was_impossible': False}),\n",
       " Prediction(uid=19, iid=81834, r_ui=None, est=3.500069596125024, details={'was_impossible': False}),\n",
       " Prediction(uid=19, iid=83134, r_ui=None, est=3.4220434298673092, details={'was_impossible': False}),\n",
       " Prediction(uid=19, iid=84187, r_ui=None, est=3.5438743287542644, details={'was_impossible': False}),\n",
       " Prediction(uid=19, iid=87306, r_ui=None, est=3.4128999082326685, details={'was_impossible': False}),\n",
       " Prediction(uid=19, iid=88163, r_ui=None, est=3.4611159413292905, details={'was_impossible': False}),\n",
       " Prediction(uid=19, iid=90943, r_ui=None, est=3.7244458529769906, details={'was_impossible': False}),\n",
       " Prediction(uid=19, iid=92422, r_ui=None, est=2.914743300966273, details={'was_impossible': False}),\n",
       " Prediction(uid=19, iid=94978, r_ui=None, est=3.4611181236725965, details={'was_impossible': False}),\n",
       " Prediction(uid=19, iid=95654, r_ui=None, est=3.812875767163077, details={'was_impossible': False}),\n",
       " Prediction(uid=19, iid=96907, r_ui=None, est=2.9774740958461647, details={'was_impossible': False}),\n",
       " Prediction(uid=19, iid=97752, r_ui=None, est=3.4859676890223183, details={'was_impossible': False}),\n",
       " Prediction(uid=19, iid=97913, r_ui=None, est=3.373401787828519, details={'was_impossible': False}),\n",
       " Prediction(uid=19, iid=98056, r_ui=None, est=4.051858444491144, details={'was_impossible': False}),\n",
       " Prediction(uid=19, iid=100946, r_ui=None, est=3.5906895889852293, details={'was_impossible': False}),\n",
       " Prediction(uid=19, iid=109241, r_ui=None, est=2.3918896627033335, details={'was_impossible': False}),\n",
       " Prediction(uid=19, iid=109633, r_ui=None, est=3.777347778784253, details={'was_impossible': False}),\n",
       " Prediction(uid=19, iid=110102, r_ui=None, est=3.274360122514685, details={'was_impossible': False}),\n",
       " Prediction(uid=19, iid=112552, r_ui=None, est=3.7013012549098034, details={'was_impossible': False}),\n",
       " Prediction(uid=19, iid=114627, r_ui=None, est=3.8649957014173477, details={'was_impossible': False}),\n",
       " Prediction(uid=19, iid=117176, r_ui=None, est=3.311390312050448, details={'was_impossible': False}),\n",
       " Prediction(uid=19, iid=126134, r_ui=None, est=3.1285738344720295, details={'was_impossible': False}),\n",
       " Prediction(uid=19, iid=134853, r_ui=None, est=3.507257425717809, details={'was_impossible': False}),\n",
       " Prediction(uid=19, iid=136906, r_ui=None, est=3.2195206814156134, details={'was_impossible': False}),\n",
       " Prediction(uid=19, iid=139859, r_ui=None, est=3.9153800417019555, details={'was_impossible': False}),\n",
       " Prediction(uid=19, iid=140106, r_ui=None, est=3.9037258174629343, details={'was_impossible': False}),\n",
       " Prediction(uid=19, iid=140809, r_ui=None, est=2.7057643597093035, details={'was_impossible': False}),\n",
       " Prediction(uid=19, iid=142843, r_ui=None, est=2.948986316840478, details={'was_impossible': False}),\n",
       " Prediction(uid=19, iid=148468, r_ui=None, est=3.548481754071934, details={'was_impossible': False}),\n",
       " Prediction(uid=19, iid=152081, r_ui=None, est=3.6180241998723304, details={'was_impossible': False}),\n",
       " Prediction(uid=20, iid=367, r_ui=None, est=3.527489821303908, details={'was_impossible': False}),\n",
       " Prediction(uid=20, iid=1036, r_ui=None, est=4.476374692801572, details={'was_impossible': False}),\n",
       " Prediction(uid=20, iid=1097, r_ui=None, est=4.198852903764758, details={'was_impossible': False}),\n",
       " Prediction(uid=20, iid=1214, r_ui=None, est=4.582359908173477, details={'was_impossible': False}),\n",
       " Prediction(uid=20, iid=1250, r_ui=None, est=5, details={'was_impossible': False}),\n",
       " Prediction(uid=20, iid=1389, r_ui=None, est=2.35566406519875, details={'was_impossible': False}),\n",
       " Prediction(uid=20, iid=2006, r_ui=None, est=3.966945922147371, details={'was_impossible': False}),\n",
       " Prediction(uid=20, iid=2716, r_ui=None, est=4.58832705133878, details={'was_impossible': False}),\n",
       " Prediction(uid=20, iid=3176, r_ui=None, est=4.241031413981821, details={'was_impossible': False}),\n",
       " Prediction(uid=20, iid=3873, r_ui=None, est=4.608914448513702, details={'was_impossible': False}),\n",
       " Prediction(uid=20, iid=5040, r_ui=None, est=3.4791041252957067, details={'was_impossible': False}),\n",
       " Prediction(uid=20, iid=6561, r_ui=None, est=4.386753033539775, details={'was_impossible': False}),\n",
       " Prediction(uid=20, iid=6652, r_ui=None, est=3.8181698971708964, details={'was_impossible': False}),\n",
       " Prediction(uid=20, iid=6658, r_ui=None, est=3.7635449432049377, details={'was_impossible': False}),\n",
       " Prediction(uid=20, iid=6662, r_ui=None, est=4.665487871506697, details={'was_impossible': False}),\n",
       " Prediction(uid=20, iid=6663, r_ui=None, est=4.050098451815193, details={'was_impossible': False}),\n",
       " Prediction(uid=20, iid=35836, r_ui=None, est=4.31141979485337, details={'was_impossible': False}),\n",
       " Prediction(uid=21, iid=4874, r_ui=None, est=3.989564604862335, details={'was_impossible': False}),\n",
       " Prediction(uid=21, iid=6539, r_ui=None, est=4.06203786422633, details={'was_impossible': False}),\n",
       " Prediction(uid=21, iid=6711, r_ui=None, est=4.478662780120496, details={'was_impossible': False}),\n",
       " Prediction(uid=21, iid=7361, r_ui=None, est=4.589006223109923, details={'was_impossible': False}),\n",
       " Prediction(uid=21, iid=31658, r_ui=None, est=4.414049027552588, details={'was_impossible': False}),\n",
       " Prediction(uid=21, iid=33794, r_ui=None, est=4.6559747068031, details={'was_impossible': False}),\n",
       " Prediction(uid=21, iid=48516, r_ui=None, est=4.805563214819259, details={'was_impossible': False}),\n",
       " Prediction(uid=21, iid=48774, r_ui=None, est=4.550069646198416, details={'was_impossible': False}),\n",
       " Prediction(uid=21, iid=48780, r_ui=None, est=4.300252147526545, details={'was_impossible': False}),\n",
       " Prediction(uid=21, iid=51255, r_ui=None, est=3.874177380337777, details={'was_impossible': False}),\n",
       " Prediction(uid=21, iid=81834, r_ui=None, est=4.286274707142086, details={'was_impossible': False}),\n",
       " Prediction(uid=21, iid=94959, r_ui=None, est=4.544833891954069, details={'was_impossible': False}),\n",
       " Prediction(uid=21, iid=111759, r_ui=None, est=4.281221917726, details={'was_impossible': False}),\n",
       " Prediction(uid=21, iid=122886, r_ui=None, est=4.258162598133847, details={'was_impossible': False}),\n",
       " Prediction(uid=21, iid=122892, r_ui=None, est=4.076751578991824, details={'was_impossible': False}),\n",
       " Prediction(uid=21, iid=134130, r_ui=None, est=4.3371301872238135, details={'was_impossible': False}),\n",
       " Prediction(uid=21, iid=134853, r_ui=None, est=4.2568293361317, details={'was_impossible': False}),\n",
       " Prediction(uid=22, iid=231, r_ui=None, est=4.085143797919377, details={'was_impossible': False}),\n",
       " Prediction(uid=22, iid=296, r_ui=None, est=5, details={'was_impossible': False}),\n",
       " Prediction(uid=22, iid=316, r_ui=None, est=4.5936333954925885, details={'was_impossible': False}),\n",
       " Prediction(uid=22, iid=318, r_ui=None, est=5, details={'was_impossible': False}),\n",
       " Prediction(uid=22, iid=592, r_ui=None, est=4.46870491633471, details={'was_impossible': False}),\n",
       " Prediction(uid=23, iid=7, r_ui=None, est=3.2980610683644067, details={'was_impossible': False}),\n",
       " Prediction(uid=23, iid=39, r_ui=None, est=3.5588875247527683, details={'was_impossible': False}),\n",
       " Prediction(uid=23, iid=50, r_ui=None, est=4.670114355679674, details={'was_impossible': False}),\n",
       " Prediction(uid=23, iid=111, r_ui=None, est=4.3627757567966, details={'was_impossible': False}),\n",
       " Prediction(uid=23, iid=186, r_ui=None, est=3.2157132738092664, details={'was_impossible': False}),\n",
       " Prediction(uid=23, iid=246, r_ui=None, est=4.577090513784874, details={'was_impossible': False}),\n",
       " Prediction(uid=23, iid=261, r_ui=None, est=3.850400456219106, details={'was_impossible': False}),\n",
       " Prediction(uid=23, iid=356, r_ui=None, est=4.17875920317964, details={'was_impossible': False}),\n",
       " Prediction(uid=23, iid=370, r_ui=None, est=3.390411153840416, details={'was_impossible': False}),\n",
       " Prediction(uid=23, iid=377, r_ui=None, est=3.646510175071784, details={'was_impossible': False}),\n",
       " Prediction(uid=23, iid=380, r_ui=None, est=3.8083100079095167, details={'was_impossible': False}),\n",
       " Prediction(uid=23, iid=457, r_ui=None, est=4.365276901127667, details={'was_impossible': False}),\n",
       " Prediction(uid=23, iid=509, r_ui=None, est=3.773661033026451, details={'was_impossible': False}),\n",
       " Prediction(uid=23, iid=511, r_ui=None, est=3.401503073598371, details={'was_impossible': False}),\n",
       " Prediction(uid=23, iid=529, r_ui=None, est=4.317556907390068, details={'was_impossible': False}),\n",
       " Prediction(uid=23, iid=592, r_ui=None, est=3.9047046788850888, details={'was_impossible': False}),\n",
       " Prediction(uid=23, iid=647, r_ui=None, est=3.6555757046870947, details={'was_impossible': False}),\n",
       " Prediction(uid=23, iid=778, r_ui=None, est=4.176188122208943, details={'was_impossible': False}),\n",
       " Prediction(uid=23, iid=832, r_ui=None, est=3.4748311051330285, details={'was_impossible': False}),\n",
       " Prediction(uid=23, iid=848, r_ui=None, est=3.9158330031192397, details={'was_impossible': False}),\n",
       " Prediction(uid=23, iid=852, r_ui=None, est=3.1638851817432077, details={'was_impossible': False}),\n",
       " Prediction(uid=23, iid=858, r_ui=None, est=4.7742182200666115, details={'was_impossible': False}),\n",
       " Prediction(uid=23, iid=1050, r_ui=None, est=4.218646493798351, details={'was_impossible': False}),\n",
       " Prediction(uid=23, iid=1057, r_ui=None, est=4.038780945830553, details={'was_impossible': False}),\n",
       " Prediction(uid=23, iid=1073, r_ui=None, est=4.126376917065105, details={'was_impossible': False}),\n",
       " Prediction(uid=23, iid=1089, r_ui=None, est=4.814606055115437, details={'was_impossible': False}),\n",
       " Prediction(uid=23, iid=1097, r_ui=None, est=4.047300307535232, details={'was_impossible': False}),\n",
       " Prediction(uid=23, iid=1125, r_ui=None, est=3.9841709023108964, details={'was_impossible': False}),\n",
       " Prediction(uid=23, iid=1172, r_ui=None, est=4.290475454145836, details={'was_impossible': False}),\n",
       " Prediction(uid=23, iid=1183, r_ui=None, est=3.9485728772505286, details={'was_impossible': False}),\n",
       " Prediction(uid=23, iid=1185, r_ui=None, est=4.099803918438144, details={'was_impossible': False}),\n",
       " Prediction(uid=23, iid=1196, r_ui=None, est=4.357835798963453, details={'was_impossible': False}),\n",
       " Prediction(uid=23, iid=1228, r_ui=None, est=4.522191488065135, details={'was_impossible': False}),\n",
       " Prediction(uid=23, iid=1249, r_ui=None, est=4.391581186178373, details={'was_impossible': False}),\n",
       " Prediction(uid=23, iid=1265, r_ui=None, est=4.164073497523008, details={'was_impossible': False}),\n",
       " Prediction(uid=23, iid=1291, r_ui=None, est=4.650408964619787, details={'was_impossible': False}),\n",
       " Prediction(uid=23, iid=1344, r_ui=None, est=4.116025418928564, details={'was_impossible': False}),\n",
       " Prediction(uid=23, iid=1357, r_ui=None, est=4.5214657343333995, details={'was_impossible': False}),\n",
       " Prediction(uid=23, iid=1371, r_ui=None, est=3.553122189399232, details={'was_impossible': False}),\n",
       " Prediction(uid=23, iid=1396, r_ui=None, est=3.8003777103655976, details={'was_impossible': False}),\n",
       " Prediction(uid=23, iid=1449, r_ui=None, est=4.535111957316626, details={'was_impossible': False}),\n",
       " Prediction(uid=23, iid=1573, r_ui=None, est=3.888263770455056, details={'was_impossible': False}),\n",
       " Prediction(uid=23, iid=1584, r_ui=None, est=4.096240039745689, details={'was_impossible': False}),\n",
       " Prediction(uid=23, iid=1617, r_ui=None, est=4.421205569350853, details={'was_impossible': False}),\n",
       " Prediction(uid=23, iid=1625, r_ui=None, est=4.3049645576569056, details={'was_impossible': False}),\n",
       " Prediction(uid=23, iid=1641, r_ui=None, est=4.030252929754708, details={'was_impossible': False}),\n",
       " Prediction(uid=23, iid=1673, r_ui=None, est=4.049951272857288, details={'was_impossible': False}),\n",
       " Prediction(uid=23, iid=1729, r_ui=None, est=3.9882463547327074, details={'was_impossible': False}),\n",
       " Prediction(uid=23, iid=1810, r_ui=None, est=3.9223342540590984, details={'was_impossible': False}),\n",
       " Prediction(uid=23, iid=1957, r_ui=None, est=4.284809413898193, details={'was_impossible': False}),\n",
       " Prediction(uid=23, iid=2028, r_ui=None, est=4.545120480810618, details={'was_impossible': False}),\n",
       " Prediction(uid=23, iid=2058, r_ui=None, est=3.9866286533558264, details={'was_impossible': False}),\n",
       " Prediction(uid=23, iid=2064, r_ui=None, est=4.346241477300591, details={'was_impossible': False}),\n",
       " Prediction(uid=23, iid=2108, r_ui=None, est=3.7416724820696596, details={'was_impossible': False}),\n",
       " Prediction(uid=23, iid=2166, r_ui=None, est=4.432125310814662, details={'was_impossible': False}),\n",
       " Prediction(uid=23, iid=2245, r_ui=None, est=3.420952228594849, details={'was_impossible': False}),\n",
       " Prediction(uid=23, iid=2262, r_ui=None, est=3.312211125871471, details={'was_impossible': False}),\n",
       " Prediction(uid=23, iid=2294, r_ui=None, est=3.703465179868244, details={'was_impossible': False}),\n",
       " Prediction(uid=23, iid=2301, r_ui=None, est=4.017770108289204, details={'was_impossible': False}),\n",
       " Prediction(uid=23, iid=2336, r_ui=None, est=4.172562556910077, details={'was_impossible': False}),\n",
       " Prediction(uid=23, iid=2411, r_ui=None, est=3.426862359167042, details={'was_impossible': False}),\n",
       " Prediction(uid=23, iid=2417, r_ui=None, est=3.627816206897201, details={'was_impossible': False}),\n",
       " Prediction(uid=23, iid=2470, r_ui=None, est=3.1044704821046833, details={'was_impossible': False}),\n",
       " Prediction(uid=23, iid=2528, r_ui=None, est=3.859420259581188, details={'was_impossible': False}),\n",
       " Prediction(uid=23, iid=2611, r_ui=None, est=4.020442684414907, details={'was_impossible': False}),\n",
       " Prediction(uid=23, iid=2692, r_ui=None, est=4.483564654349167, details={'was_impossible': False}),\n",
       " Prediction(uid=23, iid=2797, r_ui=None, est=3.8638292103222813, details={'was_impossible': False}),\n",
       " Prediction(uid=23, iid=2871, r_ui=None, est=4.082465351757222, details={'was_impossible': False}),\n",
       " Prediction(uid=23, iid=2928, r_ui=None, est=3.6177532297326667, details={'was_impossible': False}),\n",
       " Prediction(uid=23, iid=2942, r_ui=None, est=3.1181203863640623, details={'was_impossible': False}),\n",
       " Prediction(uid=23, iid=3019, r_ui=None, est=4.313763336176993, details={'was_impossible': False}),\n",
       " Prediction(uid=23, iid=3060, r_ui=None, est=4.179481494112977, details={'was_impossible': False}),\n",
       " Prediction(uid=23, iid=3105, r_ui=None, est=3.9068229279891806, details={'was_impossible': False}),\n",
       " Prediction(uid=23, iid=3135, r_ui=None, est=4.328454121197178, details={'was_impossible': False}),\n",
       " Prediction(uid=23, iid=3142, r_ui=None, est=3.680780656055269, details={'was_impossible': False}),\n",
       " Prediction(uid=24, iid=50, r_ui=None, est=4.979679441336575, details={'was_impossible': False}),\n",
       " Prediction(uid=24, iid=1221, r_ui=None, est=4.366086177940947, details={'was_impossible': False}),\n",
       " Prediction(uid=24, iid=1918, r_ui=None, est=3.1834274381406966, details={'was_impossible': False}),\n",
       " Prediction(uid=24, iid=2490, r_ui=None, est=4.175955059617006, details={'was_impossible': False}),\n",
       " Prediction(uid=24, iid=2581, r_ui=None, est=3.54212452451867, details={'was_impossible': False}),\n",
       " Prediction(uid=24, iid=3623, r_ui=None, est=3.661940421410491, details={'was_impossible': False}),\n",
       " Prediction(uid=24, iid=3863, r_ui=None, est=3.636524458337004, details={'was_impossible': False}),\n",
       " Prediction(uid=24, iid=58559, r_ui=None, est=4.482625049250203, details={'was_impossible': False}),\n",
       " Prediction(uid=25, iid=21, r_ui=None, est=3.4195535790027987, details={'was_impossible': False}),\n",
       " Prediction(uid=25, iid=25, r_ui=None, est=3.8481740950488974, details={'was_impossible': False}),\n",
       " Prediction(uid=25, iid=110, r_ui=None, est=3.792957090539599, details={'was_impossible': False}),\n",
       " Prediction(uid=25, iid=150, r_ui=None, est=3.9803543247150848, details={'was_impossible': False}),\n",
       " Prediction(uid=25, iid=161, r_ui=None, est=3.611277020587478, details={'was_impossible': False}),\n",
       " Prediction(uid=25, iid=185, r_ui=None, est=3.089995826295385, details={'was_impossible': False}),\n",
       " Prediction(uid=25, iid=215, r_ui=None, est=3.8660763342295725, details={'was_impossible': False}),\n",
       " Prediction(uid=25, iid=260, r_ui=None, est=4.120595901152191, details={'was_impossible': False}),\n",
       " Prediction(uid=25, iid=261, r_ui=None, est=3.3119732366558696, details={'was_impossible': False}),\n",
       " Prediction(uid=25, iid=292, r_ui=None, est=2.9576935676310407, details={'was_impossible': False}),\n",
       " Prediction(uid=25, iid=315, r_ui=None, est=2.6280420190959703, details={'was_impossible': False}),\n",
       " Prediction(uid=25, iid=380, r_ui=None, est=3.560431379412061, details={'was_impossible': False}),\n",
       " Prediction(uid=25, iid=432, r_ui=None, est=2.791722720610207, details={'was_impossible': False}),\n",
       " Prediction(uid=25, iid=457, r_ui=None, est=3.9565695299656527, details={'was_impossible': False}),\n",
       " Prediction(uid=25, iid=480, r_ui=None, est=3.494591261487596, details={'was_impossible': False}),\n",
       " Prediction(uid=25, iid=595, r_ui=None, est=3.636698474347293, details={'was_impossible': False}),\n",
       " Prediction(uid=26, iid=455, r_ui=None, est=2.472986592727866, details={'was_impossible': False}),\n",
       " Prediction(uid=26, iid=590, r_ui=None, est=3.604517646645623, details={'was_impossible': False}),\n",
       " Prediction(uid=26, iid=1270, r_ui=None, est=3.8764399578164026, details={'was_impossible': False}),\n",
       " Prediction(uid=26, iid=2382, r_ui=None, est=1.9034314251992783, details={'was_impossible': False}),\n",
       " Prediction(uid=26, iid=4951, r_ui=None, est=3.15621197651114, details={'was_impossible': False}),\n",
       " Prediction(uid=26, iid=72249, r_ui=None, est=3.6048624979452755, details={'was_impossible': False}),\n",
       " Prediction(uid=27, iid=260, r_ui=None, est=4.072548029529044, details={'was_impossible': False}),\n",
       " Prediction(uid=27, iid=356, r_ui=None, est=4.481774560272778, details={'was_impossible': False}),\n",
       " Prediction(uid=27, iid=597, r_ui=None, est=3.640323034848902, details={'was_impossible': False}),\n",
       " Prediction(uid=27, iid=1008, r_ui=None, est=3.493079246525502, details={'was_impossible': False}),\n",
       " Prediction(uid=27, iid=1082, r_ui=None, est=4.221245572870198, details={'was_impossible': False}),\n",
       " Prediction(uid=27, iid=1101, r_ui=None, est=3.4213546977231366, details={'was_impossible': False}),\n",
       " Prediction(uid=27, iid=1196, r_ui=None, est=4.03420974072779, details={'was_impossible': False}),\n",
       " Prediction(uid=27, iid=1931, r_ui=None, est=4.24101290800656, details={'was_impossible': False}),\n",
       " Prediction(uid=27, iid=1952, r_ui=None, est=4.589958259515068, details={'was_impossible': False}),\n",
       " Prediction(uid=27, iid=2145, r_ui=None, est=3.5299956912046446, details={'was_impossible': False}),\n",
       " Prediction(uid=27, iid=3098, r_ui=None, est=3.872358550184159, details={'was_impossible': False}),\n",
       " Prediction(uid=27, iid=3365, r_ui=None, est=4.515676119032768, details={'was_impossible': False}),\n",
       " Prediction(uid=27, iid=3671, r_ui=None, est=4.022294939832189, details={'was_impossible': False}),\n",
       " Prediction(uid=28, iid=610, r_ui=None, est=3.976786214689986, details={'was_impossible': False}),\n",
       " Prediction(uid=28, iid=1407, r_ui=None, est=4.371360720380029, details={'was_impossible': False}),\n",
       " Prediction(uid=28, iid=1580, r_ui=None, est=4.9072225840047174, details={'was_impossible': False}),\n",
       " Prediction(uid=28, iid=1584, r_ui=None, est=4.7408215433696235, details={'was_impossible': False}),\n",
       " Prediction(uid=28, iid=1909, r_ui=None, est=4.142232763489854, details={'was_impossible': False}),\n",
       " Prediction(uid=28, iid=2021, r_ui=None, est=4.02773058626727, details={'was_impossible': False}),\n",
       " Prediction(uid=28, iid=2311, r_ui=None, est=4.363174935856871, details={'was_impossible': False}),\n",
       " Prediction(uid=28, iid=2723, r_ui=None, est=3.93123341123659, details={'was_impossible': False}),\n",
       " Prediction(uid=29, iid=69, r_ui=None, est=3.2196657370554624, details={'was_impossible': False}),\n",
       " Prediction(uid=29, iid=175, r_ui=None, est=2.857617440315247, details={'was_impossible': False}),\n",
       " Prediction(uid=29, iid=562, r_ui=None, est=3.767041396977978, details={'was_impossible': False}),\n",
       " Prediction(uid=29, iid=1354, r_ui=None, est=3.872477718448482, details={'was_impossible': False}),\n",
       " Prediction(uid=29, iid=1619, r_ui=None, est=3.1663584384523085, details={'was_impossible': False}),\n",
       " Prediction(uid=29, iid=55553, r_ui=None, est=3.164618212108519, details={'was_impossible': False}),\n",
       " Prediction(uid=29, iid=69784, r_ui=None, est=2.990002745953431, details={'was_impossible': False}),\n",
       " Prediction(uid=29, iid=72641, r_ui=None, est=3.713210099324196, details={'was_impossible': False}),\n",
       " Prediction(uid=30, iid=410, r_ui=None, est=3.312880603440533, details={'was_impossible': False}),\n",
       " Prediction(uid=30, iid=1580, r_ui=None, est=3.649516328654381, details={'was_impossible': False}),\n",
       " Prediction(uid=30, iid=4701, r_ui=None, est=3.5680424320608677, details={'was_impossible': False}),\n",
       " Prediction(uid=30, iid=33004, r_ui=None, est=3.6550681330023966, details={'was_impossible': False}),\n",
       " Prediction(uid=30, iid=33794, r_ui=None, est=4.255441789077153, details={'was_impossible': False}),\n",
       " Prediction(uid=30, iid=91542, r_ui=None, est=3.91304546836783, details={'was_impossible': False}),\n",
       " Prediction(uid=31, iid=47, r_ui=None, est=2.816461230445139, details={'was_impossible': False}),\n",
       " Prediction(uid=31, iid=110, r_ui=None, est=2.494400742303794, details={'was_impossible': False}),\n",
       " Prediction(uid=31, iid=141, r_ui=None, est=2.3782795263068603, details={'was_impossible': False}),\n",
       " Prediction(uid=31, iid=161, r_ui=None, est=2.5289938376954226, details={'was_impossible': False}),\n",
       " Prediction(uid=31, iid=253, r_ui=None, est=2.5563776562470575, details={'was_impossible': False}),\n",
       " Prediction(uid=31, iid=260, r_ui=None, est=2.547219272732253, details={'was_impossible': False}),\n",
       " Prediction(uid=31, iid=377, r_ui=None, est=2.4194904033966775, details={'was_impossible': False}),\n",
       " Prediction(uid=31, iid=434, r_ui=None, est=1.987266378386159, details={'was_impossible': False}),\n",
       " Prediction(uid=31, iid=454, r_ui=None, est=2.316753310958846, details={'was_impossible': False}),\n",
       " Prediction(uid=31, iid=474, r_ui=None, est=2.4413748831980358, details={'was_impossible': False}),\n",
       " Prediction(uid=31, iid=587, r_ui=None, est=2.3112179892201494, details={'was_impossible': False}),\n",
       " Prediction(uid=31, iid=648, r_ui=None, est=2.2191375915634604, details={'was_impossible': False}),\n",
       " Prediction(uid=31, iid=736, r_ui=None, est=2.095795900452867, details={'was_impossible': False}),\n",
       " Prediction(uid=31, iid=932, r_ui=None, est=2.7447812307022406, details={'was_impossible': False}),\n",
       " Prediction(uid=31, iid=1036, r_ui=None, est=2.512305679618149, details={'was_impossible': False}),\n",
       " Prediction(uid=31, iid=1079, r_ui=None, est=2.689586281793577, details={'was_impossible': False}),\n",
       " Prediction(uid=31, iid=1258, r_ui=None, est=2.965875355580429, details={'was_impossible': False}),\n",
       " Prediction(uid=31, iid=1393, r_ui=None, est=2.382942720395004, details={'was_impossible': False}),\n",
       " Prediction(uid=31, iid=1459, r_ui=None, est=2.372368031753547, details={'was_impossible': False}),\n",
       " Prediction(uid=31, iid=1479, r_ui=None, est=2.1756886240797817, details={'was_impossible': False}),\n",
       " Prediction(uid=31, iid=1625, r_ui=None, est=2.6115074083631886, details={'was_impossible': False}),\n",
       " Prediction(uid=31, iid=1641, r_ui=None, est=2.6094667482640603, details={'was_impossible': False}),\n",
       " Prediction(uid=31, iid=1693, r_ui=None, est=2.415728266347614, details={'was_impossible': False}),\n",
       " Prediction(uid=31, iid=1923, r_ui=None, est=2.2574643518268043, details={'was_impossible': False}),\n",
       " Prediction(uid=31, iid=2028, r_ui=None, est=2.838880585009627, details={'was_impossible': False}),\n",
       " Prediction(uid=31, iid=2081, r_ui=None, est=2.397571728910621, details={'was_impossible': False}),\n",
       " Prediction(uid=31, iid=2141, r_ui=None, est=2.3000845576379643, details={'was_impossible': False}),\n",
       " Prediction(uid=31, iid=2262, r_ui=None, est=2.093867676004324, details={'was_impossible': False}),\n",
       " Prediction(uid=31, iid=2321, r_ui=None, est=2.481176657398934, details={'was_impossible': False}),\n",
       " Prediction(uid=31, iid=2396, r_ui=None, est=2.547904272356909, details={'was_impossible': False}),\n",
       " Prediction(uid=31, iid=2710, r_ui=None, est=2.089983451138301, details={'was_impossible': False}),\n",
       " Prediction(uid=31, iid=3004, r_ui=None, est=1.898424512216146, details={'was_impossible': False}),\n",
       " Prediction(uid=31, iid=3081, r_ui=None, est=2.492259858894165, details={'was_impossible': False}),\n",
       " Prediction(uid=31, iid=3175, r_ui=None, est=2.653558566638153, details={'was_impossible': False}),\n",
       " Prediction(uid=31, iid=3206, r_ui=None, est=2.311442705916784, details={'was_impossible': False}),\n",
       " Prediction(uid=31, iid=3253, r_ui=None, est=2.2025511392025607, details={'was_impossible': False}),\n",
       " Prediction(uid=31, iid=3408, r_ui=None, est=2.5729879468652705, details={'was_impossible': False}),\n",
       " Prediction(uid=31, iid=3420, r_ui=None, est=2.4283086768104347, details={'was_impossible': False}),\n",
       " Prediction(uid=31, iid=3481, r_ui=None, est=2.6037935359337108, details={'was_impossible': False}),\n",
       " Prediction(uid=31, iid=3525, r_ui=None, est=2.1579543978603577, details={'was_impossible': False}),\n",
       " Prediction(uid=31, iid=3755, r_ui=None, est=2.165459236023743, details={'was_impossible': False}),\n",
       " Prediction(uid=31, iid=3793, r_ui=None, est=2.3556532422821768, details={'was_impossible': False}),\n",
       " Prediction(uid=31, iid=3841, r_ui=None, est=2.0726151579022187, details={'was_impossible': False}),\n",
       " Prediction(uid=31, iid=4174, r_ui=None, est=2.4596654998191974, details={'was_impossible': False}),\n",
       " Prediction(uid=31, iid=4392, r_ui=None, est=2.7184100893874947, details={'was_impossible': False}),\n",
       " Prediction(uid=31, iid=4564, r_ui=None, est=2.3183182258230985, details={'was_impossible': False}),\n",
       " Prediction(uid=31, iid=4639, r_ui=None, est=1.9407004721260577, details={'was_impossible': False}),\n",
       " Prediction(uid=31, iid=4973, r_ui=None, est=2.982303352612866, details={'was_impossible': False}),\n",
       " Prediction(uid=31, iid=4995, r_ui=None, est=2.793929860919949, details={'was_impossible': False}),\n",
       " Prediction(uid=31, iid=5377, r_ui=None, est=2.682111317378292, details={'was_impossible': False}),\n",
       " Prediction(uid=31, iid=5472, r_ui=None, est=2.37695674107504, details={'was_impossible': False}),\n",
       " ...]"
      ]
     },
     "execution_count": 38,
     "metadata": {},
     "output_type": "execute_result"
    }
   ],
   "source": [
    "ratings=[nmf_model.predict(row.userId, row.movieId) for _,row in test.iterrows()]\n",
    "ratings[:3]"
   ]
  },
  {
   "cell_type": "code",
   "execution_count": 41,
   "metadata": {
    "execution": {
     "iopub.execute_input": "2023-07-19T20:38:20.632610Z",
     "iopub.status.busy": "2023-07-19T20:38:20.632193Z",
     "iopub.status.idle": "2023-07-19T20:38:48.855421Z",
     "shell.execute_reply": "2023-07-19T20:38:48.854330Z",
     "shell.execute_reply.started": "2023-07-19T20:38:20.632567Z"
    }
   },
   "outputs": [
    {
     "data": {
      "text/html": [
       "<div>\n",
       "<style scoped>\n",
       "    .dataframe tbody tr th:only-of-type {\n",
       "        vertical-align: middle;\n",
       "    }\n",
       "\n",
       "    .dataframe tbody tr th {\n",
       "        vertical-align: top;\n",
       "    }\n",
       "\n",
       "    .dataframe thead th {\n",
       "        text-align: right;\n",
       "    }\n",
       "</style>\n",
       "<table border=\"1\" class=\"dataframe\">\n",
       "  <thead>\n",
       "    <tr style=\"text-align: right;\">\n",
       "      <th></th>\n",
       "      <th>uid</th>\n",
       "      <th>iid</th>\n",
       "      <th>r_ui</th>\n",
       "      <th>est</th>\n",
       "      <th>details</th>\n",
       "    </tr>\n",
       "  </thead>\n",
       "  <tbody>\n",
       "    <tr>\n",
       "      <th>0</th>\n",
       "      <td>1</td>\n",
       "      <td>2011</td>\n",
       "      <td>None</td>\n",
       "      <td>3.919002</td>\n",
       "      <td>{'was_impossible': False}</td>\n",
       "    </tr>\n",
       "    <tr>\n",
       "      <th>1</th>\n",
       "      <td>1</td>\n",
       "      <td>4144</td>\n",
       "      <td>None</td>\n",
       "      <td>4.532800</td>\n",
       "      <td>{'was_impossible': False}</td>\n",
       "    </tr>\n",
       "    <tr>\n",
       "      <th>2</th>\n",
       "      <td>1</td>\n",
       "      <td>5767</td>\n",
       "      <td>None</td>\n",
       "      <td>3.352497</td>\n",
       "      <td>{'was_impossible': False}</td>\n",
       "    </tr>\n",
       "  </tbody>\n",
       "</table>\n",
       "</div>"
      ],
      "text/plain": [
       "   uid   iid  r_ui       est                    details\n",
       "0    1  2011  None  3.919002  {'was_impossible': False}\n",
       "1    1  4144  None  4.532800  {'was_impossible': False}\n",
       "2    1  5767  None  3.352497  {'was_impossible': False}"
      ]
     },
     "execution_count": 41,
     "metadata": {},
     "output_type": "execute_result"
    }
   ],
   "source": [
    "data_prediction=pd.DataFrame(ratings)\n",
    "data_prediction.head(3)"
   ]
  },
  {
   "cell_type": "code",
   "execution_count": 42,
   "metadata": {
    "execution": {
     "iopub.execute_input": "2023-07-19T20:39:31.736787Z",
     "iopub.status.busy": "2023-07-19T20:39:31.736392Z",
     "iopub.status.idle": "2023-07-19T20:39:32.060594Z",
     "shell.execute_reply": "2023-07-19T20:39:32.059485Z",
     "shell.execute_reply.started": "2023-07-19T20:39:31.736755Z"
    }
   },
   "outputs": [
    {
     "data": {
      "text/html": [
       "<div>\n",
       "<style scoped>\n",
       "    .dataframe tbody tr th:only-of-type {\n",
       "        vertical-align: middle;\n",
       "    }\n",
       "\n",
       "    .dataframe tbody tr th {\n",
       "        vertical-align: top;\n",
       "    }\n",
       "\n",
       "    .dataframe thead th {\n",
       "        text-align: right;\n",
       "    }\n",
       "</style>\n",
       "<table border=\"1\" class=\"dataframe\">\n",
       "  <thead>\n",
       "    <tr style=\"text-align: right;\">\n",
       "      <th></th>\n",
       "      <th>userId</th>\n",
       "      <th>movieId</th>\n",
       "      <th>rating</th>\n",
       "    </tr>\n",
       "  </thead>\n",
       "  <tbody>\n",
       "    <tr>\n",
       "      <th>0</th>\n",
       "      <td>1</td>\n",
       "      <td>2011</td>\n",
       "      <td>3.919002</td>\n",
       "    </tr>\n",
       "    <tr>\n",
       "      <th>1</th>\n",
       "      <td>1</td>\n",
       "      <td>4144</td>\n",
       "      <td>4.532800</td>\n",
       "    </tr>\n",
       "    <tr>\n",
       "      <th>2</th>\n",
       "      <td>1</td>\n",
       "      <td>5767</td>\n",
       "      <td>3.352497</td>\n",
       "    </tr>\n",
       "    <tr>\n",
       "      <th>3</th>\n",
       "      <td>1</td>\n",
       "      <td>6711</td>\n",
       "      <td>3.846787</td>\n",
       "    </tr>\n",
       "    <tr>\n",
       "      <th>4</th>\n",
       "      <td>1</td>\n",
       "      <td>7318</td>\n",
       "      <td>2.760223</td>\n",
       "    </tr>\n",
       "  </tbody>\n",
       "</table>\n",
       "</div>"
      ],
      "text/plain": [
       "   userId  movieId    rating\n",
       "0       1     2011  3.919002\n",
       "1       1     4144  4.532800\n",
       "2       1     5767  3.352497\n",
       "3       1     6711  3.846787\n",
       "4       1     7318  2.760223"
      ]
     },
     "execution_count": 42,
     "metadata": {},
     "output_type": "execute_result"
    }
   ],
   "source": [
    "data_prediction=data_prediction.rename(columns={'uid':'userId', 'iid':'movieId','est':'rating'})\n",
    "data_prediction.drop(['r_ui','details'],axis=1,inplace=True)\n",
    "data_prediction.head()"
   ]
  },
  {
   "cell_type": "code",
   "execution_count": 43,
   "metadata": {
    "execution": {
     "iopub.execute_input": "2023-07-19T20:39:37.196437Z",
     "iopub.status.busy": "2023-07-19T20:39:37.196071Z",
     "iopub.status.idle": "2023-07-19T20:41:32.590073Z",
     "shell.execute_reply": "2023-07-19T20:41:32.589086Z",
     "shell.execute_reply.started": "2023-07-19T20:39:37.196405Z"
    }
   },
   "outputs": [
    {
     "data": {
      "text/html": [
       "<div>\n",
       "<style scoped>\n",
       "    .dataframe tbody tr th:only-of-type {\n",
       "        vertical-align: middle;\n",
       "    }\n",
       "\n",
       "    .dataframe tbody tr th {\n",
       "        vertical-align: top;\n",
       "    }\n",
       "\n",
       "    .dataframe thead th {\n",
       "        text-align: right;\n",
       "    }\n",
       "</style>\n",
       "<table border=\"1\" class=\"dataframe\">\n",
       "  <thead>\n",
       "    <tr style=\"text-align: right;\">\n",
       "      <th></th>\n",
       "      <th>userId</th>\n",
       "      <th>movieId</th>\n",
       "      <th>rating</th>\n",
       "      <th>Id</th>\n",
       "    </tr>\n",
       "  </thead>\n",
       "  <tbody>\n",
       "    <tr>\n",
       "      <th>0</th>\n",
       "      <td>1</td>\n",
       "      <td>2011</td>\n",
       "      <td>3.919002</td>\n",
       "      <td>1_2011</td>\n",
       "    </tr>\n",
       "    <tr>\n",
       "      <th>1</th>\n",
       "      <td>1</td>\n",
       "      <td>4144</td>\n",
       "      <td>4.532800</td>\n",
       "      <td>1_4144</td>\n",
       "    </tr>\n",
       "    <tr>\n",
       "      <th>2</th>\n",
       "      <td>1</td>\n",
       "      <td>5767</td>\n",
       "      <td>3.352497</td>\n",
       "      <td>1_5767</td>\n",
       "    </tr>\n",
       "    <tr>\n",
       "      <th>3</th>\n",
       "      <td>1</td>\n",
       "      <td>6711</td>\n",
       "      <td>3.846787</td>\n",
       "      <td>1_6711</td>\n",
       "    </tr>\n",
       "    <tr>\n",
       "      <th>4</th>\n",
       "      <td>1</td>\n",
       "      <td>7318</td>\n",
       "      <td>2.760223</td>\n",
       "      <td>1_7318</td>\n",
       "    </tr>\n",
       "  </tbody>\n",
       "</table>\n",
       "</div>"
      ],
      "text/plain": [
       "   userId  movieId    rating      Id\n",
       "0       1     2011  3.919002  1_2011\n",
       "1       1     4144  4.532800  1_4144\n",
       "2       1     5767  3.352497  1_5767\n",
       "3       1     6711  3.846787  1_6711\n",
       "4       1     7318  2.760223  1_7318"
      ]
     },
     "execution_count": 43,
     "metadata": {},
     "output_type": "execute_result"
    }
   ],
   "source": [
    "data_prediction['Id']=data_prediction.apply(lambda x:'%s_%s' % (x['userId'],x['movieId']),axis=1)\n",
    "data_prediction['Id']=data_prediction.apply(lambda x:'%s_%s' % (x['userId'],x['movieId']),axis=1)\n",
    "data_prediction.head()"
   ]
  },
  {
   "cell_type": "code",
   "execution_count": 44,
   "metadata": {
    "execution": {
     "iopub.execute_input": "2023-07-19T20:41:41.021695Z",
     "iopub.status.busy": "2023-07-19T20:41:41.021125Z",
     "iopub.status.idle": "2023-07-19T20:41:41.147171Z",
     "shell.execute_reply": "2023-07-19T20:41:41.146327Z",
     "shell.execute_reply.started": "2023-07-19T20:41:41.021648Z"
    }
   },
   "outputs": [],
   "source": [
    "data_prediction.drop(['userId', 'movieId'], inplace=True, axis= 1)"
   ]
  },
  {
   "cell_type": "code",
   "execution_count": 45,
   "metadata": {
    "execution": {
     "iopub.execute_input": "2023-07-19T20:41:48.217012Z",
     "iopub.status.busy": "2023-07-19T20:41:48.216653Z",
     "iopub.status.idle": "2023-07-19T20:41:48.388657Z",
     "shell.execute_reply": "2023-07-19T20:41:48.387626Z",
     "shell.execute_reply.started": "2023-07-19T20:41:48.216983Z"
    }
   },
   "outputs": [
    {
     "data": {
      "text/html": [
       "<div>\n",
       "<style scoped>\n",
       "    .dataframe tbody tr th:only-of-type {\n",
       "        vertical-align: middle;\n",
       "    }\n",
       "\n",
       "    .dataframe tbody tr th {\n",
       "        vertical-align: top;\n",
       "    }\n",
       "\n",
       "    .dataframe thead th {\n",
       "        text-align: right;\n",
       "    }\n",
       "</style>\n",
       "<table border=\"1\" class=\"dataframe\">\n",
       "  <thead>\n",
       "    <tr style=\"text-align: right;\">\n",
       "      <th></th>\n",
       "      <th>Id</th>\n",
       "      <th>rating</th>\n",
       "    </tr>\n",
       "  </thead>\n",
       "  <tbody>\n",
       "    <tr>\n",
       "      <th>0</th>\n",
       "      <td>1_2011</td>\n",
       "      <td>3.919002</td>\n",
       "    </tr>\n",
       "    <tr>\n",
       "      <th>1</th>\n",
       "      <td>1_4144</td>\n",
       "      <td>4.532800</td>\n",
       "    </tr>\n",
       "    <tr>\n",
       "      <th>2</th>\n",
       "      <td>1_5767</td>\n",
       "      <td>3.352497</td>\n",
       "    </tr>\n",
       "    <tr>\n",
       "      <th>3</th>\n",
       "      <td>1_6711</td>\n",
       "      <td>3.846787</td>\n",
       "    </tr>\n",
       "    <tr>\n",
       "      <th>4</th>\n",
       "      <td>1_7318</td>\n",
       "      <td>2.760223</td>\n",
       "    </tr>\n",
       "  </tbody>\n",
       "</table>\n",
       "</div>"
      ],
      "text/plain": [
       "       Id    rating\n",
       "0  1_2011  3.919002\n",
       "1  1_4144  4.532800\n",
       "2  1_5767  3.352497\n",
       "3  1_6711  3.846787\n",
       "4  1_7318  2.760223"
      ]
     },
     "execution_count": 45,
     "metadata": {},
     "output_type": "execute_result"
    }
   ],
   "source": [
    "data_prediction = data_prediction[['Id', 'rating']]\n",
    "data_prediction.head()"
   ]
  },
  {
   "cell_type": "code",
   "execution_count": 51,
   "metadata": {
    "execution": {
     "iopub.execute_input": "2023-07-19T20:50:58.376875Z",
     "iopub.status.busy": "2023-07-19T20:50:58.376475Z",
     "iopub.status.idle": "2023-07-19T20:50:58.384115Z",
     "shell.execute_reply": "2023-07-19T20:50:58.382789Z",
     "shell.execute_reply.started": "2023-07-19T20:50:58.376841Z"
    }
   },
   "outputs": [
    {
     "data": {
      "text/plain": [
       "(5000019, 2)"
      ]
     },
     "execution_count": 51,
     "metadata": {},
     "output_type": "execute_result"
    }
   ],
   "source": [
    "data_prediction.shape "
   ]
  },
  {
   "cell_type": "code",
   "execution_count": 67,
   "metadata": {
    "execution": {
     "iopub.execute_input": "2023-07-19T21:28:03.071298Z",
     "iopub.status.busy": "2023-07-19T21:28:03.069900Z",
     "iopub.status.idle": "2023-07-19T21:28:03.085638Z",
     "shell.execute_reply": "2023-07-19T21:28:03.084174Z",
     "shell.execute_reply.started": "2023-07-19T21:28:03.071247Z"
    }
   },
   "outputs": [],
   "source": [
    "experiment.log_metric(\"RMSE\", rmse)"
   ]
  },
  {
   "cell_type": "code",
   "execution_count": 69,
   "metadata": {
    "execution": {
     "iopub.execute_input": "2023-07-19T21:30:13.059900Z",
     "iopub.status.busy": "2023-07-19T21:30:13.059429Z",
     "iopub.status.idle": "2023-07-19T21:30:29.203784Z",
     "shell.execute_reply": "2023-07-19T21:30:29.202530Z",
     "shell.execute_reply.started": "2023-07-19T21:30:13.059862Z"
    }
   },
   "outputs": [],
   "source": [
    "import pickle\n",
    "model_path = \"nmf.pkl\"\n",
    "with open(model_path, 'wb') as file:\n",
    "    pickle.dump(nmf_model, file)"
   ]
  },
  {
   "cell_type": "code",
   "execution_count": 70,
   "metadata": {
    "execution": {
     "iopub.execute_input": "2023-07-19T21:31:23.020203Z",
     "iopub.status.busy": "2023-07-19T21:31:23.019737Z",
     "iopub.status.idle": "2023-07-19T21:31:37.701245Z",
     "shell.execute_reply": "2023-07-19T21:31:37.700043Z",
     "shell.execute_reply.started": "2023-07-19T21:31:23.020167Z"
    }
   },
   "outputs": [],
   "source": [
    "data_prediction.to_csv(\"nmf.csv\", index=False)"
   ]
  }
 ],
 "metadata": {
  "kernelspec": {
   "display_name": "Python 3 (ipykernel)",
   "language": "python",
   "name": "python3"
  },
  "language_info": {
   "codemirror_mode": {
    "name": "ipython",
    "version": 3
   },
   "file_extension": ".py",
   "mimetype": "text/x-python",
   "name": "python",
   "nbconvert_exporter": "python",
   "pygments_lexer": "ipython3",
   "version": "3.9.12"
  }
 },
 "nbformat": 4,
 "nbformat_minor": 4
}
