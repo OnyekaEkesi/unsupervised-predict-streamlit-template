{
 "cells": [
  {
   "cell_type": "code",
   "execution_count": 12,
   "metadata": {
    "_cell_guid": "b1076dfc-b9ad-4769-8c92-a6c4dae69d19",
    "_uuid": "8f2839f25d086af736a60e9eeb907d3b93b6e0e5",
    "execution": {
     "iopub.execute_input": "2023-07-21T21:45:44.399707Z",
     "iopub.status.busy": "2023-07-21T21:45:44.399266Z",
     "iopub.status.idle": "2023-07-21T21:45:44.418562Z",
     "shell.execute_reply": "2023-07-21T21:45:44.417025Z",
     "shell.execute_reply.started": "2023-07-21T21:45:44.399676Z"
    }
   },
   "outputs": [
    {
     "name": "stdout",
     "output_type": "stream",
     "text": [
      "/kaggle/input/edsa-movie-recommendation-predict/sample_submission.csv\n",
      "/kaggle/input/edsa-movie-recommendation-predict/movies.csv\n",
      "/kaggle/input/edsa-movie-recommendation-predict/imdb_data.csv\n",
      "/kaggle/input/edsa-movie-recommendation-predict/genome_tags.csv\n",
      "/kaggle/input/edsa-movie-recommendation-predict/genome_scores.csv\n",
      "/kaggle/input/edsa-movie-recommendation-predict/train.csv\n",
      "/kaggle/input/edsa-movie-recommendation-predict/test.csv\n",
      "/kaggle/input/edsa-movie-recommendation-predict/tags.csv\n",
      "/kaggle/input/edsa-movie-recommendation-predict/links.csv\n",
      "/kaggle/input/grid-search/best_model_svd.pkl\n"
     ]
    }
   ],
   "source": [
    "# This Python 3 environment comes with many helpful analytics libraries installed\n",
    "# It is defined by the kaggle/python Docker image: https://github.com/kaggle/docker-python\n",
    "# For example, here's several helpful packages to load\n",
    "\n",
    "import numpy as np # linear algebra\n",
    "import pandas as pd # data processing, CSV file I/O (e.g. pd.read_csv)\n",
    "\n",
    "# Input data files are available in the read-only \"../input/\" directory\n",
    "# For example, running this (by clicking run or pressing Shift+Enter) will list all files under the input directory\n",
    "\n",
    "import os\n",
    "for dirname, _, filenames in os.walk('/kaggle/input'):\n",
    "    for filename in filenames:\n",
    "        print(os.path.join(dirname, filename))\n",
    "\n",
    "# You can write up to 20GB to the current directory (/kaggle/working/) that gets preserved as output when you create a version using \"Save & Run All\" \n",
    "# You can also write temporary files to /kaggle/temp/, but they won't be saved outside of the current session"
   ]
  },
  {
   "cell_type": "code",
   "execution_count": 42,
   "metadata": {
    "execution": {
     "iopub.execute_input": "2023-07-21T21:54:37.657826Z",
     "iopub.status.busy": "2023-07-21T21:54:37.656835Z",
     "iopub.status.idle": "2023-07-21T21:54:52.871242Z",
     "shell.execute_reply": "2023-07-21T21:54:52.869340Z",
     "shell.execute_reply.started": "2023-07-21T21:54:37.657787Z"
    }
   },
   "outputs": [
    {
     "name": "stdout",
     "output_type": "stream",
     "text": [
      "Requirement already satisfied: comet_ml in /opt/conda/lib/python3.10/site-packages (3.33.6)\n",
      "Requirement already satisfied: jsonschema!=3.1.0,>=2.6.0 in /opt/conda/lib/python3.10/site-packages (from comet_ml) (4.17.3)\n",
      "Requirement already satisfied: psutil>=5.6.3 in /opt/conda/lib/python3.10/site-packages (from comet_ml) (5.9.3)\n",
      "Requirement already satisfied: python-box<7.0.0 in /opt/conda/lib/python3.10/site-packages (from comet_ml) (6.1.0)\n",
      "Requirement already satisfied: requests-toolbelt>=0.8.0 in /opt/conda/lib/python3.10/site-packages (from comet_ml) (0.10.1)\n",
      "Requirement already satisfied: requests>=2.18.4 in /opt/conda/lib/python3.10/site-packages (from comet_ml) (2.31.0)\n",
      "Requirement already satisfied: semantic-version>=2.8.0 in /opt/conda/lib/python3.10/site-packages (from comet_ml) (2.10.0)\n",
      "Requirement already satisfied: sentry-sdk>=1.1.0 in /opt/conda/lib/python3.10/site-packages (from comet_ml) (1.27.1)\n",
      "Requirement already satisfied: simplejson in /opt/conda/lib/python3.10/site-packages (from comet_ml) (3.19.1)\n",
      "Requirement already satisfied: six in /opt/conda/lib/python3.10/site-packages (from comet_ml) (1.16.0)\n",
      "Requirement already satisfied: urllib3>=1.21.1 in /opt/conda/lib/python3.10/site-packages (from comet_ml) (1.26.15)\n",
      "Requirement already satisfied: websocket-client<1.4.0,>=0.55.0 in /opt/conda/lib/python3.10/site-packages (from comet_ml) (1.3.3)\n",
      "Requirement already satisfied: wrapt>=1.11.2 in /opt/conda/lib/python3.10/site-packages (from comet_ml) (1.14.1)\n",
      "Requirement already satisfied: wurlitzer>=1.0.2 in /opt/conda/lib/python3.10/site-packages (from comet_ml) (3.0.3)\n",
      "Requirement already satisfied: everett[ini]<3.2.0,>=1.0.1 in /opt/conda/lib/python3.10/site-packages (from comet_ml) (3.1.0)\n",
      "Requirement already satisfied: dulwich!=0.20.33,>=0.20.6 in /opt/conda/lib/python3.10/site-packages (from comet_ml) (0.21.5)\n",
      "Requirement already satisfied: rich>=13.3.2 in /opt/conda/lib/python3.10/site-packages (from comet_ml) (13.4.2)\n",
      "Requirement already satisfied: configobj in /opt/conda/lib/python3.10/site-packages (from everett[ini]<3.2.0,>=1.0.1->comet_ml) (5.0.8)\n",
      "Requirement already satisfied: attrs>=17.4.0 in /opt/conda/lib/python3.10/site-packages (from jsonschema!=3.1.0,>=2.6.0->comet_ml) (23.1.0)\n",
      "Requirement already satisfied: pyrsistent!=0.17.0,!=0.17.1,!=0.17.2,>=0.14.0 in /opt/conda/lib/python3.10/site-packages (from jsonschema!=3.1.0,>=2.6.0->comet_ml) (0.19.3)\n",
      "Requirement already satisfied: charset-normalizer<4,>=2 in /opt/conda/lib/python3.10/site-packages (from requests>=2.18.4->comet_ml) (3.1.0)\n",
      "Requirement already satisfied: idna<4,>=2.5 in /opt/conda/lib/python3.10/site-packages (from requests>=2.18.4->comet_ml) (3.4)\n",
      "Requirement already satisfied: certifi>=2017.4.17 in /opt/conda/lib/python3.10/site-packages (from requests>=2.18.4->comet_ml) (2023.5.7)\n",
      "Requirement already satisfied: markdown-it-py>=2.2.0 in /opt/conda/lib/python3.10/site-packages (from rich>=13.3.2->comet_ml) (2.2.0)\n",
      "Requirement already satisfied: pygments<3.0.0,>=2.13.0 in /opt/conda/lib/python3.10/site-packages (from rich>=13.3.2->comet_ml) (2.15.1)\n",
      "Requirement already satisfied: mdurl~=0.1 in /opt/conda/lib/python3.10/site-packages (from markdown-it-py>=2.2.0->rich>=13.3.2->comet_ml) (0.1.2)\n"
     ]
    }
   ],
   "source": [
    "!pip install comet_ml"
   ]
  },
  {
   "cell_type": "code",
   "execution_count": 43,
   "metadata": {
    "execution": {
     "iopub.execute_input": "2023-07-21T21:54:52.878144Z",
     "iopub.status.busy": "2023-07-21T21:54:52.876977Z",
     "iopub.status.idle": "2023-07-21T21:54:57.485351Z",
     "shell.execute_reply": "2023-07-21T21:54:57.483653Z",
     "shell.execute_reply.started": "2023-07-21T21:54:52.878097Z"
    }
   },
   "outputs": [
    {
     "name": "stderr",
     "output_type": "stream",
     "text": [
      "\u001b[1;38;5;214mCOMET WARNING:\u001b[0m To get all data logged automatically, import comet_ml before the following modules: sklearn.\n",
      "\u001b[1;38;5;39mCOMET INFO:\u001b[0m ---------------------------------------------------------------------------------------\n",
      "\u001b[1;38;5;39mCOMET INFO:\u001b[0m Comet.ml Experiment Summary\n",
      "\u001b[1;38;5;39mCOMET INFO:\u001b[0m ---------------------------------------------------------------------------------------\n",
      "\u001b[1;38;5;39mCOMET INFO:\u001b[0m   Data:\n",
      "\u001b[1;38;5;39mCOMET INFO:\u001b[0m     display_summary_level : 1\n",
      "\u001b[1;38;5;39mCOMET INFO:\u001b[0m     url                   : https://www.comet.com/onyekaekesi/explore-ai-academy-projects/a885fc60ed0249cda1745ad855348f53\n",
      "\u001b[1;38;5;39mCOMET INFO:\u001b[0m   Uploads:\n",
      "\u001b[1;38;5;39mCOMET INFO:\u001b[0m     conda-environment-definition : 1\n",
      "\u001b[1;38;5;39mCOMET INFO:\u001b[0m     environment details          : 1\n",
      "\u001b[1;38;5;39mCOMET INFO:\u001b[0m     filename                     : 1\n",
      "\u001b[1;38;5;39mCOMET INFO:\u001b[0m     installed packages           : 1\n",
      "\u001b[1;38;5;39mCOMET INFO:\u001b[0m     notebook                     : 1\n",
      "\u001b[1;38;5;39mCOMET INFO:\u001b[0m     os packages                  : 1\n",
      "\u001b[1;38;5;39mCOMET INFO:\u001b[0m     source_code                  : 1\n",
      "\u001b[1;38;5;39mCOMET INFO:\u001b[0m \n",
      "\u001b[1;38;5;214mCOMET WARNING:\u001b[0m To get all data logged automatically, import comet_ml before the following modules: sklearn.\n",
      "\u001b[1;38;5;214mCOMET WARNING:\u001b[0m Not all initial data has been logged for experiment a885fc60ed0249cda1745ad855348f53, call Experiment.end() to ensure that all data to have been logged\n",
      "\u001b[1;38;5;214mCOMET WARNING:\u001b[0m As you are running in a Jupyter environment, you will need to call `experiment.end()` when finished to ensure all metrics and code are logged before exiting.\n",
      "\u001b[1;38;5;39mCOMET INFO:\u001b[0m Couldn't find a Git repository in '/kaggle/working' nor in any parent directory. Set `COMET_GIT_DIRECTORY` if your Git Repository is elsewhere.\n",
      "\u001b[1;38;5;39mCOMET INFO:\u001b[0m Experiment is live on comet.com https://www.comet.com/onyekaekesi/explore-ai-academy-projects/bec34411bffa445d86e0173fcda5b04d\n",
      "\n"
     ]
    }
   ],
   "source": [
    "from comet_ml import Experiment\n",
    "from comet_ml.integration.pytorch import log_model\n",
    "\n",
    "experiment = Experiment(\n",
    "  api_key = \"3uxi9A8PitoagJExAPVWwzIDY\",\n",
    "  project_name = \"explore-ai-academy-projects\",\n",
    "  workspace=\"onyekaekesi\"\n",
    ")"
   ]
  },
  {
   "cell_type": "code",
   "execution_count": 44,
   "metadata": {
    "execution": {
     "iopub.execute_input": "2023-07-21T21:54:57.488868Z",
     "iopub.status.busy": "2023-07-21T21:54:57.487891Z",
     "iopub.status.idle": "2023-07-21T21:54:57.510316Z",
     "shell.execute_reply": "2023-07-21T21:54:57.509002Z",
     "shell.execute_reply.started": "2023-07-21T21:54:57.488808Z"
    }
   },
   "outputs": [
    {
     "data": {
      "text/html": [
       "        <script type=\"text/javascript\">\n",
       "        window.PlotlyConfig = {MathJaxConfig: 'local'};\n",
       "        if (window.MathJax && window.MathJax.Hub && window.MathJax.Hub.Config) {window.MathJax.Hub.Config({SVG: {font: \"STIX-Web\"}});}\n",
       "        if (typeof require !== 'undefined') {\n",
       "        require.undef(\"plotly\");\n",
       "        requirejs.config({\n",
       "            paths: {\n",
       "                'plotly': ['https://cdn.plot.ly/plotly-2.24.1.min']\n",
       "            }\n",
       "        });\n",
       "        require(['plotly'], function(Plotly) {\n",
       "            window._Plotly = Plotly;\n",
       "        });\n",
       "        }\n",
       "        </script>\n",
       "        "
      ]
     },
     "metadata": {},
     "output_type": "display_data"
    }
   ],
   "source": [
    "import cufflinks as cf\n",
    "from sklearn import preprocessing\n",
    "from sklearn.decomposition import PCA\n",
    "from sklearn.model_selection import train_test_split\n",
    "\n",
    "from sklearn.ensemble import RandomForestRegressor\n",
    "\n",
    "import matplotlib.pyplot as plt\n",
    "import seaborn as sns\n",
    "%matplotlib inline\n",
    "# Entity featurization and similarity computation\n",
    "from sklearn.metrics.pairwise import cosine_similarity\n",
    "from sklearn.feature_extraction.text import TfidfVectorizer\n",
    "\n",
    "# Libraries used during sorting procedures.\n",
    "import operator # <-- Convienient item retrieval during iteration \n",
    "import heapq # <-- Efficient sorting of large lists\n",
    "\n",
    "sns.set(style='whitegrid', palette='muted',\n",
    "        rc={'figure.figsize': (15,10)})\n",
    "\n",
    "from plotly.offline import download_plotlyjs, init_notebook_mode, plot, iplot\n",
    "init_notebook_mode(connected=True)"
   ]
  },
  {
   "cell_type": "code",
   "execution_count": 46,
   "metadata": {
    "execution": {
     "iopub.execute_input": "2023-07-21T21:55:50.928460Z",
     "iopub.status.busy": "2023-07-21T21:55:50.927875Z",
     "iopub.status.idle": "2023-07-21T21:55:51.046408Z",
     "shell.execute_reply": "2023-07-21T21:55:51.044757Z",
     "shell.execute_reply.started": "2023-07-21T21:55:50.928414Z"
    }
   },
   "outputs": [
    {
     "data": {
      "text/html": [
       "<div>\n",
       "<style scoped>\n",
       "    .dataframe tbody tr th:only-of-type {\n",
       "        vertical-align: middle;\n",
       "    }\n",
       "\n",
       "    .dataframe tbody tr th {\n",
       "        vertical-align: top;\n",
       "    }\n",
       "\n",
       "    .dataframe thead th {\n",
       "        text-align: right;\n",
       "    }\n",
       "</style>\n",
       "<table border=\"1\" class=\"dataframe\">\n",
       "  <thead>\n",
       "    <tr style=\"text-align: right;\">\n",
       "      <th></th>\n",
       "      <th>movieId</th>\n",
       "      <th>title</th>\n",
       "      <th>genres</th>\n",
       "    </tr>\n",
       "  </thead>\n",
       "  <tbody>\n",
       "    <tr>\n",
       "      <th>0</th>\n",
       "      <td>1</td>\n",
       "      <td>Toy Story (1995)</td>\n",
       "      <td>Adventure|Animation|Children|Comedy|Fantasy</td>\n",
       "    </tr>\n",
       "    <tr>\n",
       "      <th>1</th>\n",
       "      <td>2</td>\n",
       "      <td>Jumanji (1995)</td>\n",
       "      <td>Adventure|Children|Fantasy</td>\n",
       "    </tr>\n",
       "    <tr>\n",
       "      <th>2</th>\n",
       "      <td>3</td>\n",
       "      <td>Grumpier Old Men (1995)</td>\n",
       "      <td>Comedy|Romance</td>\n",
       "    </tr>\n",
       "  </tbody>\n",
       "</table>\n",
       "</div>"
      ],
      "text/plain": [
       "   movieId                    title  \\\n",
       "0        1         Toy Story (1995)   \n",
       "1        2           Jumanji (1995)   \n",
       "2        3  Grumpier Old Men (1995)   \n",
       "\n",
       "                                        genres  \n",
       "0  Adventure|Animation|Children|Comedy|Fantasy  \n",
       "1                   Adventure|Children|Fantasy  \n",
       "2                               Comedy|Romance  "
      ]
     },
     "execution_count": 46,
     "metadata": {},
     "output_type": "execute_result"
    }
   ],
   "source": [
    "movies = pd.read_csv(\"/kaggle/input/edsa-movie-recommendation-predict/movies.csv\")\n",
    "movies.head(3)"
   ]
  },
  {
   "cell_type": "code",
   "execution_count": 47,
   "metadata": {
    "execution": {
     "iopub.execute_input": "2023-07-21T21:56:00.243745Z",
     "iopub.status.busy": "2023-07-21T21:56:00.242015Z",
     "iopub.status.idle": "2023-07-21T21:56:01.278206Z",
     "shell.execute_reply": "2023-07-21T21:56:01.276876Z",
     "shell.execute_reply.started": "2023-07-21T21:56:00.243670Z"
    }
   },
   "outputs": [
    {
     "data": {
      "text/html": [
       "<div>\n",
       "<style scoped>\n",
       "    .dataframe tbody tr th:only-of-type {\n",
       "        vertical-align: middle;\n",
       "    }\n",
       "\n",
       "    .dataframe tbody tr th {\n",
       "        vertical-align: top;\n",
       "    }\n",
       "\n",
       "    .dataframe thead th {\n",
       "        text-align: right;\n",
       "    }\n",
       "</style>\n",
       "<table border=\"1\" class=\"dataframe\">\n",
       "  <thead>\n",
       "    <tr style=\"text-align: right;\">\n",
       "      <th></th>\n",
       "      <th>userId</th>\n",
       "      <th>movieId</th>\n",
       "      <th>tag</th>\n",
       "      <th>timestamp</th>\n",
       "    </tr>\n",
       "  </thead>\n",
       "  <tbody>\n",
       "    <tr>\n",
       "      <th>0</th>\n",
       "      <td>3</td>\n",
       "      <td>260</td>\n",
       "      <td>classic</td>\n",
       "      <td>1439472355</td>\n",
       "    </tr>\n",
       "    <tr>\n",
       "      <th>1</th>\n",
       "      <td>3</td>\n",
       "      <td>260</td>\n",
       "      <td>sci-fi</td>\n",
       "      <td>1439472256</td>\n",
       "    </tr>\n",
       "    <tr>\n",
       "      <th>2</th>\n",
       "      <td>4</td>\n",
       "      <td>1732</td>\n",
       "      <td>dark comedy</td>\n",
       "      <td>1573943598</td>\n",
       "    </tr>\n",
       "  </tbody>\n",
       "</table>\n",
       "</div>"
      ],
      "text/plain": [
       "   userId  movieId          tag   timestamp\n",
       "0       3      260      classic  1439472355\n",
       "1       3      260       sci-fi  1439472256\n",
       "2       4     1732  dark comedy  1573943598"
      ]
     },
     "execution_count": 47,
     "metadata": {},
     "output_type": "execute_result"
    }
   ],
   "source": [
    "tags = pd.read_csv('/kaggle/input/edsa-movie-recommendation-predict/tags.csv')\n",
    "tags.head(3)"
   ]
  },
  {
   "cell_type": "code",
   "execution_count": 48,
   "metadata": {
    "execution": {
     "iopub.execute_input": "2023-07-21T21:56:03.047755Z",
     "iopub.status.busy": "2023-07-21T21:56:03.047309Z",
     "iopub.status.idle": "2023-07-21T21:56:09.186517Z",
     "shell.execute_reply": "2023-07-21T21:56:09.185198Z",
     "shell.execute_reply.started": "2023-07-21T21:56:03.047719Z"
    }
   },
   "outputs": [
    {
     "data": {
      "text/html": [
       "<div>\n",
       "<style scoped>\n",
       "    .dataframe tbody tr th:only-of-type {\n",
       "        vertical-align: middle;\n",
       "    }\n",
       "\n",
       "    .dataframe tbody tr th {\n",
       "        vertical-align: top;\n",
       "    }\n",
       "\n",
       "    .dataframe thead th {\n",
       "        text-align: right;\n",
       "    }\n",
       "</style>\n",
       "<table border=\"1\" class=\"dataframe\">\n",
       "  <thead>\n",
       "    <tr style=\"text-align: right;\">\n",
       "      <th></th>\n",
       "      <th>userId</th>\n",
       "      <th>movieId</th>\n",
       "      <th>rating</th>\n",
       "      <th>timestamp</th>\n",
       "    </tr>\n",
       "  </thead>\n",
       "  <tbody>\n",
       "    <tr>\n",
       "      <th>0</th>\n",
       "      <td>5163</td>\n",
       "      <td>57669</td>\n",
       "      <td>4.0</td>\n",
       "      <td>1518349992</td>\n",
       "    </tr>\n",
       "    <tr>\n",
       "      <th>1</th>\n",
       "      <td>106343</td>\n",
       "      <td>5</td>\n",
       "      <td>4.5</td>\n",
       "      <td>1206238739</td>\n",
       "    </tr>\n",
       "    <tr>\n",
       "      <th>2</th>\n",
       "      <td>146790</td>\n",
       "      <td>5459</td>\n",
       "      <td>5.0</td>\n",
       "      <td>1076215539</td>\n",
       "    </tr>\n",
       "  </tbody>\n",
       "</table>\n",
       "</div>"
      ],
      "text/plain": [
       "   userId  movieId  rating   timestamp\n",
       "0    5163    57669     4.0  1518349992\n",
       "1  106343        5     4.5  1206238739\n",
       "2  146790     5459     5.0  1076215539"
      ]
     },
     "execution_count": 48,
     "metadata": {},
     "output_type": "execute_result"
    }
   ],
   "source": [
    "train = pd.read_csv('/kaggle/input/edsa-movie-recommendation-predict/train.csv')\n",
    "train.head(3)"
   ]
  },
  {
   "cell_type": "code",
   "execution_count": 49,
   "metadata": {
    "execution": {
     "iopub.execute_input": "2023-07-21T21:56:09.189615Z",
     "iopub.status.busy": "2023-07-21T21:56:09.188779Z",
     "iopub.status.idle": "2023-07-21T21:56:10.425440Z",
     "shell.execute_reply": "2023-07-21T21:56:10.424071Z",
     "shell.execute_reply.started": "2023-07-21T21:56:09.189566Z"
    }
   },
   "outputs": [
    {
     "data": {
      "text/html": [
       "<div>\n",
       "<style scoped>\n",
       "    .dataframe tbody tr th:only-of-type {\n",
       "        vertical-align: middle;\n",
       "    }\n",
       "\n",
       "    .dataframe tbody tr th {\n",
       "        vertical-align: top;\n",
       "    }\n",
       "\n",
       "    .dataframe thead th {\n",
       "        text-align: right;\n",
       "    }\n",
       "</style>\n",
       "<table border=\"1\" class=\"dataframe\">\n",
       "  <thead>\n",
       "    <tr style=\"text-align: right;\">\n",
       "      <th></th>\n",
       "      <th>userId</th>\n",
       "      <th>movieId</th>\n",
       "    </tr>\n",
       "  </thead>\n",
       "  <tbody>\n",
       "    <tr>\n",
       "      <th>0</th>\n",
       "      <td>1</td>\n",
       "      <td>2011</td>\n",
       "    </tr>\n",
       "    <tr>\n",
       "      <th>1</th>\n",
       "      <td>1</td>\n",
       "      <td>4144</td>\n",
       "    </tr>\n",
       "    <tr>\n",
       "      <th>2</th>\n",
       "      <td>1</td>\n",
       "      <td>5767</td>\n",
       "    </tr>\n",
       "  </tbody>\n",
       "</table>\n",
       "</div>"
      ],
      "text/plain": [
       "   userId  movieId\n",
       "0       1     2011\n",
       "1       1     4144\n",
       "2       1     5767"
      ]
     },
     "execution_count": 49,
     "metadata": {},
     "output_type": "execute_result"
    }
   ],
   "source": [
    "test = pd.read_csv('/kaggle/input/edsa-movie-recommendation-predict/test.csv')\n",
    "test.head(3)"
   ]
  },
  {
   "cell_type": "code",
   "execution_count": 50,
   "metadata": {
    "execution": {
     "iopub.execute_input": "2023-07-21T21:56:10.429064Z",
     "iopub.status.busy": "2023-07-21T21:56:10.428510Z",
     "iopub.status.idle": "2023-07-21T21:56:18.203850Z",
     "shell.execute_reply": "2023-07-21T21:56:18.202394Z",
     "shell.execute_reply.started": "2023-07-21T21:56:10.429017Z"
    }
   },
   "outputs": [
    {
     "data": {
      "text/html": [
       "<div>\n",
       "<style scoped>\n",
       "    .dataframe tbody tr th:only-of-type {\n",
       "        vertical-align: middle;\n",
       "    }\n",
       "\n",
       "    .dataframe tbody tr th {\n",
       "        vertical-align: top;\n",
       "    }\n",
       "\n",
       "    .dataframe thead th {\n",
       "        text-align: right;\n",
       "    }\n",
       "</style>\n",
       "<table border=\"1\" class=\"dataframe\">\n",
       "  <thead>\n",
       "    <tr style=\"text-align: right;\">\n",
       "      <th></th>\n",
       "      <th>movieId</th>\n",
       "      <th>tagId</th>\n",
       "      <th>relevance</th>\n",
       "    </tr>\n",
       "  </thead>\n",
       "  <tbody>\n",
       "    <tr>\n",
       "      <th>0</th>\n",
       "      <td>1</td>\n",
       "      <td>1</td>\n",
       "      <td>0.02875</td>\n",
       "    </tr>\n",
       "    <tr>\n",
       "      <th>1</th>\n",
       "      <td>1</td>\n",
       "      <td>2</td>\n",
       "      <td>0.02375</td>\n",
       "    </tr>\n",
       "    <tr>\n",
       "      <th>2</th>\n",
       "      <td>1</td>\n",
       "      <td>3</td>\n",
       "      <td>0.06250</td>\n",
       "    </tr>\n",
       "  </tbody>\n",
       "</table>\n",
       "</div>"
      ],
      "text/plain": [
       "   movieId  tagId  relevance\n",
       "0        1      1    0.02875\n",
       "1        1      2    0.02375\n",
       "2        1      3    0.06250"
      ]
     },
     "execution_count": 50,
     "metadata": {},
     "output_type": "execute_result"
    }
   ],
   "source": [
    "genome_score=pd.read_csv('/kaggle/input/edsa-movie-recommendation-predict/genome_scores.csv')\n",
    "genome_score.head(3)"
   ]
  },
  {
   "cell_type": "code",
   "execution_count": 51,
   "metadata": {
    "execution": {
     "iopub.execute_input": "2023-07-21T21:56:20.950078Z",
     "iopub.status.busy": "2023-07-21T21:56:20.949652Z",
     "iopub.status.idle": "2023-07-21T21:56:20.966595Z",
     "shell.execute_reply": "2023-07-21T21:56:20.964775Z",
     "shell.execute_reply.started": "2023-07-21T21:56:20.950046Z"
    }
   },
   "outputs": [
    {
     "data": {
      "text/html": [
       "<div>\n",
       "<style scoped>\n",
       "    .dataframe tbody tr th:only-of-type {\n",
       "        vertical-align: middle;\n",
       "    }\n",
       "\n",
       "    .dataframe tbody tr th {\n",
       "        vertical-align: top;\n",
       "    }\n",
       "\n",
       "    .dataframe thead th {\n",
       "        text-align: right;\n",
       "    }\n",
       "</style>\n",
       "<table border=\"1\" class=\"dataframe\">\n",
       "  <thead>\n",
       "    <tr style=\"text-align: right;\">\n",
       "      <th></th>\n",
       "      <th>tagId</th>\n",
       "      <th>tag</th>\n",
       "    </tr>\n",
       "  </thead>\n",
       "  <tbody>\n",
       "    <tr>\n",
       "      <th>0</th>\n",
       "      <td>1</td>\n",
       "      <td>007</td>\n",
       "    </tr>\n",
       "    <tr>\n",
       "      <th>1</th>\n",
       "      <td>2</td>\n",
       "      <td>007 (series)</td>\n",
       "    </tr>\n",
       "    <tr>\n",
       "      <th>2</th>\n",
       "      <td>3</td>\n",
       "      <td>18th century</td>\n",
       "    </tr>\n",
       "  </tbody>\n",
       "</table>\n",
       "</div>"
      ],
      "text/plain": [
       "   tagId           tag\n",
       "0      1           007\n",
       "1      2  007 (series)\n",
       "2      3  18th century"
      ]
     },
     "execution_count": 51,
     "metadata": {},
     "output_type": "execute_result"
    }
   ],
   "source": [
    "genome_tags=pd.read_csv('/kaggle/input/edsa-movie-recommendation-predict/genome_tags.csv')\n",
    "genome_tags.head(3)"
   ]
  },
  {
   "cell_type": "code",
   "execution_count": 52,
   "metadata": {
    "execution": {
     "iopub.execute_input": "2023-07-21T21:56:26.548896Z",
     "iopub.status.busy": "2023-07-21T21:56:26.548431Z",
     "iopub.status.idle": "2023-07-21T21:56:26.683329Z",
     "shell.execute_reply": "2023-07-21T21:56:26.681747Z",
     "shell.execute_reply.started": "2023-07-21T21:56:26.548863Z"
    }
   },
   "outputs": [
    {
     "data": {
      "text/html": [
       "<div>\n",
       "<style scoped>\n",
       "    .dataframe tbody tr th:only-of-type {\n",
       "        vertical-align: middle;\n",
       "    }\n",
       "\n",
       "    .dataframe tbody tr th {\n",
       "        vertical-align: top;\n",
       "    }\n",
       "\n",
       "    .dataframe thead th {\n",
       "        text-align: right;\n",
       "    }\n",
       "</style>\n",
       "<table border=\"1\" class=\"dataframe\">\n",
       "  <thead>\n",
       "    <tr style=\"text-align: right;\">\n",
       "      <th></th>\n",
       "      <th>movieId</th>\n",
       "      <th>title_cast</th>\n",
       "      <th>director</th>\n",
       "      <th>runtime</th>\n",
       "      <th>budget</th>\n",
       "      <th>plot_keywords</th>\n",
       "    </tr>\n",
       "  </thead>\n",
       "  <tbody>\n",
       "    <tr>\n",
       "      <th>0</th>\n",
       "      <td>1</td>\n",
       "      <td>Tom Hanks|Tim Allen|Don Rickles|Jim Varney|Wal...</td>\n",
       "      <td>John Lasseter</td>\n",
       "      <td>81.0</td>\n",
       "      <td>$30,000,000</td>\n",
       "      <td>toy|rivalry|cowboy|cgi animation</td>\n",
       "    </tr>\n",
       "    <tr>\n",
       "      <th>1</th>\n",
       "      <td>2</td>\n",
       "      <td>Robin Williams|Jonathan Hyde|Kirsten Dunst|Bra...</td>\n",
       "      <td>Jonathan Hensleigh</td>\n",
       "      <td>104.0</td>\n",
       "      <td>$65,000,000</td>\n",
       "      <td>board game|adventurer|fight|game</td>\n",
       "    </tr>\n",
       "    <tr>\n",
       "      <th>2</th>\n",
       "      <td>3</td>\n",
       "      <td>Walter Matthau|Jack Lemmon|Sophia Loren|Ann-Ma...</td>\n",
       "      <td>Mark Steven Johnson</td>\n",
       "      <td>101.0</td>\n",
       "      <td>$25,000,000</td>\n",
       "      <td>boat|lake|neighbor|rivalry</td>\n",
       "    </tr>\n",
       "  </tbody>\n",
       "</table>\n",
       "</div>"
      ],
      "text/plain": [
       "   movieId                                         title_cast  \\\n",
       "0        1  Tom Hanks|Tim Allen|Don Rickles|Jim Varney|Wal...   \n",
       "1        2  Robin Williams|Jonathan Hyde|Kirsten Dunst|Bra...   \n",
       "2        3  Walter Matthau|Jack Lemmon|Sophia Loren|Ann-Ma...   \n",
       "\n",
       "              director  runtime       budget                     plot_keywords  \n",
       "0        John Lasseter     81.0  $30,000,000  toy|rivalry|cowboy|cgi animation  \n",
       "1   Jonathan Hensleigh    104.0  $65,000,000  board game|adventurer|fight|game  \n",
       "2  Mark Steven Johnson    101.0  $25,000,000        boat|lake|neighbor|rivalry  "
      ]
     },
     "execution_count": 52,
     "metadata": {},
     "output_type": "execute_result"
    }
   ],
   "source": [
    "imdb_data=pd.read_csv('/kaggle/input/edsa-movie-recommendation-predict/imdb_data.csv')\n",
    "imdb_data.head(3)"
   ]
  },
  {
   "cell_type": "code",
   "execution_count": 53,
   "metadata": {
    "execution": {
     "iopub.execute_input": "2023-07-21T21:56:29.812661Z",
     "iopub.status.busy": "2023-07-21T21:56:29.812241Z",
     "iopub.status.idle": "2023-07-21T21:56:29.859188Z",
     "shell.execute_reply": "2023-07-21T21:56:29.857946Z",
     "shell.execute_reply.started": "2023-07-21T21:56:29.812628Z"
    }
   },
   "outputs": [
    {
     "data": {
      "text/html": [
       "<div>\n",
       "<style scoped>\n",
       "    .dataframe tbody tr th:only-of-type {\n",
       "        vertical-align: middle;\n",
       "    }\n",
       "\n",
       "    .dataframe tbody tr th {\n",
       "        vertical-align: top;\n",
       "    }\n",
       "\n",
       "    .dataframe thead th {\n",
       "        text-align: right;\n",
       "    }\n",
       "</style>\n",
       "<table border=\"1\" class=\"dataframe\">\n",
       "  <thead>\n",
       "    <tr style=\"text-align: right;\">\n",
       "      <th></th>\n",
       "      <th>movieId</th>\n",
       "      <th>imdbId</th>\n",
       "      <th>tmdbId</th>\n",
       "    </tr>\n",
       "  </thead>\n",
       "  <tbody>\n",
       "    <tr>\n",
       "      <th>0</th>\n",
       "      <td>1</td>\n",
       "      <td>114709</td>\n",
       "      <td>862.0</td>\n",
       "    </tr>\n",
       "    <tr>\n",
       "      <th>1</th>\n",
       "      <td>2</td>\n",
       "      <td>113497</td>\n",
       "      <td>8844.0</td>\n",
       "    </tr>\n",
       "    <tr>\n",
       "      <th>2</th>\n",
       "      <td>3</td>\n",
       "      <td>113228</td>\n",
       "      <td>15602.0</td>\n",
       "    </tr>\n",
       "  </tbody>\n",
       "</table>\n",
       "</div>"
      ],
      "text/plain": [
       "   movieId  imdbId   tmdbId\n",
       "0        1  114709    862.0\n",
       "1        2  113497   8844.0\n",
       "2        3  113228  15602.0"
      ]
     },
     "execution_count": 53,
     "metadata": {},
     "output_type": "execute_result"
    }
   ],
   "source": [
    "links=pd.read_csv('/kaggle/input/edsa-movie-recommendation-predict/links.csv')\n",
    "links.head(3)"
   ]
  },
  {
   "cell_type": "code",
   "execution_count": 54,
   "metadata": {
    "execution": {
     "iopub.execute_input": "2023-07-21T21:56:38.517033Z",
     "iopub.status.busy": "2023-07-21T21:56:38.516571Z",
     "iopub.status.idle": "2023-07-21T21:56:38.529625Z",
     "shell.execute_reply": "2023-07-21T21:56:38.528013Z",
     "shell.execute_reply.started": "2023-07-21T21:56:38.516998Z"
    }
   },
   "outputs": [
    {
     "name": "stdout",
     "output_type": "stream",
     "text": [
      "genome_score: (15584448, 3)\n",
      "genome_tags: (1128, 2)\n",
      "imdb_data: (27278, 6)\n",
      "links: (62423, 3)\n"
     ]
    }
   ],
   "source": [
    "print('genome_score:', genome_score.shape)\n",
    "print('genome_tags:', genome_tags.shape)\n",
    "print('imdb_data:', imdb_data.shape)\n",
    "print('links:', links.shape)"
   ]
  },
  {
   "cell_type": "code",
   "execution_count": 55,
   "metadata": {
    "execution": {
     "iopub.execute_input": "2023-07-21T21:56:45.297644Z",
     "iopub.status.busy": "2023-07-21T21:56:45.297211Z",
     "iopub.status.idle": "2023-07-21T21:56:45.311708Z",
     "shell.execute_reply": "2023-07-21T21:56:45.310207Z",
     "shell.execute_reply.started": "2023-07-21T21:56:45.297611Z"
    }
   },
   "outputs": [
    {
     "name": "stdout",
     "output_type": "stream",
     "text": [
      "movies: (62423, 3)\n",
      "tags: (1093360, 4)\n",
      "train: (10000038, 4)\n",
      "test: (5000019, 2)\n"
     ]
    }
   ],
   "source": [
    "print('movies:', movies.shape)\n",
    "print('tags:', tags.shape)\n",
    "print('train:', train.shape)\n",
    "print('test:', test.shape)"
   ]
  },
  {
   "cell_type": "code",
   "execution_count": 56,
   "metadata": {
    "execution": {
     "iopub.execute_input": "2023-07-21T21:56:51.266675Z",
     "iopub.status.busy": "2023-07-21T21:56:51.266211Z",
     "iopub.status.idle": "2023-07-21T21:56:51.325897Z",
     "shell.execute_reply": "2023-07-21T21:56:51.324507Z",
     "shell.execute_reply.started": "2023-07-21T21:56:51.266640Z"
    }
   },
   "outputs": [
    {
     "data": {
      "text/plain": [
       "userId       0\n",
       "movieId      0\n",
       "rating       0\n",
       "timestamp    0\n",
       "dtype: int64"
      ]
     },
     "execution_count": 56,
     "metadata": {},
     "output_type": "execute_result"
    }
   ],
   "source": [
    "train.isnull().sum()"
   ]
  },
  {
   "cell_type": "code",
   "execution_count": 57,
   "metadata": {
    "execution": {
     "iopub.execute_input": "2023-07-21T21:57:01.965534Z",
     "iopub.status.busy": "2023-07-21T21:57:01.965056Z",
     "iopub.status.idle": "2023-07-21T21:57:04.068905Z",
     "shell.execute_reply": "2023-07-21T21:57:04.067570Z",
     "shell.execute_reply.started": "2023-07-21T21:57:01.965501Z"
    }
   },
   "outputs": [
    {
     "data": {
      "text/html": [
       "<div>\n",
       "<style scoped>\n",
       "    .dataframe tbody tr th:only-of-type {\n",
       "        vertical-align: middle;\n",
       "    }\n",
       "\n",
       "    .dataframe tbody tr th {\n",
       "        vertical-align: top;\n",
       "    }\n",
       "\n",
       "    .dataframe thead th {\n",
       "        text-align: right;\n",
       "    }\n",
       "</style>\n",
       "<table border=\"1\" class=\"dataframe\">\n",
       "  <thead>\n",
       "    <tr style=\"text-align: right;\">\n",
       "      <th></th>\n",
       "      <th>userId</th>\n",
       "      <th>movieId</th>\n",
       "      <th>rating</th>\n",
       "      <th>timestamp</th>\n",
       "    </tr>\n",
       "  </thead>\n",
       "  <tbody>\n",
       "    <tr>\n",
       "      <th>count</th>\n",
       "      <td>1.000004e+07</td>\n",
       "      <td>1.000004e+07</td>\n",
       "      <td>1.000004e+07</td>\n",
       "      <td>1.000004e+07</td>\n",
       "    </tr>\n",
       "    <tr>\n",
       "      <th>mean</th>\n",
       "      <td>8.119909e+04</td>\n",
       "      <td>2.138911e+04</td>\n",
       "      <td>3.533395e+00</td>\n",
       "      <td>1.215677e+09</td>\n",
       "    </tr>\n",
       "    <tr>\n",
       "      <th>std</th>\n",
       "      <td>4.679359e+04</td>\n",
       "      <td>3.919578e+04</td>\n",
       "      <td>1.061124e+00</td>\n",
       "      <td>2.268921e+08</td>\n",
       "    </tr>\n",
       "    <tr>\n",
       "      <th>min</th>\n",
       "      <td>1.000000e+00</td>\n",
       "      <td>1.000000e+00</td>\n",
       "      <td>5.000000e-01</td>\n",
       "      <td>7.896520e+08</td>\n",
       "    </tr>\n",
       "    <tr>\n",
       "      <th>25%</th>\n",
       "      <td>4.051000e+04</td>\n",
       "      <td>1.197000e+03</td>\n",
       "      <td>3.000000e+00</td>\n",
       "      <td>1.011742e+09</td>\n",
       "    </tr>\n",
       "    <tr>\n",
       "      <th>50%</th>\n",
       "      <td>8.091400e+04</td>\n",
       "      <td>2.947000e+03</td>\n",
       "      <td>3.500000e+00</td>\n",
       "      <td>1.199019e+09</td>\n",
       "    </tr>\n",
       "    <tr>\n",
       "      <th>75%</th>\n",
       "      <td>1.215790e+05</td>\n",
       "      <td>8.630000e+03</td>\n",
       "      <td>4.000000e+00</td>\n",
       "      <td>1.447242e+09</td>\n",
       "    </tr>\n",
       "    <tr>\n",
       "      <th>max</th>\n",
       "      <td>1.625410e+05</td>\n",
       "      <td>2.091710e+05</td>\n",
       "      <td>5.000000e+00</td>\n",
       "      <td>1.574328e+09</td>\n",
       "    </tr>\n",
       "  </tbody>\n",
       "</table>\n",
       "</div>"
      ],
      "text/plain": [
       "             userId       movieId        rating     timestamp\n",
       "count  1.000004e+07  1.000004e+07  1.000004e+07  1.000004e+07\n",
       "mean   8.119909e+04  2.138911e+04  3.533395e+00  1.215677e+09\n",
       "std    4.679359e+04  3.919578e+04  1.061124e+00  2.268921e+08\n",
       "min    1.000000e+00  1.000000e+00  5.000000e-01  7.896520e+08\n",
       "25%    4.051000e+04  1.197000e+03  3.000000e+00  1.011742e+09\n",
       "50%    8.091400e+04  2.947000e+03  3.500000e+00  1.199019e+09\n",
       "75%    1.215790e+05  8.630000e+03  4.000000e+00  1.447242e+09\n",
       "max    1.625410e+05  2.091710e+05  5.000000e+00  1.574328e+09"
      ]
     },
     "execution_count": 57,
     "metadata": {},
     "output_type": "execute_result"
    }
   ],
   "source": [
    "train.describe()"
   ]
  },
  {
   "cell_type": "code",
   "execution_count": 58,
   "metadata": {
    "execution": {
     "iopub.execute_input": "2023-07-21T21:57:10.407074Z",
     "iopub.status.busy": "2023-07-21T21:57:10.406540Z",
     "iopub.status.idle": "2023-07-21T21:57:11.183558Z",
     "shell.execute_reply": "2023-07-21T21:57:11.182139Z",
     "shell.execute_reply.started": "2023-07-21T21:57:10.407034Z"
    }
   },
   "outputs": [
    {
     "data": {
      "text/plain": [
       "userId      -1.197634\n",
       "movieId      4.351014\n",
       "rating       0.221102\n",
       "timestamp   -1.316891\n",
       "dtype: float64"
      ]
     },
     "execution_count": 58,
     "metadata": {},
     "output_type": "execute_result"
    }
   ],
   "source": [
    "train.kurtosis()"
   ]
  },
  {
   "cell_type": "code",
   "execution_count": 31,
   "metadata": {
    "execution": {
     "iopub.execute_input": "2023-07-21T21:48:13.174601Z",
     "iopub.status.busy": "2023-07-21T21:48:13.174138Z",
     "iopub.status.idle": "2023-07-21T21:48:13.897631Z",
     "shell.execute_reply": "2023-07-21T21:48:13.896225Z",
     "shell.execute_reply.started": "2023-07-21T21:48:13.174567Z"
    }
   },
   "outputs": [
    {
     "data": {
      "text/plain": [
       "userId       0.007477\n",
       "movieId      2.200436\n",
       "rating      -0.703118\n",
       "timestamp   -0.017331\n",
       "dtype: float64"
      ]
     },
     "execution_count": 31,
     "metadata": {},
     "output_type": "execute_result"
    }
   ],
   "source": [
    "train.skew()"
   ]
  },
  {
   "cell_type": "code",
   "execution_count": 59,
   "metadata": {
    "execution": {
     "iopub.execute_input": "2023-07-21T21:57:18.725307Z",
     "iopub.status.busy": "2023-07-21T21:57:18.724819Z",
     "iopub.status.idle": "2023-07-21T21:57:20.748918Z",
     "shell.execute_reply": "2023-07-21T21:57:20.746078Z",
     "shell.execute_reply.started": "2023-07-21T21:57:18.725271Z"
    }
   },
   "outputs": [
    {
     "data": {
      "image/png": "[encoded data removed]",
      "text/plain": [
       "<Figure size 1500x1000 with 1 Axes>"
      ]
     },
     "metadata": {},
     "output_type": "display_data"
    },
    {
     "name": "stdout",
     "output_type": "stream",
     "text": [
      "Average rating in dataset: 3.5333951730983424\n"
     ]
    }
   ],
   "source": [
    "# Create the count plot\n",
    "sns.countplot(data=train, x='rating')\n",
    "\n",
    "# Customize the plot\n",
    "plt.xlabel('rating')\n",
    "plt.ylabel('Total number of ratings')\n",
    "plt.title('Total count of the number of ratings')\n",
    "plt.xticks(rotation=45)\n",
    "\n",
    "# Display the plot\n",
    "plt.show()\n",
    "print (f'Average rating in dataset: {np.mean(train[\"rating\"])}')"
   ]
  },
  {
   "cell_type": "markdown",
   "metadata": {},
   "source": [
    "## Pre-processing for performing content base filtering "
   ]
  },
  {
   "cell_type": "code",
   "execution_count": 60,
   "metadata": {
    "execution": {
     "iopub.execute_input": "2023-07-21T21:57:32.792218Z",
     "iopub.status.busy": "2023-07-21T21:57:32.791730Z",
     "iopub.status.idle": "2023-07-21T21:57:33.764108Z",
     "shell.execute_reply": "2023-07-21T21:57:33.762992Z",
     "shell.execute_reply.started": "2023-07-21T21:57:32.792184Z"
    }
   },
   "outputs": [
    {
     "name": "stdout",
     "output_type": "stream",
     "text": [
      "   userId  movieId  rating   timestamp  \\\n",
      "0    5163    57669     4.0  1518349992   \n",
      "1  106343        5     4.5  1206238739   \n",
      "2  146790     5459     5.0  1076215539   \n",
      "\n",
      "                                          title_cast             director  \n",
      "0  Tom Hanks|Tim Allen|Don Rickles|Jim Varney|Wal...        John Lasseter  \n",
      "1  Robin Williams|Jonathan Hyde|Kirsten Dunst|Bra...   Jonathan Hensleigh  \n",
      "2  Walter Matthau|Jack Lemmon|Sophia Loren|Ann-Ma...  Mark Steven Johnson  \n"
     ]
    }
   ],
   "source": [
    "# Columns to be added from imdb_data to train \n",
    "columns_to_add = ['title_cast', 'director']\n",
    "\n",
    "# Using pd.concat() to add columns\n",
    "train_df = pd.concat([train, imdb_data[columns_to_add]], axis=1)\n",
    "\n",
    "print(train_df.head(3))"
   ]
  },
  {
   "cell_type": "code",
   "execution_count": 61,
   "metadata": {
    "execution": {
     "iopub.execute_input": "2023-07-21T21:57:38.451832Z",
     "iopub.status.busy": "2023-07-21T21:57:38.451407Z",
     "iopub.status.idle": "2023-07-21T21:57:39.667287Z",
     "shell.execute_reply": "2023-07-21T21:57:39.666005Z",
     "shell.execute_reply.started": "2023-07-21T21:57:38.451801Z"
    }
   },
   "outputs": [
    {
     "name": "stdout",
     "output_type": "stream",
     "text": [
      "   userId  movieId  rating   timestamp  \\\n",
      "0    5163    57669     4.0  1518349992   \n",
      "1  106343        5     4.5  1206238739   \n",
      "2  146790     5459     5.0  1076215539   \n",
      "\n",
      "                                          title_cast             director  \\\n",
      "0  Tom Hanks|Tim Allen|Don Rickles|Jim Varney|Wal...        John Lasseter   \n",
      "1  Robin Williams|Jonathan Hyde|Kirsten Dunst|Bra...   Jonathan Hensleigh   \n",
      "2  Walter Matthau|Jack Lemmon|Sophia Loren|Ann-Ma...  Mark Steven Johnson   \n",
      "\n",
      "                     title                                       genres  \n",
      "0         Toy Story (1995)  Adventure|Animation|Children|Comedy|Fantasy  \n",
      "1           Jumanji (1995)                   Adventure|Children|Fantasy  \n",
      "2  Grumpier Old Men (1995)                               Comedy|Romance  \n"
     ]
    }
   ],
   "source": [
    "# Columns to be added from movies to train \n",
    "columns_to_add = ['title','genres']\n",
    "\n",
    "# Using pd.concat() to add columns\n",
    "train_df = pd.concat([train_df, movies[columns_to_add]], axis=1)\n",
    "\n",
    "print(train_df.head(3))"
   ]
  },
  {
   "cell_type": "code",
   "execution_count": 63,
   "metadata": {
    "execution": {
     "iopub.execute_input": "2023-07-21T21:58:11.303010Z",
     "iopub.status.busy": "2023-07-21T21:58:11.302524Z",
     "iopub.status.idle": "2023-07-21T21:58:11.327318Z",
     "shell.execute_reply": "2023-07-21T21:58:11.325977Z",
     "shell.execute_reply.started": "2023-07-21T21:58:11.302969Z"
    }
   },
   "outputs": [
    {
     "name": "stdout",
     "output_type": "stream",
     "text": [
      "DataFrame without duplicates:\n",
      "   userId  movieId  rating   timestamp  \\\n",
      "0    5163    57669     4.0  1518349992   \n",
      "1  106343        5     4.5  1206238739   \n",
      "2  146790     5459     5.0  1076215539   \n",
      "\n",
      "                                          title_cast             director  \\\n",
      "0  Tom Hanks|Tim Allen|Don Rickles|Jim Varney|Wal...        John Lasseter   \n",
      "1  Robin Williams|Jonathan Hyde|Kirsten Dunst|Bra...   Jonathan Hensleigh   \n",
      "2  Walter Matthau|Jack Lemmon|Sophia Loren|Ann-Ma...  Mark Steven Johnson   \n",
      "\n",
      "                     title                                       genres  \n",
      "0         Toy Story (1995)  Adventure|Animation|Children|Comedy|Fantasy  \n",
      "1           Jumanji (1995)                   Adventure|Children|Fantasy  \n",
      "2  Grumpier Old Men (1995)                               Comedy|Romance  \n"
     ]
    }
   ],
   "source": [
    "#search for dublicates in the train_df \n",
    "# Removing duplicates based on a subset of columns\n",
    "train_df = train_df.drop_duplicates(subset=['movieId'], keep='first')\n",
    "print(\"DataFrame without duplicates:\")\n",
    "print(train_df.head(3))"
   ]
  },
  {
   "cell_type": "code",
   "execution_count": 64,
   "metadata": {
    "execution": {
     "iopub.execute_input": "2023-07-21T21:58:15.606747Z",
     "iopub.status.busy": "2023-07-21T21:58:15.606310Z",
     "iopub.status.idle": "2023-07-21T21:58:15.676947Z",
     "shell.execute_reply": "2023-07-21T21:58:15.674589Z",
     "shell.execute_reply.started": "2023-07-21T21:58:15.606714Z"
    }
   },
   "outputs": [
    {
     "data": {
      "text/plain": [
       "userId            0\n",
       "movieId           0\n",
       "rating            0\n",
       "timestamp         0\n",
       "title_cast    44540\n",
       "director      44515\n",
       "title         39743\n",
       "genres        39743\n",
       "dtype: int64"
      ]
     },
     "execution_count": 64,
     "metadata": {},
     "output_type": "execute_result"
    }
   ],
   "source": [
    "train_df.isnull().sum()"
   ]
  },
  {
   "cell_type": "markdown",
   "metadata": {},
   "source": [
    "# STILL WORKING ON THESE LINES OF CODE\n",
    "#Create a neat version of the utility matrix to assist with plotting book titles \n",
    "movies_ratings['movie_Id'] = train['movieId'].apply(lambda x: x[:20])\n",
    "util_matrix_neat = train.pivot_table(index=['userid'],\n",
    "                                            columns=['movieId'],\n",
    "                                            values='rating')\n",
    "\n",
    "fig, ax = plt.subplots(figsize=(15,5))\n",
    "#We select only the first 100 users for ease of computation and visualisation. \n",
    "#You can play around with this value to see more of the utility matrix. \n",
    "_ = sns.heatmap(util_matrix_neat[:100], annot=False, ax=ax).set_title('GoodBooks Utility Matrix')\n"
   ]
  },
  {
   "cell_type": "markdown",
   "metadata": {},
   "source": [
    "# STILL WORKING ON THESE TOO. \n",
    "#Compute the similarity matrix using the cosine similarity metric\n",
    "user_similarity = cosine_similarity(util_matrix_sparse.T)\n",
    "#Save the matrix as a dataframe to allow for easier indexing  \n",
    "user_sim_df = pd.DataFrame(user_similarity,\n",
    "                           index = util_matrix_norm.columns,\n",
    "                           columns = util_matrix_norm.columns)\n",
    "\n",
    "#Review a small portion of the constructed similartiy matrix  \n",
    "user_sim_df[:5]"
   ]
  },
  {
   "cell_type": "markdown",
   "metadata": {
    "execution": {
     "iopub.execute_input": "2023-07-21T17:57:36.373848Z",
     "iopub.status.busy": "2023-07-21T17:57:36.372914Z",
     "iopub.status.idle": "2023-07-21T17:57:36.380260Z",
     "shell.execute_reply": "2023-07-21T17:57:36.378167Z",
     "shell.execute_reply.started": "2023-07-21T17:57:36.373806Z"
    }
   },
   "source": [
    "### SVD Model"
   ]
  },
  {
   "cell_type": "code",
   "execution_count": 71,
   "metadata": {
    "execution": {
     "iopub.execute_input": "2023-07-21T22:00:04.130054Z",
     "iopub.status.busy": "2023-07-21T22:00:04.129549Z",
     "iopub.status.idle": "2023-07-21T22:00:04.140470Z",
     "shell.execute_reply": "2023-07-21T22:00:04.138597Z",
     "shell.execute_reply.started": "2023-07-21T22:00:04.130017Z"
    }
   },
   "outputs": [
    {
     "data": {
      "text/plain": [
       "(5000019, 2)"
      ]
     },
     "execution_count": 71,
     "metadata": {},
     "output_type": "execute_result"
    }
   ],
   "source": [
    "test.shape"
   ]
  },
  {
   "cell_type": "code",
   "execution_count": 72,
   "metadata": {
    "execution": {
     "iopub.execute_input": "2023-07-21T22:00:10.764848Z",
     "iopub.status.busy": "2023-07-21T22:00:10.764251Z",
     "iopub.status.idle": "2023-07-21T22:00:10.830664Z",
     "shell.execute_reply": "2023-07-21T22:00:10.829640Z",
     "shell.execute_reply.started": "2023-07-21T22:00:10.764809Z"
    }
   },
   "outputs": [],
   "source": [
    "from surprise import Reader\n",
    "from surprise import Dataset\n",
    "from surprise import accuracy\n",
    "from surprise import SVD\n",
    "from surprise.model_selection import train_test_split"
   ]
  },
  {
   "cell_type": "code",
   "execution_count": 73,
   "metadata": {
    "execution": {
     "iopub.execute_input": "2023-07-21T22:00:15.282097Z",
     "iopub.status.busy": "2023-07-21T22:00:15.281556Z",
     "iopub.status.idle": "2023-07-21T22:00:32.595846Z",
     "shell.execute_reply": "2023-07-21T22:00:32.594314Z",
     "shell.execute_reply.started": "2023-07-21T22:00:15.282057Z"
    }
   },
   "outputs": [],
   "source": [
    "train_df = train.copy()\n",
    "reader = Reader(rating_scale=(1, 5))\n",
    "df = Dataset.load_from_df(train_df[['userId', 'movieId', 'rating']], reader)"
   ]
  },
  {
   "cell_type": "code",
   "execution_count": 74,
   "metadata": {
    "execution": {
     "iopub.execute_input": "2023-07-21T22:00:32.599351Z",
     "iopub.status.busy": "2023-07-21T22:00:32.598211Z",
     "iopub.status.idle": "2023-07-21T22:01:21.950976Z",
     "shell.execute_reply": "2023-07-21T22:01:21.949620Z",
     "shell.execute_reply.started": "2023-07-21T22:00:32.599305Z"
    }
   },
   "outputs": [],
   "source": [
    "trainingset, testingset = train_test_split(df, test_size=0.2, random_state=42)"
   ]
  },
  {
   "cell_type": "code",
   "execution_count": 75,
   "metadata": {
    "execution": {
     "iopub.execute_input": "2023-07-21T22:01:41.347605Z",
     "iopub.status.busy": "2023-07-21T22:01:41.347085Z",
     "iopub.status.idle": "2023-07-21T22:05:57.863086Z",
     "shell.execute_reply": "2023-07-21T22:05:57.861623Z",
     "shell.execute_reply.started": "2023-07-21T22:01:41.347566Z"
    }
   },
   "outputs": [
    {
     "data": {
      "text/plain": [
       "<surprise.prediction_algorithms.matrix_factorization.SVD at 0x7f3127655b70>"
      ]
     },
     "execution_count": 75,
     "metadata": {},
     "output_type": "execute_result"
    }
   ],
   "source": [
    "svd_model = SVD()\n",
    "svd_model.fit(trainingset)"
   ]
  },
  {
   "cell_type": "code",
   "execution_count": 80,
   "metadata": {
    "execution": {
     "iopub.execute_input": "2023-07-21T22:13:15.309664Z",
     "iopub.status.busy": "2023-07-21T22:13:15.309215Z",
     "iopub.status.idle": "2023-07-21T22:13:59.183969Z",
     "shell.execute_reply": "2023-07-21T22:13:59.182634Z",
     "shell.execute_reply.started": "2023-07-21T22:13:15.309630Z"
    }
   },
   "outputs": [
    {
     "data": {
      "text/html": [
       "<div>\n",
       "<style scoped>\n",
       "    .dataframe tbody tr th:only-of-type {\n",
       "        vertical-align: middle;\n",
       "    }\n",
       "\n",
       "    .dataframe tbody tr th {\n",
       "        vertical-align: top;\n",
       "    }\n",
       "\n",
       "    .dataframe thead th {\n",
       "        text-align: right;\n",
       "    }\n",
       "</style>\n",
       "<table border=\"1\" class=\"dataframe\">\n",
       "  <thead>\n",
       "    <tr style=\"text-align: right;\">\n",
       "      <th></th>\n",
       "      <th>uid</th>\n",
       "      <th>iid</th>\n",
       "      <th>r_ui</th>\n",
       "      <th>est</th>\n",
       "      <th>details</th>\n",
       "    </tr>\n",
       "  </thead>\n",
       "  <tbody>\n",
       "    <tr>\n",
       "      <th>0</th>\n",
       "      <td>120843</td>\n",
       "      <td>106782</td>\n",
       "      <td>4.0</td>\n",
       "      <td>4.948472</td>\n",
       "      <td>{'was_impossible': False}</td>\n",
       "    </tr>\n",
       "    <tr>\n",
       "      <th>1</th>\n",
       "      <td>64583</td>\n",
       "      <td>2</td>\n",
       "      <td>4.5</td>\n",
       "      <td>3.167535</td>\n",
       "      <td>{'was_impossible': False}</td>\n",
       "    </tr>\n",
       "    <tr>\n",
       "      <th>2</th>\n",
       "      <td>88952</td>\n",
       "      <td>38304</td>\n",
       "      <td>4.5</td>\n",
       "      <td>4.428254</td>\n",
       "      <td>{'was_impossible': False}</td>\n",
       "    </tr>\n",
       "  </tbody>\n",
       "</table>\n",
       "</div>"
      ],
      "text/plain": [
       "      uid     iid  r_ui       est                    details\n",
       "0  120843  106782   4.0  4.948472  {'was_impossible': False}\n",
       "1   64583       2   4.5  3.167535  {'was_impossible': False}\n",
       "2   88952   38304   4.5  4.428254  {'was_impossible': False}"
      ]
     },
     "execution_count": 80,
     "metadata": {},
     "output_type": "execute_result"
    }
   ],
   "source": [
    "prediction = svd_model.test(testingset) \n",
    "#svd_test_data = np.array([pred.est for pred in prediction])\n",
    "svd_test_data = pd.DataFrame(prediction)\n",
    "svd_test_data.head(3)"
   ]
  },
  {
   "cell_type": "code",
   "execution_count": 81,
   "metadata": {
    "execution": {
     "iopub.execute_input": "2023-07-21T22:15:23.470539Z",
     "iopub.status.busy": "2023-07-21T22:15:23.470087Z",
     "iopub.status.idle": "2023-07-21T22:15:25.972185Z",
     "shell.execute_reply": "2023-07-21T22:15:25.970626Z",
     "shell.execute_reply.started": "2023-07-21T22:15:23.470505Z"
    }
   },
   "outputs": [
    {
     "name": "stdout",
     "output_type": "stream",
     "text": [
      "RMSE: 0.8332\n"
     ]
    }
   ],
   "source": [
    "rmse = accuracy.rmse(prediction)"
   ]
  },
  {
   "cell_type": "code",
   "execution_count": 83,
   "metadata": {
    "execution": {
     "iopub.execute_input": "2023-07-21T22:15:51.853463Z",
     "iopub.status.busy": "2023-07-21T22:15:51.852884Z",
     "iopub.status.idle": "2023-07-21T22:24:08.233985Z",
     "shell.execute_reply": "2023-07-21T22:24:08.232662Z",
     "shell.execute_reply.started": "2023-07-21T22:15:51.853417Z"
    }
   },
   "outputs": [
    {
     "data": {
      "text/plain": [
       "[Prediction(uid=1, iid=2011, r_ui=None, est=2.9430443540176725, details={'was_impossible': False}),\n",
       " Prediction(uid=1, iid=4144, r_ui=None, est=4.168057227917432, details={'was_impossible': False}),\n",
       " Prediction(uid=1, iid=5767, r_ui=None, est=3.4784839538135888, details={'was_impossible': False})]"
      ]
     },
     "execution_count": 83,
     "metadata": {},
     "output_type": "execute_result"
    }
   ],
   "source": [
    "ratings=[svd_model.predict(row.userId, row.movieId) for _,row in test.iterrows()]\n",
    "ratings[:3]"
   ]
  },
  {
   "cell_type": "code",
   "execution_count": 84,
   "metadata": {
    "execution": {
     "iopub.execute_input": "2023-07-21T22:26:58.538407Z",
     "iopub.status.busy": "2023-07-21T22:26:58.537921Z",
     "iopub.status.idle": "2023-07-21T22:27:56.399713Z",
     "shell.execute_reply": "2023-07-21T22:27:56.398021Z",
     "shell.execute_reply.started": "2023-07-21T22:26:58.538372Z"
    }
   },
   "outputs": [
    {
     "data": {
      "text/html": [
       "<div>\n",
       "<style scoped>\n",
       "    .dataframe tbody tr th:only-of-type {\n",
       "        vertical-align: middle;\n",
       "    }\n",
       "\n",
       "    .dataframe tbody tr th {\n",
       "        vertical-align: top;\n",
       "    }\n",
       "\n",
       "    .dataframe thead th {\n",
       "        text-align: right;\n",
       "    }\n",
       "</style>\n",
       "<table border=\"1\" class=\"dataframe\">\n",
       "  <thead>\n",
       "    <tr style=\"text-align: right;\">\n",
       "      <th></th>\n",
       "      <th>uid</th>\n",
       "      <th>iid</th>\n",
       "      <th>r_ui</th>\n",
       "      <th>est</th>\n",
       "      <th>details</th>\n",
       "    </tr>\n",
       "  </thead>\n",
       "  <tbody>\n",
       "    <tr>\n",
       "      <th>0</th>\n",
       "      <td>1</td>\n",
       "      <td>2011</td>\n",
       "      <td>None</td>\n",
       "      <td>2.943044</td>\n",
       "      <td>{'was_impossible': False}</td>\n",
       "    </tr>\n",
       "    <tr>\n",
       "      <th>1</th>\n",
       "      <td>1</td>\n",
       "      <td>4144</td>\n",
       "      <td>None</td>\n",
       "      <td>4.168057</td>\n",
       "      <td>{'was_impossible': False}</td>\n",
       "    </tr>\n",
       "    <tr>\n",
       "      <th>2</th>\n",
       "      <td>1</td>\n",
       "      <td>5767</td>\n",
       "      <td>None</td>\n",
       "      <td>3.478484</td>\n",
       "      <td>{'was_impossible': False}</td>\n",
       "    </tr>\n",
       "  </tbody>\n",
       "</table>\n",
       "</div>"
      ],
      "text/plain": [
       "   uid   iid  r_ui       est                    details\n",
       "0    1  2011  None  2.943044  {'was_impossible': False}\n",
       "1    1  4144  None  4.168057  {'was_impossible': False}\n",
       "2    1  5767  None  3.478484  {'was_impossible': False}"
      ]
     },
     "execution_count": 84,
     "metadata": {},
     "output_type": "execute_result"
    }
   ],
   "source": [
    "svd_data_prediction=pd.DataFrame(ratings)\n",
    "svd_data_prediction.head(3)"
   ]
  },
  {
   "cell_type": "code",
   "execution_count": 85,
   "metadata": {
    "execution": {
     "iopub.execute_input": "2023-07-21T22:28:50.781775Z",
     "iopub.status.busy": "2023-07-21T22:28:50.781210Z",
     "iopub.status.idle": "2023-07-21T22:28:51.156382Z",
     "shell.execute_reply": "2023-07-21T22:28:51.154598Z",
     "shell.execute_reply.started": "2023-07-21T22:28:50.781731Z"
    }
   },
   "outputs": [
    {
     "data": {
      "text/html": [
       "<div>\n",
       "<style scoped>\n",
       "    .dataframe tbody tr th:only-of-type {\n",
       "        vertical-align: middle;\n",
       "    }\n",
       "\n",
       "    .dataframe tbody tr th {\n",
       "        vertical-align: top;\n",
       "    }\n",
       "\n",
       "    .dataframe thead th {\n",
       "        text-align: right;\n",
       "    }\n",
       "</style>\n",
       "<table border=\"1\" class=\"dataframe\">\n",
       "  <thead>\n",
       "    <tr style=\"text-align: right;\">\n",
       "      <th></th>\n",
       "      <th>userId</th>\n",
       "      <th>movieId</th>\n",
       "      <th>rating</th>\n",
       "    </tr>\n",
       "  </thead>\n",
       "  <tbody>\n",
       "    <tr>\n",
       "      <th>0</th>\n",
       "      <td>1</td>\n",
       "      <td>2011</td>\n",
       "      <td>2.943044</td>\n",
       "    </tr>\n",
       "    <tr>\n",
       "      <th>1</th>\n",
       "      <td>1</td>\n",
       "      <td>4144</td>\n",
       "      <td>4.168057</td>\n",
       "    </tr>\n",
       "    <tr>\n",
       "      <th>2</th>\n",
       "      <td>1</td>\n",
       "      <td>5767</td>\n",
       "      <td>3.478484</td>\n",
       "    </tr>\n",
       "  </tbody>\n",
       "</table>\n",
       "</div>"
      ],
      "text/plain": [
       "   userId  movieId    rating\n",
       "0       1     2011  2.943044\n",
       "1       1     4144  4.168057\n",
       "2       1     5767  3.478484"
      ]
     },
     "execution_count": 85,
     "metadata": {},
     "output_type": "execute_result"
    }
   ],
   "source": [
    "svd_data_prediction=svd_data_prediction.rename(columns={'uid':'userId', 'iid':'movieId','est':'rating'})\n",
    "svd_data_prediction.drop(['r_ui','details'],axis=1,inplace=True)\n",
    "svd_data_prediction.head(3)"
   ]
  },
  {
   "cell_type": "code",
   "execution_count": 86,
   "metadata": {
    "execution": {
     "iopub.execute_input": "2023-07-21T22:30:10.832327Z",
     "iopub.status.busy": "2023-07-21T22:30:10.831861Z",
     "iopub.status.idle": "2023-07-21T22:33:14.085296Z",
     "shell.execute_reply": "2023-07-21T22:33:14.083493Z",
     "shell.execute_reply.started": "2023-07-21T22:30:10.832294Z"
    }
   },
   "outputs": [
    {
     "data": {
      "text/html": [
       "<div>\n",
       "<style scoped>\n",
       "    .dataframe tbody tr th:only-of-type {\n",
       "        vertical-align: middle;\n",
       "    }\n",
       "\n",
       "    .dataframe tbody tr th {\n",
       "        vertical-align: top;\n",
       "    }\n",
       "\n",
       "    .dataframe thead th {\n",
       "        text-align: right;\n",
       "    }\n",
       "</style>\n",
       "<table border=\"1\" class=\"dataframe\">\n",
       "  <thead>\n",
       "    <tr style=\"text-align: right;\">\n",
       "      <th></th>\n",
       "      <th>userId</th>\n",
       "      <th>movieId</th>\n",
       "      <th>rating</th>\n",
       "      <th>Id</th>\n",
       "    </tr>\n",
       "  </thead>\n",
       "  <tbody>\n",
       "    <tr>\n",
       "      <th>0</th>\n",
       "      <td>1</td>\n",
       "      <td>2011</td>\n",
       "      <td>2.943044</td>\n",
       "      <td>1_2011</td>\n",
       "    </tr>\n",
       "    <tr>\n",
       "      <th>1</th>\n",
       "      <td>1</td>\n",
       "      <td>4144</td>\n",
       "      <td>4.168057</td>\n",
       "      <td>1_4144</td>\n",
       "    </tr>\n",
       "    <tr>\n",
       "      <th>2</th>\n",
       "      <td>1</td>\n",
       "      <td>5767</td>\n",
       "      <td>3.478484</td>\n",
       "      <td>1_5767</td>\n",
       "    </tr>\n",
       "  </tbody>\n",
       "</table>\n",
       "</div>"
      ],
      "text/plain": [
       "   userId  movieId    rating      Id\n",
       "0       1     2011  2.943044  1_2011\n",
       "1       1     4144  4.168057  1_4144\n",
       "2       1     5767  3.478484  1_5767"
      ]
     },
     "execution_count": 86,
     "metadata": {},
     "output_type": "execute_result"
    }
   ],
   "source": [
    "svd_data_prediction['Id']=svd_data_prediction.apply(lambda x:'%s_%s' % (x['userId'],x['movieId']),axis=1)\n",
    "svd_data_prediction['Id']=svd_data_prediction.apply(lambda x:'%s_%s' % (x['userId'],x['movieId']),axis=1)\n",
    "svd_data_prediction.head(3)"
   ]
  },
  {
   "cell_type": "code",
   "execution_count": null,
   "metadata": {},
   "outputs": [],
   "source": [
    "svd_data_prediction.drop(['userId', 'movieId'], inplace=True, axis= 1)"
   ]
  },
  {
   "cell_type": "code",
   "execution_count": 93,
   "metadata": {
    "execution": {
     "iopub.execute_input": "2023-07-21T22:35:53.411895Z",
     "iopub.status.busy": "2023-07-21T22:35:53.410271Z",
     "iopub.status.idle": "2023-07-21T22:35:53.544101Z",
     "shell.execute_reply": "2023-07-21T22:35:53.542658Z",
     "shell.execute_reply.started": "2023-07-21T22:35:53.411839Z"
    }
   },
   "outputs": [
    {
     "data": {
      "text/html": [
       "<div>\n",
       "<style scoped>\n",
       "    .dataframe tbody tr th:only-of-type {\n",
       "        vertical-align: middle;\n",
       "    }\n",
       "\n",
       "    .dataframe tbody tr th {\n",
       "        vertical-align: top;\n",
       "    }\n",
       "\n",
       "    .dataframe thead th {\n",
       "        text-align: right;\n",
       "    }\n",
       "</style>\n",
       "<table border=\"1\" class=\"dataframe\">\n",
       "  <thead>\n",
       "    <tr style=\"text-align: right;\">\n",
       "      <th></th>\n",
       "      <th>Id</th>\n",
       "      <th>rating</th>\n",
       "    </tr>\n",
       "  </thead>\n",
       "  <tbody>\n",
       "    <tr>\n",
       "      <th>0</th>\n",
       "      <td>1_2011</td>\n",
       "      <td>2.943044</td>\n",
       "    </tr>\n",
       "    <tr>\n",
       "      <th>1</th>\n",
       "      <td>1_4144</td>\n",
       "      <td>4.168057</td>\n",
       "    </tr>\n",
       "  </tbody>\n",
       "</table>\n",
       "</div>"
      ],
      "text/plain": [
       "       Id    rating\n",
       "0  1_2011  2.943044\n",
       "1  1_4144  4.168057"
      ]
     },
     "execution_count": 93,
     "metadata": {},
     "output_type": "execute_result"
    }
   ],
   "source": [
    "svd_data_prediction = svd_data_prediction[['Id', 'rating']]\n",
    "svd_data_prediction.head(2)"
   ]
  },
  {
   "cell_type": "code",
   "execution_count": 91,
   "metadata": {
    "execution": {
     "iopub.execute_input": "2023-07-21T22:34:50.349517Z",
     "iopub.status.busy": "2023-07-21T22:34:50.348711Z",
     "iopub.status.idle": "2023-07-21T22:34:50.358628Z",
     "shell.execute_reply": "2023-07-21T22:34:50.356918Z",
     "shell.execute_reply.started": "2023-07-21T22:34:50.349470Z"
    }
   },
   "outputs": [
    {
     "data": {
      "text/plain": [
       "(5000019, 2)"
      ]
     },
     "execution_count": 91,
     "metadata": {},
     "output_type": "execute_result"
    }
   ],
   "source": [
    "svd_data_prediction.shape"
   ]
  },
  {
   "cell_type": "code",
   "execution_count": 95,
   "metadata": {
    "execution": {
     "iopub.execute_input": "2023-07-21T22:37:21.143614Z",
     "iopub.status.busy": "2023-07-21T22:37:21.143144Z",
     "iopub.status.idle": "2023-07-21T22:37:21.152948Z",
     "shell.execute_reply": "2023-07-21T22:37:21.151254Z",
     "shell.execute_reply.started": "2023-07-21T22:37:21.143577Z"
    }
   },
   "outputs": [],
   "source": [
    "experiment.log_metric(\"RMSE\", rmse)"
   ]
  },
  {
   "cell_type": "code",
   "execution_count": 96,
   "metadata": {
    "execution": {
     "iopub.execute_input": "2023-07-21T22:38:22.255777Z",
     "iopub.status.busy": "2023-07-21T22:38:22.255250Z",
     "iopub.status.idle": "2023-07-21T22:38:43.150320Z",
     "shell.execute_reply": "2023-07-21T22:38:43.148818Z",
     "shell.execute_reply.started": "2023-07-21T22:38:22.255739Z"
    }
   },
   "outputs": [],
   "source": [
    "import pickle\n",
    "model_path = \"svd.pkl\"\n",
    "with open(model_path, 'wb') as file:\n",
    "    pickle.dump(svd_model, file)"
   ]
  },
  {
   "cell_type": "code",
   "execution_count": 98,
   "metadata": {
    "execution": {
     "iopub.execute_input": "2023-07-21T22:42:10.180347Z",
     "iopub.status.busy": "2023-07-21T22:42:10.179886Z",
     "iopub.status.idle": "2023-07-21T22:42:32.941306Z",
     "shell.execute_reply": "2023-07-21T22:42:32.939973Z",
     "shell.execute_reply.started": "2023-07-21T22:42:10.180314Z"
    }
   },
   "outputs": [],
   "source": [
    "svd_data_prediction.to_csv(\"svd.csv\", index=False)"
   ]
  }
 ],
 "metadata": {
  "kernelspec": {
   "display_name": "Python 3 (ipykernel)",
   "language": "python",
   "name": "python3"
  },
  "language_info": {
   "codemirror_mode": {
    "name": "ipython",
    "version": 3
   },
   "file_extension": ".py",
   "mimetype": "text/x-python",
   "name": "python",
   "nbconvert_exporter": "python",
   "pygments_lexer": "ipython3",
   "version": "3.9.12"
  }
 },
 "nbformat": 4,
 "nbformat_minor": 4
}
